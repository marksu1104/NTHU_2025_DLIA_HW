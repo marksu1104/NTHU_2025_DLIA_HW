{
 "cells": [
  {
   "cell_type": "markdown",
   "id": "609dcb62-c2f8-4c6d-9c89-63dc0148a87c",
   "metadata": {
    "id": "609dcb62-c2f8-4c6d-9c89-63dc0148a87c"
   },
   "source": [
    "<div align=\"center\">\n",
    "\n",
    "###### Lab 2\n",
    "\n",
    "# National Tsing Hua University\n",
    "\n",
    "#### Spring 2025\n",
    "\n",
    "#### 11320IEEM 513600\n",
    "\n",
    "#### Deep Learning and Industrial Applications\n",
    "    \n",
    "## Lab 2: Predicting Heart Disease with Deep Learning\n",
    "\n",
    "</div>"
   ]
  },
  {
   "cell_type": "markdown",
   "id": "061c22d2-eec4-40f4-866b-ccaa2d9a2963",
   "metadata": {
    "id": "061c22d2-eec4-40f4-866b-ccaa2d9a2963",
    "tags": []
   },
   "source": [
    "### Introduction\n",
    "\n",
    "In the realm of healthcare, early detection and accurate prediction of diseases play a crucial role in patient care and management. Heart disease remains one of the leading causes of mortality worldwide, making the development of effective diagnostic tools essential. This lab leverages deep learning to predict the presence of heart disease in patients using a subset of 14 key attributes from the Cleveland Heart Disease Database. The objective is to explore and apply deep learning techniques to distinguish between the presence and absence of heart disease based on clinical parameters.\n",
    "\n",
    "Throughout this lab, you'll engage with the following key activities:\n",
    "- Use [Pandas](https://pandas.pydata.org) to process the CSV files.\n",
    "- Use [PyTorch](https://pytorch.org) to build an Artificial Neural Network (ANN) to fit the dataset.\n",
    "- Evaluate the performance of the trained model to understand its accuracy.\n",
    "\n",
    "### Attribute Information\n",
    "\n",
    "1. age: Age of the patient in years\n",
    "2. sex: (Male/Female)\n",
    "3. cp: Chest pain type (4 types: low, medium, high, and severe)\n",
    "4. trestbps: Resting blood pressure\n",
    "5. chol: Serum cholesterol in mg/dl\n",
    "6. fbs: Fasting blood sugar > 120 mg/dl\n",
    "7. restecg: Resting electrocardiographic results (values 0,1,2)\n",
    "8. thalach: Maximum heart rate achieved\n",
    "9. exang: Exercise induced angina\n",
    "10. oldpeak: Oldpeak = ST depression induced by exercise relative to rest\n",
    "11. slope: The slope of the peak exercise ST segment\n",
    "12. ca: Number of major vessels (0-3) colored by fluoroscopy\n",
    "13. thal: 3 = normal; 6 = fixed defect; 7 = reversible defect\n",
    "14. target: target have disease or not (1=yes, 0=no)\n",
    "\n",
    "### References\n",
    "- [UCI Heart Disease Data](https://www.kaggle.com/datasets/redwankarimsony/heart-disease-data) for the dataset we use in this lab.\n"
   ]
  },
  {
   "cell_type": "markdown",
   "id": "ad594fc8-4989-40f3-b124-4550fe7df386",
   "metadata": {
    "id": "ad594fc8-4989-40f3-b124-4550fe7df386"
   },
   "source": [
    "## A. Checking and Preprocessing"
   ]
  },
  {
   "cell_type": "code",
   "execution_count": 3,
   "id": "42a3eafd-cbcd-4c56-82cb-83a0bfa2399e",
   "metadata": {
    "colab": {
     "base_uri": "https://localhost:8080/",
     "height": 424
    },
    "executionInfo": {
     "elapsed": 820,
     "status": "ok",
     "timestamp": 1742459869268,
     "user": {
      "displayName": "林明聰",
      "userId": "10350944269371174646"
     },
     "user_tz": -480
    },
    "id": "42a3eafd-cbcd-4c56-82cb-83a0bfa2399e",
    "outputId": "7738e53e-1638-4a0b-9593-28218b70b5d7"
   },
   "outputs": [
    {
     "data": {
      "text/html": [
       "<div>\n",
       "<style scoped>\n",
       "    .dataframe tbody tr th:only-of-type {\n",
       "        vertical-align: middle;\n",
       "    }\n",
       "\n",
       "    .dataframe tbody tr th {\n",
       "        vertical-align: top;\n",
       "    }\n",
       "\n",
       "    .dataframe thead th {\n",
       "        text-align: right;\n",
       "    }\n",
       "</style>\n",
       "<table border=\"1\" class=\"dataframe\">\n",
       "  <thead>\n",
       "    <tr style=\"text-align: right;\">\n",
       "      <th></th>\n",
       "      <th>age</th>\n",
       "      <th>sex</th>\n",
       "      <th>cp</th>\n",
       "      <th>trestbps</th>\n",
       "      <th>chol</th>\n",
       "      <th>fbs</th>\n",
       "      <th>restecg</th>\n",
       "      <th>thalach</th>\n",
       "      <th>exang</th>\n",
       "      <th>oldpeak</th>\n",
       "      <th>slope</th>\n",
       "      <th>ca</th>\n",
       "      <th>thal</th>\n",
       "      <th>target</th>\n",
       "    </tr>\n",
       "  </thead>\n",
       "  <tbody>\n",
       "    <tr>\n",
       "      <th>0</th>\n",
       "      <td>41</td>\n",
       "      <td>Male</td>\n",
       "      <td>medium</td>\n",
       "      <td>105.0</td>\n",
       "      <td>198.0</td>\n",
       "      <td>0</td>\n",
       "      <td>1.0</td>\n",
       "      <td>168.0</td>\n",
       "      <td>0</td>\n",
       "      <td>0.0</td>\n",
       "      <td>2.0</td>\n",
       "      <td>1</td>\n",
       "      <td>2.0</td>\n",
       "      <td>1.0</td>\n",
       "    </tr>\n",
       "    <tr>\n",
       "      <th>1</th>\n",
       "      <td>65</td>\n",
       "      <td>Female</td>\n",
       "      <td>low</td>\n",
       "      <td>120.0</td>\n",
       "      <td>177.0</td>\n",
       "      <td>0</td>\n",
       "      <td>1.0</td>\n",
       "      <td>140.0</td>\n",
       "      <td>0</td>\n",
       "      <td>0.4</td>\n",
       "      <td>2.0</td>\n",
       "      <td>0</td>\n",
       "      <td>3.0</td>\n",
       "      <td>1.0</td>\n",
       "    </tr>\n",
       "    <tr>\n",
       "      <th>2</th>\n",
       "      <td>44</td>\n",
       "      <td>Female</td>\n",
       "      <td>medium</td>\n",
       "      <td>130.0</td>\n",
       "      <td>219.0</td>\n",
       "      <td>0</td>\n",
       "      <td>0.0</td>\n",
       "      <td>188.0</td>\n",
       "      <td>0</td>\n",
       "      <td>0.0</td>\n",
       "      <td>2.0</td>\n",
       "      <td>0</td>\n",
       "      <td>2.0</td>\n",
       "      <td>1.0</td>\n",
       "    </tr>\n",
       "    <tr>\n",
       "      <th>3</th>\n",
       "      <td>54</td>\n",
       "      <td>Female</td>\n",
       "      <td>high</td>\n",
       "      <td>125.0</td>\n",
       "      <td>273.0</td>\n",
       "      <td>0</td>\n",
       "      <td>0.0</td>\n",
       "      <td>152.0</td>\n",
       "      <td>0</td>\n",
       "      <td>0.5</td>\n",
       "      <td>0.0</td>\n",
       "      <td>1</td>\n",
       "      <td>2.0</td>\n",
       "      <td>1.0</td>\n",
       "    </tr>\n",
       "    <tr>\n",
       "      <th>4</th>\n",
       "      <td>51</td>\n",
       "      <td>Female</td>\n",
       "      <td>severe</td>\n",
       "      <td>125.0</td>\n",
       "      <td>213.0</td>\n",
       "      <td>0</td>\n",
       "      <td>0.0</td>\n",
       "      <td>125.0</td>\n",
       "      <td>1</td>\n",
       "      <td>1.4</td>\n",
       "      <td>2.0</td>\n",
       "      <td>1</td>\n",
       "      <td>2.0</td>\n",
       "      <td>1.0</td>\n",
       "    </tr>\n",
       "    <tr>\n",
       "      <th>...</th>\n",
       "      <td>...</td>\n",
       "      <td>...</td>\n",
       "      <td>...</td>\n",
       "      <td>...</td>\n",
       "      <td>...</td>\n",
       "      <td>...</td>\n",
       "      <td>...</td>\n",
       "      <td>...</td>\n",
       "      <td>...</td>\n",
       "      <td>...</td>\n",
       "      <td>...</td>\n",
       "      <td>...</td>\n",
       "      <td>...</td>\n",
       "      <td>...</td>\n",
       "    </tr>\n",
       "    <tr>\n",
       "      <th>268</th>\n",
       "      <td>40</td>\n",
       "      <td>Female</td>\n",
       "      <td>low</td>\n",
       "      <td>110.0</td>\n",
       "      <td>167.0</td>\n",
       "      <td>0</td>\n",
       "      <td>0.0</td>\n",
       "      <td>114.0</td>\n",
       "      <td>1</td>\n",
       "      <td>2.0</td>\n",
       "      <td>1.0</td>\n",
       "      <td>0</td>\n",
       "      <td>3.0</td>\n",
       "      <td>0.0</td>\n",
       "    </tr>\n",
       "    <tr>\n",
       "      <th>269</th>\n",
       "      <td>60</td>\n",
       "      <td>Female</td>\n",
       "      <td>low</td>\n",
       "      <td>117.0</td>\n",
       "      <td>230.0</td>\n",
       "      <td>1</td>\n",
       "      <td>1.0</td>\n",
       "      <td>160.0</td>\n",
       "      <td>1</td>\n",
       "      <td>1.4</td>\n",
       "      <td>2.0</td>\n",
       "      <td>2</td>\n",
       "      <td>3.0</td>\n",
       "      <td>0.0</td>\n",
       "    </tr>\n",
       "    <tr>\n",
       "      <th>270</th>\n",
       "      <td>64</td>\n",
       "      <td>Female</td>\n",
       "      <td>high</td>\n",
       "      <td>140.0</td>\n",
       "      <td>335.0</td>\n",
       "      <td>0</td>\n",
       "      <td>1.0</td>\n",
       "      <td>158.0</td>\n",
       "      <td>0</td>\n",
       "      <td>0.0</td>\n",
       "      <td>2.0</td>\n",
       "      <td>0</td>\n",
       "      <td>2.0</td>\n",
       "      <td>0.0</td>\n",
       "    </tr>\n",
       "    <tr>\n",
       "      <th>271</th>\n",
       "      <td>43</td>\n",
       "      <td>Female</td>\n",
       "      <td>low</td>\n",
       "      <td>120.0</td>\n",
       "      <td>177.0</td>\n",
       "      <td>0</td>\n",
       "      <td>0.0</td>\n",
       "      <td>120.0</td>\n",
       "      <td>1</td>\n",
       "      <td>2.5</td>\n",
       "      <td>1.0</td>\n",
       "      <td>0</td>\n",
       "      <td>3.0</td>\n",
       "      <td>0.0</td>\n",
       "    </tr>\n",
       "    <tr>\n",
       "      <th>272</th>\n",
       "      <td>57</td>\n",
       "      <td>Female</td>\n",
       "      <td>low</td>\n",
       "      <td>150.0</td>\n",
       "      <td>276.0</td>\n",
       "      <td>0</td>\n",
       "      <td>0.0</td>\n",
       "      <td>112.0</td>\n",
       "      <td>1</td>\n",
       "      <td>0.6</td>\n",
       "      <td>1.0</td>\n",
       "      <td>1</td>\n",
       "      <td>1.0</td>\n",
       "      <td>0.0</td>\n",
       "    </tr>\n",
       "  </tbody>\n",
       "</table>\n",
       "<p>273 rows × 14 columns</p>\n",
       "</div>"
      ],
      "text/plain": [
       "     age     sex      cp  trestbps   chol  fbs  restecg  thalach  exang  \\\n",
       "0     41    Male  medium     105.0  198.0    0      1.0    168.0      0   \n",
       "1     65  Female     low     120.0  177.0    0      1.0    140.0      0   \n",
       "2     44  Female  medium     130.0  219.0    0      0.0    188.0      0   \n",
       "3     54  Female    high     125.0  273.0    0      0.0    152.0      0   \n",
       "4     51  Female  severe     125.0  213.0    0      0.0    125.0      1   \n",
       "..   ...     ...     ...       ...    ...  ...      ...      ...    ...   \n",
       "268   40  Female     low     110.0  167.0    0      0.0    114.0      1   \n",
       "269   60  Female     low     117.0  230.0    1      1.0    160.0      1   \n",
       "270   64  Female    high     140.0  335.0    0      1.0    158.0      0   \n",
       "271   43  Female     low     120.0  177.0    0      0.0    120.0      1   \n",
       "272   57  Female     low     150.0  276.0    0      0.0    112.0      1   \n",
       "\n",
       "     oldpeak  slope  ca  thal  target  \n",
       "0        0.0    2.0   1   2.0     1.0  \n",
       "1        0.4    2.0   0   3.0     1.0  \n",
       "2        0.0    2.0   0   2.0     1.0  \n",
       "3        0.5    0.0   1   2.0     1.0  \n",
       "4        1.4    2.0   1   2.0     1.0  \n",
       "..       ...    ...  ..   ...     ...  \n",
       "268      2.0    1.0   0   3.0     0.0  \n",
       "269      1.4    2.0   2   3.0     0.0  \n",
       "270      0.0    2.0   0   2.0     0.0  \n",
       "271      2.5    1.0   0   3.0     0.0  \n",
       "272      0.6    1.0   1   1.0     0.0  \n",
       "\n",
       "[273 rows x 14 columns]"
      ]
     },
     "execution_count": 3,
     "metadata": {},
     "output_type": "execute_result"
    }
   ],
   "source": [
    "import pandas as pd\n",
    "\n",
    "df = pd.read_csv('heart_dataset_train_all.csv')\n",
    "df"
   ]
  },
  {
   "cell_type": "code",
   "execution_count": 4,
   "id": "34241797-60f0-4818-a44b-f5379948d621",
   "metadata": {
    "colab": {
     "base_uri": "https://localhost:8080/"
    },
    "executionInfo": {
     "elapsed": 10,
     "status": "ok",
     "timestamp": 1742459872390,
     "user": {
      "displayName": "林明聰",
      "userId": "10350944269371174646"
     },
     "user_tz": -480
    },
    "id": "34241797-60f0-4818-a44b-f5379948d621",
    "outputId": "8e99d293-0074-4a5f-b54f-194c950b1aa8"
   },
   "outputs": [
    {
     "data": {
      "text/plain": [
       "Index(['age', 'sex', 'cp', 'trestbps', 'chol', 'fbs', 'restecg', 'thalach',\n",
       "       'exang', 'oldpeak', 'slope', 'ca', 'thal', 'target'],\n",
       "      dtype='object')"
      ]
     },
     "execution_count": 4,
     "metadata": {},
     "output_type": "execute_result"
    }
   ],
   "source": [
    "df.columns"
   ]
  },
  {
   "cell_type": "code",
   "execution_count": 5,
   "id": "026585db-a6d8-4062-85de-e3a7eaebed72",
   "metadata": {
    "colab": {
     "base_uri": "https://localhost:8080/"
    },
    "executionInfo": {
     "elapsed": 40,
     "status": "ok",
     "timestamp": 1742459876545,
     "user": {
      "displayName": "林明聰",
      "userId": "10350944269371174646"
     },
     "user_tz": -480
    },
    "id": "026585db-a6d8-4062-85de-e3a7eaebed72",
    "outputId": "917b0427-e824-4216-d399-210a3f371b4c"
   },
   "outputs": [
    {
     "name": "stdout",
     "output_type": "stream",
     "text": [
      "<class 'pandas.core.frame.DataFrame'>\n",
      "RangeIndex: 273 entries, 0 to 272\n",
      "Data columns (total 14 columns):\n",
      " #   Column    Non-Null Count  Dtype  \n",
      "---  ------    --------------  -----  \n",
      " 0   age       273 non-null    int64  \n",
      " 1   sex       272 non-null    object \n",
      " 2   cp        272 non-null    object \n",
      " 3   trestbps  272 non-null    float64\n",
      " 4   chol      271 non-null    float64\n",
      " 5   fbs       273 non-null    int64  \n",
      " 6   restecg   272 non-null    float64\n",
      " 7   thalach   272 non-null    float64\n",
      " 8   exang     273 non-null    int64  \n",
      " 9   oldpeak   273 non-null    float64\n",
      " 10  slope     271 non-null    float64\n",
      " 11  ca        273 non-null    int64  \n",
      " 12  thal      272 non-null    float64\n",
      " 13  target    272 non-null    float64\n",
      "dtypes: float64(8), int64(4), object(2)\n",
      "memory usage: 30.0+ KB\n"
     ]
    }
   ],
   "source": [
    "df.info()"
   ]
  },
  {
   "cell_type": "code",
   "execution_count": 6,
   "id": "69031e6d-0fb5-49d9-b723-a0d1fee08c3c",
   "metadata": {
    "colab": {
     "base_uri": "https://localhost:8080/",
     "height": 523
    },
    "executionInfo": {
     "elapsed": 8,
     "status": "ok",
     "timestamp": 1742459880934,
     "user": {
      "displayName": "林明聰",
      "userId": "10350944269371174646"
     },
     "user_tz": -480
    },
    "id": "69031e6d-0fb5-49d9-b723-a0d1fee08c3c",
    "outputId": "1e2c63dc-7d17-4a67-b520-066e4e2d543f"
   },
   "outputs": [
    {
     "data": {
      "text/plain": [
       "age         0\n",
       "sex         1\n",
       "cp          1\n",
       "trestbps    1\n",
       "chol        2\n",
       "fbs         0\n",
       "restecg     1\n",
       "thalach     1\n",
       "exang       0\n",
       "oldpeak     0\n",
       "slope       2\n",
       "ca          0\n",
       "thal        1\n",
       "target      1\n",
       "dtype: int64"
      ]
     },
     "execution_count": 6,
     "metadata": {},
     "output_type": "execute_result"
    }
   ],
   "source": [
    "# checking for null values\n",
    "df.isnull().sum()"
   ]
  },
  {
   "cell_type": "code",
   "execution_count": 7,
   "id": "cb3090f8-2cfa-4f56-8aa5-cf954bb19932",
   "metadata": {
    "executionInfo": {
     "elapsed": 1,
     "status": "ok",
     "timestamp": 1742459884914,
     "user": {
      "displayName": "林明聰",
      "userId": "10350944269371174646"
     },
     "user_tz": -480
    },
    "id": "cb3090f8-2cfa-4f56-8aa5-cf954bb19932"
   },
   "outputs": [],
   "source": [
    "df = df.dropna()"
   ]
  },
  {
   "cell_type": "code",
   "execution_count": 8,
   "id": "38aadbee-d68f-4ae0-b842-b40800b0cac9",
   "metadata": {
    "colab": {
     "base_uri": "https://localhost:8080/"
    },
    "executionInfo": {
     "elapsed": 12,
     "status": "ok",
     "timestamp": 1742459887745,
     "user": {
      "displayName": "林明聰",
      "userId": "10350944269371174646"
     },
     "user_tz": -480
    },
    "id": "38aadbee-d68f-4ae0-b842-b40800b0cac9",
    "outputId": "003a8e11-f0f8-497c-ad83-d86d5ca64d58"
   },
   "outputs": [
    {
     "data": {
      "text/plain": [
       "(270, 14)"
      ]
     },
     "execution_count": 8,
     "metadata": {},
     "output_type": "execute_result"
    }
   ],
   "source": [
    "df.shape"
   ]
  },
  {
   "cell_type": "code",
   "execution_count": 9,
   "id": "26a69fd5-3534-4d8e-b59a-6778bf47a479",
   "metadata": {
    "colab": {
     "base_uri": "https://localhost:8080/",
     "height": 424
    },
    "executionInfo": {
     "elapsed": 39,
     "status": "ok",
     "timestamp": 1742459890842,
     "user": {
      "displayName": "林明聰",
      "userId": "10350944269371174646"
     },
     "user_tz": -480
    },
    "id": "26a69fd5-3534-4d8e-b59a-6778bf47a479",
    "outputId": "e1cb7ec5-4b02-41d0-f803-ce0609093ce8"
   },
   "outputs": [
    {
     "data": {
      "text/html": [
       "<div>\n",
       "<style scoped>\n",
       "    .dataframe tbody tr th:only-of-type {\n",
       "        vertical-align: middle;\n",
       "    }\n",
       "\n",
       "    .dataframe tbody tr th {\n",
       "        vertical-align: top;\n",
       "    }\n",
       "\n",
       "    .dataframe thead th {\n",
       "        text-align: right;\n",
       "    }\n",
       "</style>\n",
       "<table border=\"1\" class=\"dataframe\">\n",
       "  <thead>\n",
       "    <tr style=\"text-align: right;\">\n",
       "      <th></th>\n",
       "      <th>age</th>\n",
       "      <th>sex</th>\n",
       "      <th>cp</th>\n",
       "      <th>trestbps</th>\n",
       "      <th>chol</th>\n",
       "      <th>fbs</th>\n",
       "      <th>restecg</th>\n",
       "      <th>thalach</th>\n",
       "      <th>exang</th>\n",
       "      <th>oldpeak</th>\n",
       "      <th>slope</th>\n",
       "      <th>ca</th>\n",
       "      <th>thal</th>\n",
       "      <th>target</th>\n",
       "    </tr>\n",
       "  </thead>\n",
       "  <tbody>\n",
       "    <tr>\n",
       "      <th>0</th>\n",
       "      <td>41</td>\n",
       "      <td>0</td>\n",
       "      <td>1</td>\n",
       "      <td>105.0</td>\n",
       "      <td>198.0</td>\n",
       "      <td>0</td>\n",
       "      <td>1.0</td>\n",
       "      <td>168.0</td>\n",
       "      <td>0</td>\n",
       "      <td>0.0</td>\n",
       "      <td>2.0</td>\n",
       "      <td>1</td>\n",
       "      <td>2.0</td>\n",
       "      <td>1.0</td>\n",
       "    </tr>\n",
       "    <tr>\n",
       "      <th>1</th>\n",
       "      <td>65</td>\n",
       "      <td>1</td>\n",
       "      <td>0</td>\n",
       "      <td>120.0</td>\n",
       "      <td>177.0</td>\n",
       "      <td>0</td>\n",
       "      <td>1.0</td>\n",
       "      <td>140.0</td>\n",
       "      <td>0</td>\n",
       "      <td>0.4</td>\n",
       "      <td>2.0</td>\n",
       "      <td>0</td>\n",
       "      <td>3.0</td>\n",
       "      <td>1.0</td>\n",
       "    </tr>\n",
       "    <tr>\n",
       "      <th>2</th>\n",
       "      <td>44</td>\n",
       "      <td>1</td>\n",
       "      <td>1</td>\n",
       "      <td>130.0</td>\n",
       "      <td>219.0</td>\n",
       "      <td>0</td>\n",
       "      <td>0.0</td>\n",
       "      <td>188.0</td>\n",
       "      <td>0</td>\n",
       "      <td>0.0</td>\n",
       "      <td>2.0</td>\n",
       "      <td>0</td>\n",
       "      <td>2.0</td>\n",
       "      <td>1.0</td>\n",
       "    </tr>\n",
       "    <tr>\n",
       "      <th>3</th>\n",
       "      <td>54</td>\n",
       "      <td>1</td>\n",
       "      <td>2</td>\n",
       "      <td>125.0</td>\n",
       "      <td>273.0</td>\n",
       "      <td>0</td>\n",
       "      <td>0.0</td>\n",
       "      <td>152.0</td>\n",
       "      <td>0</td>\n",
       "      <td>0.5</td>\n",
       "      <td>0.0</td>\n",
       "      <td>1</td>\n",
       "      <td>2.0</td>\n",
       "      <td>1.0</td>\n",
       "    </tr>\n",
       "    <tr>\n",
       "      <th>4</th>\n",
       "      <td>51</td>\n",
       "      <td>1</td>\n",
       "      <td>3</td>\n",
       "      <td>125.0</td>\n",
       "      <td>213.0</td>\n",
       "      <td>0</td>\n",
       "      <td>0.0</td>\n",
       "      <td>125.0</td>\n",
       "      <td>1</td>\n",
       "      <td>1.4</td>\n",
       "      <td>2.0</td>\n",
       "      <td>1</td>\n",
       "      <td>2.0</td>\n",
       "      <td>1.0</td>\n",
       "    </tr>\n",
       "    <tr>\n",
       "      <th>...</th>\n",
       "      <td>...</td>\n",
       "      <td>...</td>\n",
       "      <td>...</td>\n",
       "      <td>...</td>\n",
       "      <td>...</td>\n",
       "      <td>...</td>\n",
       "      <td>...</td>\n",
       "      <td>...</td>\n",
       "      <td>...</td>\n",
       "      <td>...</td>\n",
       "      <td>...</td>\n",
       "      <td>...</td>\n",
       "      <td>...</td>\n",
       "      <td>...</td>\n",
       "    </tr>\n",
       "    <tr>\n",
       "      <th>268</th>\n",
       "      <td>40</td>\n",
       "      <td>1</td>\n",
       "      <td>0</td>\n",
       "      <td>110.0</td>\n",
       "      <td>167.0</td>\n",
       "      <td>0</td>\n",
       "      <td>0.0</td>\n",
       "      <td>114.0</td>\n",
       "      <td>1</td>\n",
       "      <td>2.0</td>\n",
       "      <td>1.0</td>\n",
       "      <td>0</td>\n",
       "      <td>3.0</td>\n",
       "      <td>0.0</td>\n",
       "    </tr>\n",
       "    <tr>\n",
       "      <th>269</th>\n",
       "      <td>60</td>\n",
       "      <td>1</td>\n",
       "      <td>0</td>\n",
       "      <td>117.0</td>\n",
       "      <td>230.0</td>\n",
       "      <td>1</td>\n",
       "      <td>1.0</td>\n",
       "      <td>160.0</td>\n",
       "      <td>1</td>\n",
       "      <td>1.4</td>\n",
       "      <td>2.0</td>\n",
       "      <td>2</td>\n",
       "      <td>3.0</td>\n",
       "      <td>0.0</td>\n",
       "    </tr>\n",
       "    <tr>\n",
       "      <th>270</th>\n",
       "      <td>64</td>\n",
       "      <td>1</td>\n",
       "      <td>2</td>\n",
       "      <td>140.0</td>\n",
       "      <td>335.0</td>\n",
       "      <td>0</td>\n",
       "      <td>1.0</td>\n",
       "      <td>158.0</td>\n",
       "      <td>0</td>\n",
       "      <td>0.0</td>\n",
       "      <td>2.0</td>\n",
       "      <td>0</td>\n",
       "      <td>2.0</td>\n",
       "      <td>0.0</td>\n",
       "    </tr>\n",
       "    <tr>\n",
       "      <th>271</th>\n",
       "      <td>43</td>\n",
       "      <td>1</td>\n",
       "      <td>0</td>\n",
       "      <td>120.0</td>\n",
       "      <td>177.0</td>\n",
       "      <td>0</td>\n",
       "      <td>0.0</td>\n",
       "      <td>120.0</td>\n",
       "      <td>1</td>\n",
       "      <td>2.5</td>\n",
       "      <td>1.0</td>\n",
       "      <td>0</td>\n",
       "      <td>3.0</td>\n",
       "      <td>0.0</td>\n",
       "    </tr>\n",
       "    <tr>\n",
       "      <th>272</th>\n",
       "      <td>57</td>\n",
       "      <td>1</td>\n",
       "      <td>0</td>\n",
       "      <td>150.0</td>\n",
       "      <td>276.0</td>\n",
       "      <td>0</td>\n",
       "      <td>0.0</td>\n",
       "      <td>112.0</td>\n",
       "      <td>1</td>\n",
       "      <td>0.6</td>\n",
       "      <td>1.0</td>\n",
       "      <td>1</td>\n",
       "      <td>1.0</td>\n",
       "      <td>0.0</td>\n",
       "    </tr>\n",
       "  </tbody>\n",
       "</table>\n",
       "<p>270 rows × 14 columns</p>\n",
       "</div>"
      ],
      "text/plain": [
       "     age sex cp  trestbps   chol  fbs  restecg  thalach  exang  oldpeak  \\\n",
       "0     41   0  1     105.0  198.0    0      1.0    168.0      0      0.0   \n",
       "1     65   1  0     120.0  177.0    0      1.0    140.0      0      0.4   \n",
       "2     44   1  1     130.0  219.0    0      0.0    188.0      0      0.0   \n",
       "3     54   1  2     125.0  273.0    0      0.0    152.0      0      0.5   \n",
       "4     51   1  3     125.0  213.0    0      0.0    125.0      1      1.4   \n",
       "..   ...  .. ..       ...    ...  ...      ...      ...    ...      ...   \n",
       "268   40   1  0     110.0  167.0    0      0.0    114.0      1      2.0   \n",
       "269   60   1  0     117.0  230.0    1      1.0    160.0      1      1.4   \n",
       "270   64   1  2     140.0  335.0    0      1.0    158.0      0      0.0   \n",
       "271   43   1  0     120.0  177.0    0      0.0    120.0      1      2.5   \n",
       "272   57   1  0     150.0  276.0    0      0.0    112.0      1      0.6   \n",
       "\n",
       "     slope  ca  thal  target  \n",
       "0      2.0   1   2.0     1.0  \n",
       "1      2.0   0   3.0     1.0  \n",
       "2      2.0   0   2.0     1.0  \n",
       "3      0.0   1   2.0     1.0  \n",
       "4      2.0   1   2.0     1.0  \n",
       "..     ...  ..   ...     ...  \n",
       "268    1.0   0   3.0     0.0  \n",
       "269    2.0   2   3.0     0.0  \n",
       "270    2.0   0   2.0     0.0  \n",
       "271    1.0   0   3.0     0.0  \n",
       "272    1.0   1   1.0     0.0  \n",
       "\n",
       "[270 rows x 14 columns]"
      ]
     },
     "execution_count": 9,
     "metadata": {},
     "output_type": "execute_result"
    }
   ],
   "source": [
    "# Mapping 'sex' descriptions to numbers\n",
    "sex_description = {\n",
    "    'Male': 0,\n",
    "    'Female': 1,\n",
    "}\n",
    "df.loc[:, 'sex'] = df['sex'].map(sex_description)\n",
    "\n",
    "# Mapping 'cp' (chest pain) descriptions to numbers\n",
    "pain_description = {\n",
    "    'low': 0,\n",
    "    'medium': 1,\n",
    "    'high': 2,\n",
    "    'severe': 3\n",
    "}\n",
    "df.loc[:, 'cp'] = df['cp'].map(pain_description)\n",
    "\n",
    "df"
   ]
  },
  {
   "cell_type": "code",
   "execution_count": 10,
   "id": "051108c6-7011-4187-9e36-bd2944a019ca",
   "metadata": {
    "colab": {
     "base_uri": "https://localhost:8080/",
     "height": 320
    },
    "executionInfo": {
     "elapsed": 42,
     "status": "ok",
     "timestamp": 1742459894534,
     "user": {
      "displayName": "林明聰",
      "userId": "10350944269371174646"
     },
     "user_tz": -480
    },
    "id": "051108c6-7011-4187-9e36-bd2944a019ca",
    "outputId": "0c1fee4b-ea24-4f22-da93-4fed17fd1f39"
   },
   "outputs": [
    {
     "data": {
      "text/html": [
       "<div>\n",
       "<style scoped>\n",
       "    .dataframe tbody tr th:only-of-type {\n",
       "        vertical-align: middle;\n",
       "    }\n",
       "\n",
       "    .dataframe tbody tr th {\n",
       "        vertical-align: top;\n",
       "    }\n",
       "\n",
       "    .dataframe thead th {\n",
       "        text-align: right;\n",
       "    }\n",
       "</style>\n",
       "<table border=\"1\" class=\"dataframe\">\n",
       "  <thead>\n",
       "    <tr style=\"text-align: right;\">\n",
       "      <th></th>\n",
       "      <th>age</th>\n",
       "      <th>trestbps</th>\n",
       "      <th>chol</th>\n",
       "      <th>fbs</th>\n",
       "      <th>restecg</th>\n",
       "      <th>thalach</th>\n",
       "      <th>exang</th>\n",
       "      <th>oldpeak</th>\n",
       "      <th>slope</th>\n",
       "      <th>ca</th>\n",
       "      <th>thal</th>\n",
       "      <th>target</th>\n",
       "    </tr>\n",
       "  </thead>\n",
       "  <tbody>\n",
       "    <tr>\n",
       "      <th>count</th>\n",
       "      <td>270.000000</td>\n",
       "      <td>270.000000</td>\n",
       "      <td>270.000000</td>\n",
       "      <td>270.000000</td>\n",
       "      <td>270.000000</td>\n",
       "      <td>270.000000</td>\n",
       "      <td>270.000000</td>\n",
       "      <td>270.000000</td>\n",
       "      <td>270.000000</td>\n",
       "      <td>270.000000</td>\n",
       "      <td>270.000000</td>\n",
       "      <td>270.000000</td>\n",
       "    </tr>\n",
       "    <tr>\n",
       "      <th>mean</th>\n",
       "      <td>54.385185</td>\n",
       "      <td>131.525926</td>\n",
       "      <td>245.607407</td>\n",
       "      <td>0.151852</td>\n",
       "      <td>0.522222</td>\n",
       "      <td>149.807407</td>\n",
       "      <td>0.333333</td>\n",
       "      <td>1.024074</td>\n",
       "      <td>1.400000</td>\n",
       "      <td>0.744444</td>\n",
       "      <td>2.300000</td>\n",
       "      <td>0.544444</td>\n",
       "    </tr>\n",
       "    <tr>\n",
       "      <th>std</th>\n",
       "      <td>9.149713</td>\n",
       "      <td>17.904675</td>\n",
       "      <td>51.529411</td>\n",
       "      <td>0.359544</td>\n",
       "      <td>0.529314</td>\n",
       "      <td>23.217253</td>\n",
       "      <td>0.472280</td>\n",
       "      <td>1.188379</td>\n",
       "      <td>0.618188</td>\n",
       "      <td>1.037166</td>\n",
       "      <td>0.623874</td>\n",
       "      <td>0.498946</td>\n",
       "    </tr>\n",
       "    <tr>\n",
       "      <th>min</th>\n",
       "      <td>29.000000</td>\n",
       "      <td>94.000000</td>\n",
       "      <td>126.000000</td>\n",
       "      <td>0.000000</td>\n",
       "      <td>0.000000</td>\n",
       "      <td>71.000000</td>\n",
       "      <td>0.000000</td>\n",
       "      <td>0.000000</td>\n",
       "      <td>0.000000</td>\n",
       "      <td>0.000000</td>\n",
       "      <td>0.000000</td>\n",
       "      <td>0.000000</td>\n",
       "    </tr>\n",
       "    <tr>\n",
       "      <th>25%</th>\n",
       "      <td>47.250000</td>\n",
       "      <td>120.000000</td>\n",
       "      <td>210.250000</td>\n",
       "      <td>0.000000</td>\n",
       "      <td>0.000000</td>\n",
       "      <td>134.500000</td>\n",
       "      <td>0.000000</td>\n",
       "      <td>0.000000</td>\n",
       "      <td>1.000000</td>\n",
       "      <td>0.000000</td>\n",
       "      <td>2.000000</td>\n",
       "      <td>0.000000</td>\n",
       "    </tr>\n",
       "    <tr>\n",
       "      <th>50%</th>\n",
       "      <td>56.000000</td>\n",
       "      <td>130.000000</td>\n",
       "      <td>240.500000</td>\n",
       "      <td>0.000000</td>\n",
       "      <td>1.000000</td>\n",
       "      <td>152.500000</td>\n",
       "      <td>0.000000</td>\n",
       "      <td>0.600000</td>\n",
       "      <td>1.000000</td>\n",
       "      <td>0.000000</td>\n",
       "      <td>2.000000</td>\n",
       "      <td>1.000000</td>\n",
       "    </tr>\n",
       "    <tr>\n",
       "      <th>75%</th>\n",
       "      <td>61.000000</td>\n",
       "      <td>140.000000</td>\n",
       "      <td>274.000000</td>\n",
       "      <td>0.000000</td>\n",
       "      <td>1.000000</td>\n",
       "      <td>167.750000</td>\n",
       "      <td>1.000000</td>\n",
       "      <td>1.600000</td>\n",
       "      <td>2.000000</td>\n",
       "      <td>1.000000</td>\n",
       "      <td>3.000000</td>\n",
       "      <td>1.000000</td>\n",
       "    </tr>\n",
       "    <tr>\n",
       "      <th>max</th>\n",
       "      <td>77.000000</td>\n",
       "      <td>200.000000</td>\n",
       "      <td>564.000000</td>\n",
       "      <td>1.000000</td>\n",
       "      <td>2.000000</td>\n",
       "      <td>202.000000</td>\n",
       "      <td>1.000000</td>\n",
       "      <td>6.200000</td>\n",
       "      <td>2.000000</td>\n",
       "      <td>4.000000</td>\n",
       "      <td>3.000000</td>\n",
       "      <td>1.000000</td>\n",
       "    </tr>\n",
       "  </tbody>\n",
       "</table>\n",
       "</div>"
      ],
      "text/plain": [
       "              age    trestbps        chol         fbs     restecg     thalach  \\\n",
       "count  270.000000  270.000000  270.000000  270.000000  270.000000  270.000000   \n",
       "mean    54.385185  131.525926  245.607407    0.151852    0.522222  149.807407   \n",
       "std      9.149713   17.904675   51.529411    0.359544    0.529314   23.217253   \n",
       "min     29.000000   94.000000  126.000000    0.000000    0.000000   71.000000   \n",
       "25%     47.250000  120.000000  210.250000    0.000000    0.000000  134.500000   \n",
       "50%     56.000000  130.000000  240.500000    0.000000    1.000000  152.500000   \n",
       "75%     61.000000  140.000000  274.000000    0.000000    1.000000  167.750000   \n",
       "max     77.000000  200.000000  564.000000    1.000000    2.000000  202.000000   \n",
       "\n",
       "            exang     oldpeak       slope          ca        thal      target  \n",
       "count  270.000000  270.000000  270.000000  270.000000  270.000000  270.000000  \n",
       "mean     0.333333    1.024074    1.400000    0.744444    2.300000    0.544444  \n",
       "std      0.472280    1.188379    0.618188    1.037166    0.623874    0.498946  \n",
       "min      0.000000    0.000000    0.000000    0.000000    0.000000    0.000000  \n",
       "25%      0.000000    0.000000    1.000000    0.000000    2.000000    0.000000  \n",
       "50%      0.000000    0.600000    1.000000    0.000000    2.000000    1.000000  \n",
       "75%      1.000000    1.600000    2.000000    1.000000    3.000000    1.000000  \n",
       "max      1.000000    6.200000    2.000000    4.000000    3.000000    1.000000  "
      ]
     },
     "execution_count": 10,
     "metadata": {},
     "output_type": "execute_result"
    }
   ],
   "source": [
    "df.describe()"
   ]
  },
  {
   "cell_type": "code",
   "execution_count": 11,
   "id": "8b999df5-09a1-4ce2-b068-f1afba448ff8",
   "metadata": {
    "colab": {
     "base_uri": "https://localhost:8080/",
     "height": 508
    },
    "executionInfo": {
     "elapsed": 40,
     "status": "ok",
     "timestamp": 1742459896347,
     "user": {
      "displayName": "林明聰",
      "userId": "10350944269371174646"
     },
     "user_tz": -480
    },
    "id": "8b999df5-09a1-4ce2-b068-f1afba448ff8",
    "outputId": "a6cd327f-0679-4ccd-945c-77c271a885bb"
   },
   "outputs": [
    {
     "data": {
      "text/html": [
       "<div>\n",
       "<style scoped>\n",
       "    .dataframe tbody tr th:only-of-type {\n",
       "        vertical-align: middle;\n",
       "    }\n",
       "\n",
       "    .dataframe tbody tr th {\n",
       "        vertical-align: top;\n",
       "    }\n",
       "\n",
       "    .dataframe thead th {\n",
       "        text-align: right;\n",
       "    }\n",
       "</style>\n",
       "<table border=\"1\" class=\"dataframe\">\n",
       "  <thead>\n",
       "    <tr style=\"text-align: right;\">\n",
       "      <th></th>\n",
       "      <th>age</th>\n",
       "      <th>sex</th>\n",
       "      <th>cp</th>\n",
       "      <th>trestbps</th>\n",
       "      <th>chol</th>\n",
       "      <th>fbs</th>\n",
       "      <th>restecg</th>\n",
       "      <th>thalach</th>\n",
       "      <th>exang</th>\n",
       "      <th>oldpeak</th>\n",
       "      <th>slope</th>\n",
       "      <th>ca</th>\n",
       "      <th>thal</th>\n",
       "      <th>target</th>\n",
       "    </tr>\n",
       "  </thead>\n",
       "  <tbody>\n",
       "    <tr>\n",
       "      <th>age</th>\n",
       "      <td>1.000000</td>\n",
       "      <td>-0.062222</td>\n",
       "      <td>-0.103697</td>\n",
       "      <td>0.261782</td>\n",
       "      <td>0.210520</td>\n",
       "      <td>0.109847</td>\n",
       "      <td>-0.124588</td>\n",
       "      <td>-0.412624</td>\n",
       "      <td>0.111263</td>\n",
       "      <td>0.200243</td>\n",
       "      <td>-0.165360</td>\n",
       "      <td>0.254462</td>\n",
       "      <td>0.077368</td>\n",
       "      <td>-0.244798</td>\n",
       "    </tr>\n",
       "    <tr>\n",
       "      <th>sex</th>\n",
       "      <td>-0.062222</td>\n",
       "      <td>1.000000</td>\n",
       "      <td>-0.040197</td>\n",
       "      <td>-0.055463</td>\n",
       "      <td>-0.166885</td>\n",
       "      <td>0.042384</td>\n",
       "      <td>-0.069599</td>\n",
       "      <td>-0.058626</td>\n",
       "      <td>0.124054</td>\n",
       "      <td>0.089726</td>\n",
       "      <td>-0.038771</td>\n",
       "      <td>0.140795</td>\n",
       "      <td>0.198493</td>\n",
       "      <td>-0.283776</td>\n",
       "    </tr>\n",
       "    <tr>\n",
       "      <th>cp</th>\n",
       "      <td>-0.103697</td>\n",
       "      <td>-0.040197</td>\n",
       "      <td>1.000000</td>\n",
       "      <td>0.035563</td>\n",
       "      <td>-0.063592</td>\n",
       "      <td>0.065869</td>\n",
       "      <td>0.008389</td>\n",
       "      <td>0.300307</td>\n",
       "      <td>-0.428233</td>\n",
       "      <td>-0.183616</td>\n",
       "      <td>0.135174</td>\n",
       "      <td>-0.180598</td>\n",
       "      <td>-0.139765</td>\n",
       "      <td>0.425574</td>\n",
       "    </tr>\n",
       "    <tr>\n",
       "      <th>trestbps</th>\n",
       "      <td>0.261782</td>\n",
       "      <td>-0.055463</td>\n",
       "      <td>0.035563</td>\n",
       "      <td>1.000000</td>\n",
       "      <td>0.128444</td>\n",
       "      <td>0.170606</td>\n",
       "      <td>-0.145195</td>\n",
       "      <td>-0.056631</td>\n",
       "      <td>0.067116</td>\n",
       "      <td>0.184896</td>\n",
       "      <td>-0.126553</td>\n",
       "      <td>0.093545</td>\n",
       "      <td>0.068690</td>\n",
       "      <td>-0.173239</td>\n",
       "    </tr>\n",
       "    <tr>\n",
       "      <th>chol</th>\n",
       "      <td>0.210520</td>\n",
       "      <td>-0.166885</td>\n",
       "      <td>-0.063592</td>\n",
       "      <td>0.128444</td>\n",
       "      <td>1.000000</td>\n",
       "      <td>0.003430</td>\n",
       "      <td>-0.162687</td>\n",
       "      <td>-0.023753</td>\n",
       "      <td>0.063902</td>\n",
       "      <td>0.084355</td>\n",
       "      <td>-0.031929</td>\n",
       "      <td>0.068647</td>\n",
       "      <td>0.121280</td>\n",
       "      <td>-0.096773</td>\n",
       "    </tr>\n",
       "    <tr>\n",
       "      <th>fbs</th>\n",
       "      <td>0.109847</td>\n",
       "      <td>0.042384</td>\n",
       "      <td>0.065869</td>\n",
       "      <td>0.170606</td>\n",
       "      <td>0.003430</td>\n",
       "      <td>1.000000</td>\n",
       "      <td>-0.086165</td>\n",
       "      <td>-0.014297</td>\n",
       "      <td>0.029190</td>\n",
       "      <td>0.007943</td>\n",
       "      <td>-0.056866</td>\n",
       "      <td>0.164266</td>\n",
       "      <td>-0.004972</td>\n",
       "      <td>-0.068845</td>\n",
       "    </tr>\n",
       "    <tr>\n",
       "      <th>restecg</th>\n",
       "      <td>-0.124588</td>\n",
       "      <td>-0.069599</td>\n",
       "      <td>0.008389</td>\n",
       "      <td>-0.145195</td>\n",
       "      <td>-0.162687</td>\n",
       "      <td>-0.086165</td>\n",
       "      <td>1.000000</td>\n",
       "      <td>0.025457</td>\n",
       "      <td>-0.089225</td>\n",
       "      <td>-0.047837</td>\n",
       "      <td>0.074982</td>\n",
       "      <td>-0.053946</td>\n",
       "      <td>-0.003377</td>\n",
       "      <td>0.101817</td>\n",
       "    </tr>\n",
       "    <tr>\n",
       "      <th>thalach</th>\n",
       "      <td>-0.412624</td>\n",
       "      <td>-0.058626</td>\n",
       "      <td>0.300307</td>\n",
       "      <td>-0.056631</td>\n",
       "      <td>-0.023753</td>\n",
       "      <td>-0.014297</td>\n",
       "      <td>0.025457</td>\n",
       "      <td>1.000000</td>\n",
       "      <td>-0.404349</td>\n",
       "      <td>-0.340564</td>\n",
       "      <td>0.370073</td>\n",
       "      <td>-0.205060</td>\n",
       "      <td>-0.078637</td>\n",
       "      <td>0.432687</td>\n",
       "    </tr>\n",
       "    <tr>\n",
       "      <th>exang</th>\n",
       "      <td>0.111263</td>\n",
       "      <td>0.124054</td>\n",
       "      <td>-0.428233</td>\n",
       "      <td>0.067116</td>\n",
       "      <td>0.063902</td>\n",
       "      <td>0.029190</td>\n",
       "      <td>-0.089225</td>\n",
       "      <td>-0.404349</td>\n",
       "      <td>1.000000</td>\n",
       "      <td>0.294308</td>\n",
       "      <td>-0.280124</td>\n",
       "      <td>0.106250</td>\n",
       "      <td>0.189253</td>\n",
       "      <td>-0.457502</td>\n",
       "    </tr>\n",
       "    <tr>\n",
       "      <th>oldpeak</th>\n",
       "      <td>0.200243</td>\n",
       "      <td>0.089726</td>\n",
       "      <td>-0.183616</td>\n",
       "      <td>0.184896</td>\n",
       "      <td>0.084355</td>\n",
       "      <td>0.007943</td>\n",
       "      <td>-0.047837</td>\n",
       "      <td>-0.340564</td>\n",
       "      <td>0.294308</td>\n",
       "      <td>1.000000</td>\n",
       "      <td>-0.585472</td>\n",
       "      <td>0.223375</td>\n",
       "      <td>0.200315</td>\n",
       "      <td>-0.443504</td>\n",
       "    </tr>\n",
       "    <tr>\n",
       "      <th>slope</th>\n",
       "      <td>-0.165360</td>\n",
       "      <td>-0.038771</td>\n",
       "      <td>0.135174</td>\n",
       "      <td>-0.126553</td>\n",
       "      <td>-0.031929</td>\n",
       "      <td>-0.056866</td>\n",
       "      <td>0.074982</td>\n",
       "      <td>0.370073</td>\n",
       "      <td>-0.280124</td>\n",
       "      <td>-0.585472</td>\n",
       "      <td>1.000000</td>\n",
       "      <td>-0.083491</td>\n",
       "      <td>-0.090606</td>\n",
       "      <td>0.363983</td>\n",
       "    </tr>\n",
       "    <tr>\n",
       "      <th>ca</th>\n",
       "      <td>0.254462</td>\n",
       "      <td>0.140795</td>\n",
       "      <td>-0.180598</td>\n",
       "      <td>0.093545</td>\n",
       "      <td>0.068647</td>\n",
       "      <td>0.164266</td>\n",
       "      <td>-0.053946</td>\n",
       "      <td>-0.205060</td>\n",
       "      <td>0.106250</td>\n",
       "      <td>0.223375</td>\n",
       "      <td>-0.083491</td>\n",
       "      <td>1.000000</td>\n",
       "      <td>0.136160</td>\n",
       "      <td>-0.391031</td>\n",
       "    </tr>\n",
       "    <tr>\n",
       "      <th>thal</th>\n",
       "      <td>0.077368</td>\n",
       "      <td>0.198493</td>\n",
       "      <td>-0.139765</td>\n",
       "      <td>0.068690</td>\n",
       "      <td>0.121280</td>\n",
       "      <td>-0.004972</td>\n",
       "      <td>-0.003377</td>\n",
       "      <td>-0.078637</td>\n",
       "      <td>0.189253</td>\n",
       "      <td>0.200315</td>\n",
       "      <td>-0.090606</td>\n",
       "      <td>0.136160</td>\n",
       "      <td>1.000000</td>\n",
       "      <td>-0.311701</td>\n",
       "    </tr>\n",
       "    <tr>\n",
       "      <th>target</th>\n",
       "      <td>-0.244798</td>\n",
       "      <td>-0.283776</td>\n",
       "      <td>0.425574</td>\n",
       "      <td>-0.173239</td>\n",
       "      <td>-0.096773</td>\n",
       "      <td>-0.068845</td>\n",
       "      <td>0.101817</td>\n",
       "      <td>0.432687</td>\n",
       "      <td>-0.457502</td>\n",
       "      <td>-0.443504</td>\n",
       "      <td>0.363983</td>\n",
       "      <td>-0.391031</td>\n",
       "      <td>-0.311701</td>\n",
       "      <td>1.000000</td>\n",
       "    </tr>\n",
       "  </tbody>\n",
       "</table>\n",
       "</div>"
      ],
      "text/plain": [
       "               age       sex        cp  trestbps      chol       fbs  \\\n",
       "age       1.000000 -0.062222 -0.103697  0.261782  0.210520  0.109847   \n",
       "sex      -0.062222  1.000000 -0.040197 -0.055463 -0.166885  0.042384   \n",
       "cp       -0.103697 -0.040197  1.000000  0.035563 -0.063592  0.065869   \n",
       "trestbps  0.261782 -0.055463  0.035563  1.000000  0.128444  0.170606   \n",
       "chol      0.210520 -0.166885 -0.063592  0.128444  1.000000  0.003430   \n",
       "fbs       0.109847  0.042384  0.065869  0.170606  0.003430  1.000000   \n",
       "restecg  -0.124588 -0.069599  0.008389 -0.145195 -0.162687 -0.086165   \n",
       "thalach  -0.412624 -0.058626  0.300307 -0.056631 -0.023753 -0.014297   \n",
       "exang     0.111263  0.124054 -0.428233  0.067116  0.063902  0.029190   \n",
       "oldpeak   0.200243  0.089726 -0.183616  0.184896  0.084355  0.007943   \n",
       "slope    -0.165360 -0.038771  0.135174 -0.126553 -0.031929 -0.056866   \n",
       "ca        0.254462  0.140795 -0.180598  0.093545  0.068647  0.164266   \n",
       "thal      0.077368  0.198493 -0.139765  0.068690  0.121280 -0.004972   \n",
       "target   -0.244798 -0.283776  0.425574 -0.173239 -0.096773 -0.068845   \n",
       "\n",
       "           restecg   thalach     exang   oldpeak     slope        ca  \\\n",
       "age      -0.124588 -0.412624  0.111263  0.200243 -0.165360  0.254462   \n",
       "sex      -0.069599 -0.058626  0.124054  0.089726 -0.038771  0.140795   \n",
       "cp        0.008389  0.300307 -0.428233 -0.183616  0.135174 -0.180598   \n",
       "trestbps -0.145195 -0.056631  0.067116  0.184896 -0.126553  0.093545   \n",
       "chol     -0.162687 -0.023753  0.063902  0.084355 -0.031929  0.068647   \n",
       "fbs      -0.086165 -0.014297  0.029190  0.007943 -0.056866  0.164266   \n",
       "restecg   1.000000  0.025457 -0.089225 -0.047837  0.074982 -0.053946   \n",
       "thalach   0.025457  1.000000 -0.404349 -0.340564  0.370073 -0.205060   \n",
       "exang    -0.089225 -0.404349  1.000000  0.294308 -0.280124  0.106250   \n",
       "oldpeak  -0.047837 -0.340564  0.294308  1.000000 -0.585472  0.223375   \n",
       "slope     0.074982  0.370073 -0.280124 -0.585472  1.000000 -0.083491   \n",
       "ca       -0.053946 -0.205060  0.106250  0.223375 -0.083491  1.000000   \n",
       "thal     -0.003377 -0.078637  0.189253  0.200315 -0.090606  0.136160   \n",
       "target    0.101817  0.432687 -0.457502 -0.443504  0.363983 -0.391031   \n",
       "\n",
       "              thal    target  \n",
       "age       0.077368 -0.244798  \n",
       "sex       0.198493 -0.283776  \n",
       "cp       -0.139765  0.425574  \n",
       "trestbps  0.068690 -0.173239  \n",
       "chol      0.121280 -0.096773  \n",
       "fbs      -0.004972 -0.068845  \n",
       "restecg  -0.003377  0.101817  \n",
       "thalach  -0.078637  0.432687  \n",
       "exang     0.189253 -0.457502  \n",
       "oldpeak   0.200315 -0.443504  \n",
       "slope    -0.090606  0.363983  \n",
       "ca        0.136160 -0.391031  \n",
       "thal      1.000000 -0.311701  \n",
       "target   -0.311701  1.000000  "
      ]
     },
     "execution_count": 11,
     "metadata": {},
     "output_type": "execute_result"
    }
   ],
   "source": [
    "df.corr()"
   ]
  },
  {
   "cell_type": "markdown",
   "id": "8ce7a0c5-76d6-4863-ba61-0544a220962a",
   "metadata": {
    "id": "8ce7a0c5-76d6-4863-ba61-0544a220962a"
   },
   "source": [
    "#### Converting the DataFrame to a NumPy Array"
   ]
  },
  {
   "cell_type": "code",
   "execution_count": 12,
   "id": "5735baad-2db8-4306-aa4c-7788d2b49621",
   "metadata": {
    "colab": {
     "base_uri": "https://localhost:8080/"
    },
    "executionInfo": {
     "elapsed": 5,
     "status": "ok",
     "timestamp": 1742459900409,
     "user": {
      "displayName": "林明聰",
      "userId": "10350944269371174646"
     },
     "user_tz": -480
    },
    "id": "5735baad-2db8-4306-aa4c-7788d2b49621",
    "outputId": "e5634c85-5f40-413f-be09-1ac0b7f11e4b"
   },
   "outputs": [
    {
     "data": {
      "text/plain": [
       "(270, 14)"
      ]
     },
     "execution_count": 12,
     "metadata": {},
     "output_type": "execute_result"
    }
   ],
   "source": [
    "import numpy as np\n",
    "\n",
    "np_data = df.values\n",
    "np_data.shape"
   ]
  },
  {
   "cell_type": "code",
   "execution_count": 13,
   "id": "29b8e189-7f39-435a-8038-39098b147325",
   "metadata": {
    "executionInfo": {
     "elapsed": 4,
     "status": "ok",
     "timestamp": 1742460305286,
     "user": {
      "displayName": "林明聰",
      "userId": "10350944269371174646"
     },
     "user_tz": -480
    },
    "id": "29b8e189-7f39-435a-8038-39098b147325"
   },
   "outputs": [],
   "source": [
    "split_point = int(np_data.shape[0]*0.7)\n",
    "\n",
    "np.random.shuffle(np_data)\n",
    "\n",
    "x_train = np_data[:split_point, :13]\n",
    "y_train = np_data[:split_point, 13]\n",
    "x_val = np_data[split_point:, :13]\n",
    "y_val = np_data[split_point:, 13]"
   ]
  },
  {
   "cell_type": "code",
   "execution_count": 14,
   "id": "fedb56d7-1665-4c90-9697-b86cab43f300",
   "metadata": {
    "colab": {
     "base_uri": "https://localhost:8080/"
    },
    "executionInfo": {
     "elapsed": 45,
     "status": "ok",
     "timestamp": 1742460355125,
     "user": {
      "displayName": "林明聰",
      "userId": "10350944269371174646"
     },
     "user_tz": -480
    },
    "id": "fedb56d7-1665-4c90-9697-b86cab43f300",
    "outputId": "7df32384-60f7-4ef7-b92e-2b372fb3e14b"
   },
   "outputs": [
    {
     "name": "stdout",
     "output_type": "stream",
     "text": [
      "Number of samples in train and validation are 189 and 81.\n"
     ]
    }
   ],
   "source": [
    "import torch\n",
    "from torch.utils.data import DataLoader, TensorDataset\n",
    "\n",
    "# Convert to PyTorch tensors\n",
    "x_train = np.array(x_train, dtype=float)\n",
    "x_train = torch.from_numpy(x_train).float()\n",
    "y_train = np.array(y_train, dtype=int)\n",
    "y_train = torch.from_numpy(y_train).long()\n",
    "\n",
    "x_val = np.array(x_val, dtype=float)\n",
    "x_val = torch.from_numpy(x_val).float()\n",
    "y_val = np.array(y_val, dtype=int)\n",
    "y_val = torch.from_numpy(y_val).long()\n",
    "\n",
    "batch_size = 32\n",
    "\n",
    "# Create datasets\n",
    "train_dataset = TensorDataset(x_train, y_train)\n",
    "val_dataset = TensorDataset(x_val, y_val)\n",
    "\n",
    "# Create dataloaders\n",
    "train_loader = DataLoader(train_dataset, batch_size=batch_size, shuffle=True)\n",
    "val_loader = DataLoader(val_dataset, batch_size=batch_size, shuffle=False)\n",
    "\n",
    "print(f'Number of samples in train and validation are {len(train_loader.dataset)} and {len(val_loader.dataset)}.')"
   ]
  },
  {
   "cell_type": "markdown",
   "id": "8ffc26b9-6044-41e9-93e2-7dc6250dbd27",
   "metadata": {
    "id": "8ffc26b9-6044-41e9-93e2-7dc6250dbd27"
   },
   "source": [
    "## B. Defining Neural Networks\n",
    "\n",
    "In PyTorch, we can use **class** to define our custom neural network architectures by subclassing the `nn.Module` class. This gives our neural network all the functionality it needs to work with PyTorch's other utilities and keeps our implementation organized.\n",
    "\n",
    "- Neural networks are defined by subclassing `nn.Module`.\n",
    "- The layers of the neural network are initialized in the `__init__` method.\n",
    "- The forward pass operations on input data are defined in the `forward` method.\n",
    "\n",
    "It's worth noting that while we only define the forward pass, PyTorch will automatically derive the backward pass for us, which is used during training to update the model's weights.\""
   ]
  },
  {
   "cell_type": "code",
   "execution_count": 67,
   "id": "77975746-a7a7-4676-9527-57674cd98c0f",
   "metadata": {
    "executionInfo": {
     "elapsed": 2,
     "status": "ok",
     "timestamp": 1742460379394,
     "user": {
      "displayName": "林明聰",
      "userId": "10350944269371174646"
     },
     "user_tz": -480
    },
    "id": "77975746-a7a7-4676-9527-57674cd98c0f"
   },
   "outputs": [],
   "source": [
    "import torch.nn as nn\n",
    "\n",
    "class Model(nn.Module):\n",
    "    def __init__(self):\n",
    "        super().__init__()\n",
    "        self.model = nn.Sequential(\n",
    "            nn.Linear(13, 256),\n",
    "            nn.ReLU(),\n",
    "            nn.Linear(256, 256),\n",
    "            nn.ReLU(),\n",
    "            nn.Linear(256, 2)\n",
    "        ).cuda()\n",
    "\n",
    "    def forward(self, x):\n",
    "        return self.model(x)"
   ]
  },
  {
   "cell_type": "markdown",
   "id": "cbb8b5b0-0ec0-406c-a42e-048aa00e05aa",
   "metadata": {
    "id": "cbb8b5b0-0ec0-406c-a42e-048aa00e05aa"
   },
   "source": [
    "## C. Training the Neural Network"
   ]
  },
  {
   "cell_type": "code",
   "execution_count": 15,
   "id": "3602ae7d-4034-4c49-b221-0c12a5824b18",
   "metadata": {
    "colab": {
     "base_uri": "https://localhost:8080/"
    },
    "executionInfo": {
     "elapsed": 89,
     "status": "ok",
     "timestamp": 1742460381570,
     "user": {
      "displayName": "林明聰",
      "userId": "10350944269371174646"
     },
     "user_tz": -480
    },
    "id": "3602ae7d-4034-4c49-b221-0c12a5824b18",
    "outputId": "f4673995-b14d-4aa0-e1be-c8cc3174ee9d"
   },
   "outputs": [
    {
     "name": "stdout",
     "output_type": "stream",
     "text": [
      "Thu Mar 27 02:14:54 2025       \n",
      "+-----------------------------------------------------------------------------------------+\n",
      "| NVIDIA-SMI 560.94                 Driver Version: 560.94         CUDA Version: 12.6     |\n",
      "|-----------------------------------------+------------------------+----------------------+\n",
      "| GPU  Name                  Driver-Model | Bus-Id          Disp.A | Volatile Uncorr. ECC |\n",
      "| Fan  Temp   Perf          Pwr:Usage/Cap |           Memory-Usage | GPU-Util  Compute M. |\n",
      "|                                         |                        |               MIG M. |\n",
      "|=========================================+========================+======================|\n",
      "|   0  NVIDIA GeForce RTX 3060 Ti   WDDM  |   00000000:01:00.0  On |                  N/A |\n",
      "| 46%   54C    P0             56W /  240W |    3243MiB /   8192MiB |      0%      Default |\n",
      "|                                         |                        |                  N/A |\n",
      "+-----------------------------------------+------------------------+----------------------+\n",
      "                                                                                         \n",
      "+-----------------------------------------------------------------------------------------+\n",
      "| Processes:                                                                              |\n",
      "|  GPU   GI   CI        PID   Type   Process name                              GPU Memory |\n",
      "|        ID   ID                                                               Usage      |\n",
      "|=========================================================================================|\n",
      "|    0   N/A  N/A      3700    C+G   C:\\Windows\\System32\\ShellHost.exe           N/A      |\n",
      "|    0   N/A  N/A      4704    C+G   ...ata\\Local\\LINE\\bin\\current\\LINE.exe      N/A      |\n",
      "|    0   N/A  N/A      6100    C+G   ...s\\System32\\ApplicationFrameHost.exe      N/A      |\n",
      "|    0   N/A  N/A      7176    C+G   ...on\\wallpaper_engine\\wallpaper32.exe      N/A      |\n",
      "|    0   N/A  N/A      8088    C+G   ...gin\\LineCall\\1.0.0.844\\LineCall.exe      N/A      |\n",
      "|    0   N/A  N/A      8108    C+G   ...\\cef\\cef.win7x64\\steamwebhelper.exe      N/A      |\n",
      "|    0   N/A  N/A      9724    C+G   ...ft Office\\root\\Office16\\WINWORD.EXE      N/A      |\n",
      "|    0   N/A  N/A     14324    C+G   ...nt.CBS_cw5n1h2txyewy\\SearchHost.exe      N/A      |\n",
      "|    0   N/A  N/A     16052    C+G   ...on\\134.0.3124.83\\msedgewebview2.exe      N/A      |\n",
      "|    0   N/A  N/A     16332    C+G   ...siveControlPanel\\SystemSettings.exe      N/A      |\n",
      "|    0   N/A  N/A     17328    C+G   ...14.0_x64__zpdnekdrzrea0\\Spotify.exe      N/A      |\n",
      "|    0   N/A  N/A     21316    C+G   ...CBS_cw5n1h2txyewy\\TextInputHost.exe      N/A      |\n",
      "|    0   N/A  N/A     21440    C+G   C:\\Windows\\explorer.exe                     N/A      |\n",
      "|    0   N/A  N/A     21708    C+G   ...Brave-Browser\\Application\\brave.exe      N/A      |\n",
      "|    0   N/A  N/A     23496    C+G   ...Brave-Browser\\Application\\brave.exe      N/A      |\n",
      "|    0   N/A  N/A     23536    C+G   ...ekyb3d8bbwe\\PhoneExperienceHost.exe      N/A      |\n",
      "|    0   N/A  N/A     25176    C+G   ...2txyewy\\StartMenuExperienceHost.exe      N/A      |\n",
      "|    0   N/A  N/A     26968    C+G   ...5n1h2txyewy\\ShellExperienceHost.exe      N/A      |\n",
      "|    0   N/A  N/A     31024    C+G   ...Programs\\Microsoft VS Code\\Code.exe      N/A      |\n",
      "+-----------------------------------------------------------------------------------------+\n"
     ]
    }
   ],
   "source": [
    "# Check your GPU status.\n",
    "!nvidia-smi"
   ]
  },
  {
   "cell_type": "code",
   "execution_count": 69,
   "id": "f73a5c35-c15d-49bb-8a33-a7f017159499",
   "metadata": {
    "colab": {
     "base_uri": "https://localhost:8080/",
     "height": 1000,
     "referenced_widgets": [
      "b3afc8c576604557b0ed34eccd7fcb01",
      "be82a0b273b148e188655d84d479b5c6",
      "d9fac97e7da246f1b2c514d4dbaaab69",
      "167886efe3934f939f2667e85c708f25",
      "0b3b617d2f774d0d98d945aadf21a10b",
      "46ed422cdd4f43f7b46f0f05902cf772",
      "1b8fa50895034830b53497c4bbec0880",
      "757a0fae785f4c3aa9f4dd2af6a1d24e",
      "8f765c76896a4008a03945b2c8d63078",
      "0b32611e586442e091574299abf92844",
      "96017968444e4e1caaeec5c3fc0f5c9e"
     ]
    },
    "executionInfo": {
     "elapsed": 8072,
     "status": "ok",
     "timestamp": 1742460400523,
     "user": {
      "displayName": "林明聰",
      "userId": "10350944269371174646"
     },
     "user_tz": -480
    },
    "id": "f73a5c35-c15d-49bb-8a33-a7f017159499",
    "outputId": "832be6ac-c9ab-4baa-c253-dba67572b0c8"
   },
   "outputs": [
    {
     "name": "stderr",
     "output_type": "stream",
     "text": [
      "  0%|          | 0/100 [00:00<?, ?it/s]"
     ]
    },
    {
     "name": "stdout",
     "output_type": "stream",
     "text": [
      "Epoch 1/100, Train loss: 3.3492, Train acc: 54.4974%, Val loss: 3.6802, Val acc: 49.3827%, Best Val loss: 3.6802 Best Val acc: 49.38%\n",
      "Epoch 2/100, Train loss: 2.2970, Train acc: 52.9101%, Val loss: 1.2221, Val acc: 59.2593%, Best Val loss: 1.2221 Best Val acc: 59.26%\n",
      "Epoch 3/100, Train loss: 1.6298, Train acc: 57.6720%, Val loss: 2.6645, Val acc: 50.6173%, Best Val loss: 1.2221 Best Val acc: 59.26%\n"
     ]
    },
    {
     "name": "stderr",
     "output_type": "stream",
     "text": [
      "  5%|▌         | 5/100 [00:00<00:02, 46.86it/s]"
     ]
    },
    {
     "name": "stdout",
     "output_type": "stream",
     "text": [
      "Epoch 4/100, Train loss: 1.2137, Train acc: 62.4339%, Val loss: 0.9878, Val acc: 65.4321%, Best Val loss: 0.9878 Best Val acc: 65.43%\n",
      "Epoch 5/100, Train loss: 0.9181, Train acc: 69.8413%, Val loss: 1.4979, Val acc: 56.7901%, Best Val loss: 0.9878 Best Val acc: 65.43%\n",
      "Epoch 6/100, Train loss: 1.1884, Train acc: 61.9048%, Val loss: 1.3094, Val acc: 56.7901%, Best Val loss: 0.9878 Best Val acc: 65.43%\n",
      "Epoch 7/100, Train loss: 0.7575, Train acc: 74.6032%, Val loss: 1.1345, Val acc: 59.2593%, Best Val loss: 0.9878 Best Val acc: 65.43%\n",
      "Epoch 8/100, Train loss: 0.6933, Train acc: 71.9577%, Val loss: 1.0740, Val acc: 60.4938%, Best Val loss: 0.9878 Best Val acc: 65.43%\n",
      "Epoch 9/100, Train loss: 0.7063, Train acc: 69.8413%, Val loss: 0.8938, Val acc: 62.9630%, Best Val loss: 0.8938 Best Val acc: 65.43%\n"
     ]
    },
    {
     "name": "stderr",
     "output_type": "stream",
     "text": [
      " 10%|█         | 10/100 [00:00<00:01, 48.47it/s]"
     ]
    },
    {
     "name": "stdout",
     "output_type": "stream",
     "text": [
      "Epoch 10/100, Train loss: 0.6775, Train acc: 73.0159%, Val loss: 1.1119, Val acc: 58.0247%, Best Val loss: 0.8938 Best Val acc: 65.43%\n",
      "Epoch 11/100, Train loss: 0.6105, Train acc: 71.4286%, Val loss: 0.8405, Val acc: 59.2593%, Best Val loss: 0.8405 Best Val acc: 65.43%\n",
      "Epoch 12/100, Train loss: 0.5226, Train acc: 74.6032%, Val loss: 0.7319, Val acc: 60.4938%, Best Val loss: 0.7319 Best Val acc: 65.43%\n",
      "Epoch 13/100, Train loss: 0.5214, Train acc: 70.8995%, Val loss: 0.6903, Val acc: 64.1975%, Best Val loss: 0.6903 Best Val acc: 65.43%\n"
     ]
    },
    {
     "name": "stderr",
     "output_type": "stream",
     "text": [
      " 21%|██        | 21/100 [00:00<00:01, 49.99it/s]"
     ]
    },
    {
     "name": "stdout",
     "output_type": "stream",
     "text": [
      "Epoch 14/100, Train loss: 0.5226, Train acc: 69.8413%, Val loss: 0.6752, Val acc: 62.9630%, Best Val loss: 0.6752 Best Val acc: 65.43%\n",
      "Epoch 15/100, Train loss: 0.4981, Train acc: 73.0159%, Val loss: 0.6536, Val acc: 65.4321%, Best Val loss: 0.6536 Best Val acc: 65.43%\n",
      "Epoch 16/100, Train loss: 0.5340, Train acc: 72.4868%, Val loss: 0.6541, Val acc: 64.1975%, Best Val loss: 0.6536 Best Val acc: 65.43%\n",
      "Epoch 17/100, Train loss: 0.5668, Train acc: 70.8995%, Val loss: 0.6487, Val acc: 67.9012%, Best Val loss: 0.6487 Best Val acc: 67.90%\n",
      "Epoch 18/100, Train loss: 0.4950, Train acc: 74.6032%, Val loss: 0.8118, Val acc: 60.4938%, Best Val loss: 0.6487 Best Val acc: 67.90%\n",
      "Epoch 19/100, Train loss: 0.5845, Train acc: 68.7831%, Val loss: 0.9232, Val acc: 58.0247%, Best Val loss: 0.6487 Best Val acc: 67.90%\n",
      "Epoch 20/100, Train loss: 0.5858, Train acc: 74.0741%, Val loss: 0.8920, Val acc: 59.2593%, Best Val loss: 0.6487 Best Val acc: 67.90%\n",
      "Epoch 21/100, Train loss: 0.5148, Train acc: 74.6032%, Val loss: 0.6696, Val acc: 66.6667%, Best Val loss: 0.6487 Best Val acc: 67.90%\n",
      "Epoch 22/100, Train loss: 0.4648, Train acc: 77.2487%, Val loss: 0.7452, Val acc: 61.7284%, Best Val loss: 0.6487 Best Val acc: 67.90%\n",
      "Epoch 23/100, Train loss: 0.5150, Train acc: 75.1323%, Val loss: 0.6826, Val acc: 62.9630%, Best Val loss: 0.6487 Best Val acc: 67.90%\n",
      "Epoch 24/100, Train loss: 0.5444, Train acc: 73.0159%, Val loss: 0.6655, Val acc: 60.4938%, Best Val loss: 0.6487 Best Val acc: 67.90%\n"
     ]
    },
    {
     "name": "stderr",
     "output_type": "stream",
     "text": [
      " 31%|███       | 31/100 [00:00<00:01, 48.75it/s]"
     ]
    },
    {
     "name": "stdout",
     "output_type": "stream",
     "text": [
      "Epoch 25/100, Train loss: 0.4669, Train acc: 75.1323%, Val loss: 0.6527, Val acc: 69.1358%, Best Val loss: 0.6487 Best Val acc: 69.14%\n",
      "Epoch 26/100, Train loss: 0.4713, Train acc: 77.2487%, Val loss: 0.6419, Val acc: 66.6667%, Best Val loss: 0.6419 Best Val acc: 69.14%\n",
      "Epoch 27/100, Train loss: 0.5222, Train acc: 71.4286%, Val loss: 0.6438, Val acc: 70.3704%, Best Val loss: 0.6419 Best Val acc: 70.37%\n",
      "Epoch 28/100, Train loss: 0.4550, Train acc: 74.6032%, Val loss: 0.6606, Val acc: 70.3704%, Best Val loss: 0.6419 Best Val acc: 70.37%\n",
      "Epoch 29/100, Train loss: 0.4841, Train acc: 76.7196%, Val loss: 0.7253, Val acc: 62.9630%, Best Val loss: 0.6419 Best Val acc: 70.37%\n",
      "Epoch 30/100, Train loss: 0.5481, Train acc: 73.5450%, Val loss: 0.8162, Val acc: 64.1975%, Best Val loss: 0.6419 Best Val acc: 70.37%\n",
      "Epoch 31/100, Train loss: 0.4551, Train acc: 75.1323%, Val loss: 0.7448, Val acc: 61.7284%, Best Val loss: 0.6419 Best Val acc: 70.37%\n",
      "Epoch 32/100, Train loss: 0.4402, Train acc: 78.8360%, Val loss: 0.6202, Val acc: 67.9012%, Best Val loss: 0.6202 Best Val acc: 70.37%\n",
      "Epoch 33/100, Train loss: 0.4312, Train acc: 80.4233%, Val loss: 0.6406, Val acc: 64.1975%, Best Val loss: 0.6202 Best Val acc: 70.37%\n",
      "Epoch 34/100, Train loss: 0.4182, Train acc: 78.8360%, Val loss: 0.6149, Val acc: 72.8395%, Best Val loss: 0.6149 Best Val acc: 72.84%\n",
      "Epoch 35/100, Train loss: 0.4313, Train acc: 79.3651%, Val loss: 0.6384, Val acc: 65.4321%, Best Val loss: 0.6149 Best Val acc: 72.84%\n"
     ]
    },
    {
     "name": "stderr",
     "output_type": "stream",
     "text": [
      " 37%|███▋      | 37/100 [00:00<00:01, 49.68it/s]"
     ]
    },
    {
     "name": "stdout",
     "output_type": "stream",
     "text": [
      "Epoch 36/100, Train loss: 0.4832, Train acc: 73.5450%, Val loss: 0.5884, Val acc: 69.1358%, Best Val loss: 0.5884 Best Val acc: 72.84%\n",
      "Epoch 37/100, Train loss: 0.4477, Train acc: 80.4233%, Val loss: 0.6027, Val acc: 69.1358%, Best Val loss: 0.5884 Best Val acc: 72.84%\n",
      "Epoch 38/100, Train loss: 0.4539, Train acc: 77.7778%, Val loss: 0.6281, Val acc: 62.9630%, Best Val loss: 0.5884 Best Val acc: 72.84%\n",
      "Epoch 39/100, Train loss: 0.4466, Train acc: 79.8942%, Val loss: 0.6190, Val acc: 61.7284%, Best Val loss: 0.5884 Best Val acc: 72.84%\n",
      "Epoch 40/100, Train loss: 0.4076, Train acc: 81.4815%, Val loss: 0.5895, Val acc: 72.8395%, Best Val loss: 0.5884 Best Val acc: 72.84%\n",
      "Epoch 41/100, Train loss: 0.4484, Train acc: 79.3651%, Val loss: 0.6028, Val acc: 71.6049%, Best Val loss: 0.5884 Best Val acc: 72.84%\n"
     ]
    },
    {
     "name": "stderr",
     "output_type": "stream",
     "text": [
      " 43%|████▎     | 43/100 [00:00<00:01, 50.26it/s]"
     ]
    },
    {
     "name": "stdout",
     "output_type": "stream",
     "text": [
      "Epoch 42/100, Train loss: 0.3995, Train acc: 85.1852%, Val loss: 0.5893, Val acc: 71.6049%, Best Val loss: 0.5884 Best Val acc: 72.84%\n",
      "Epoch 43/100, Train loss: 0.4116, Train acc: 82.5397%, Val loss: 0.6190, Val acc: 72.8395%, Best Val loss: 0.5884 Best Val acc: 72.84%\n",
      "Epoch 44/100, Train loss: 0.4234, Train acc: 81.4815%, Val loss: 0.5826, Val acc: 74.0741%, Best Val loss: 0.5826 Best Val acc: 74.07%\n",
      "Epoch 45/100, Train loss: 0.4114, Train acc: 79.8942%, Val loss: 0.5945, Val acc: 70.3704%, Best Val loss: 0.5826 Best Val acc: 74.07%\n",
      "Epoch 46/100, Train loss: 0.4115, Train acc: 80.9524%, Val loss: 0.6074, Val acc: 72.8395%, Best Val loss: 0.5826 Best Val acc: 74.07%\n"
     ]
    },
    {
     "name": "stderr",
     "output_type": "stream",
     "text": [
      " 49%|████▉     | 49/100 [00:00<00:01, 50.69it/s]"
     ]
    },
    {
     "name": "stdout",
     "output_type": "stream",
     "text": [
      "Epoch 47/100, Train loss: 0.3840, Train acc: 83.5979%, Val loss: 0.5964, Val acc: 74.0741%, Best Val loss: 0.5826 Best Val acc: 74.07%\n",
      "Epoch 48/100, Train loss: 0.4025, Train acc: 82.0106%, Val loss: 0.6314, Val acc: 72.8395%, Best Val loss: 0.5826 Best Val acc: 74.07%\n",
      "Epoch 49/100, Train loss: 0.4484, Train acc: 79.3651%, Val loss: 0.7798, Val acc: 62.9630%, Best Val loss: 0.5826 Best Val acc: 74.07%\n",
      "Epoch 50/100, Train loss: 0.4629, Train acc: 75.1323%, Val loss: 0.6130, Val acc: 67.9012%, Best Val loss: 0.5826 Best Val acc: 74.07%\n",
      "Epoch 51/100, Train loss: 0.4410, Train acc: 79.3651%, Val loss: 0.6165, Val acc: 69.1358%, Best Val loss: 0.5826 Best Val acc: 74.07%\n",
      "Epoch 52/100, Train loss: 0.3922, Train acc: 84.1270%, Val loss: 0.5665, Val acc: 74.0741%, Best Val loss: 0.5665 Best Val acc: 74.07%\n",
      "Epoch 53/100, Train loss: 0.3848, Train acc: 84.6561%, Val loss: 0.5572, Val acc: 72.8395%, Best Val loss: 0.5572 Best Val acc: 74.07%\n"
     ]
    },
    {
     "name": "stderr",
     "output_type": "stream",
     "text": [
      " 55%|█████▌    | 55/100 [00:01<00:00, 49.97it/s]"
     ]
    },
    {
     "name": "stdout",
     "output_type": "stream",
     "text": [
      "Epoch 54/100, Train loss: 0.3704, Train acc: 84.6561%, Val loss: 0.5629, Val acc: 71.6049%, Best Val loss: 0.5572 Best Val acc: 74.07%\n",
      "Epoch 55/100, Train loss: 0.3751, Train acc: 86.7725%, Val loss: 0.5685, Val acc: 71.6049%, Best Val loss: 0.5572 Best Val acc: 74.07%\n",
      "Epoch 56/100, Train loss: 0.3798, Train acc: 84.1270%, Val loss: 0.5572, Val acc: 72.8395%, Best Val loss: 0.5572 Best Val acc: 74.07%\n",
      "Epoch 57/100, Train loss: 0.3620, Train acc: 86.7725%, Val loss: 0.5858, Val acc: 74.0741%, Best Val loss: 0.5572 Best Val acc: 74.07%\n",
      "Epoch 58/100, Train loss: 0.3694, Train acc: 85.1852%, Val loss: 0.5532, Val acc: 72.8395%, Best Val loss: 0.5532 Best Val acc: 74.07%\n"
     ]
    },
    {
     "name": "stderr",
     "output_type": "stream",
     "text": [
      " 61%|██████    | 61/100 [00:01<00:00, 51.50it/s]"
     ]
    },
    {
     "name": "stdout",
     "output_type": "stream",
     "text": [
      "Epoch 59/100, Train loss: 0.3885, Train acc: 84.6561%, Val loss: 0.6318, Val acc: 74.0741%, Best Val loss: 0.5532 Best Val acc: 74.07%\n",
      "Epoch 60/100, Train loss: 0.3751, Train acc: 85.1852%, Val loss: 0.5777, Val acc: 72.8395%, Best Val loss: 0.5532 Best Val acc: 74.07%\n",
      "Epoch 61/100, Train loss: 0.3667, Train acc: 85.1852%, Val loss: 0.5572, Val acc: 72.8395%, Best Val loss: 0.5532 Best Val acc: 74.07%\n",
      "Epoch 62/100, Train loss: 0.3656, Train acc: 85.7143%, Val loss: 0.5641, Val acc: 69.1358%, Best Val loss: 0.5532 Best Val acc: 74.07%\n",
      "Epoch 63/100, Train loss: 0.3651, Train acc: 87.3016%, Val loss: 0.5562, Val acc: 70.3704%, Best Val loss: 0.5532 Best Val acc: 74.07%\n",
      "Epoch 64/100, Train loss: 0.3552, Train acc: 86.2434%, Val loss: 0.5484, Val acc: 75.3086%, Best Val loss: 0.5484 Best Val acc: 75.31%\n",
      "Epoch 65/100, Train loss: 0.3851, Train acc: 80.9524%, Val loss: 0.5456, Val acc: 74.0741%, Best Val loss: 0.5456 Best Val acc: 75.31%\n"
     ]
    },
    {
     "name": "stderr",
     "output_type": "stream",
     "text": [
      " 67%|██████▋   | 67/100 [00:01<00:00, 51.88it/s]"
     ]
    },
    {
     "name": "stdout",
     "output_type": "stream",
     "text": [
      "Epoch 66/100, Train loss: 0.3824, Train acc: 85.1852%, Val loss: 0.6210, Val acc: 74.0741%, Best Val loss: 0.5456 Best Val acc: 75.31%\n",
      "Epoch 67/100, Train loss: 0.3747, Train acc: 83.0688%, Val loss: 0.5572, Val acc: 71.6049%, Best Val loss: 0.5456 Best Val acc: 75.31%\n",
      "Epoch 68/100, Train loss: 0.3642, Train acc: 85.7143%, Val loss: 0.5436, Val acc: 71.6049%, Best Val loss: 0.5436 Best Val acc: 75.31%\n",
      "Epoch 69/100, Train loss: 0.3649, Train acc: 85.1852%, Val loss: 0.5582, Val acc: 74.0741%, Best Val loss: 0.5436 Best Val acc: 75.31%\n"
     ]
    },
    {
     "name": "stderr",
     "output_type": "stream",
     "text": [
      " 73%|███████▎  | 73/100 [00:01<00:00, 51.32it/s]"
     ]
    },
    {
     "name": "stdout",
     "output_type": "stream",
     "text": [
      "Epoch 70/100, Train loss: 0.3505, Train acc: 85.1852%, Val loss: 0.5397, Val acc: 75.3086%, Best Val loss: 0.5397 Best Val acc: 75.31%\n",
      "Epoch 71/100, Train loss: 0.3544, Train acc: 86.2434%, Val loss: 0.6356, Val acc: 74.0741%, Best Val loss: 0.5397 Best Val acc: 75.31%\n",
      "Epoch 72/100, Train loss: 0.3770, Train acc: 82.5397%, Val loss: 0.5721, Val acc: 71.6049%, Best Val loss: 0.5397 Best Val acc: 75.31%\n",
      "Epoch 73/100, Train loss: 0.3780, Train acc: 82.0106%, Val loss: 0.6877, Val acc: 71.6049%, Best Val loss: 0.5397 Best Val acc: 75.31%\n",
      "Epoch 74/100, Train loss: 0.4341, Train acc: 80.9524%, Val loss: 0.5711, Val acc: 72.8395%, Best Val loss: 0.5397 Best Val acc: 75.31%\n",
      "Epoch 75/100, Train loss: 0.3858, Train acc: 82.0106%, Val loss: 0.5762, Val acc: 74.0741%, Best Val loss: 0.5397 Best Val acc: 75.31%\n",
      "Epoch 76/100, Train loss: 0.3530, Train acc: 86.7725%, Val loss: 0.5423, Val acc: 75.3086%, Best Val loss: 0.5397 Best Val acc: 75.31%\n"
     ]
    },
    {
     "name": "stderr",
     "output_type": "stream",
     "text": [
      " 79%|███████▉  | 79/100 [00:01<00:00, 52.43it/s]"
     ]
    },
    {
     "name": "stdout",
     "output_type": "stream",
     "text": [
      "Epoch 77/100, Train loss: 0.3483, Train acc: 84.1270%, Val loss: 0.5544, Val acc: 70.3704%, Best Val loss: 0.5397 Best Val acc: 75.31%\n",
      "Epoch 78/100, Train loss: 0.3463, Train acc: 86.2434%, Val loss: 0.5416, Val acc: 75.3086%, Best Val loss: 0.5397 Best Val acc: 75.31%\n",
      "Epoch 79/100, Train loss: 0.3484, Train acc: 86.7725%, Val loss: 0.5449, Val acc: 71.6049%, Best Val loss: 0.5397 Best Val acc: 75.31%\n",
      "Epoch 80/100, Train loss: 0.3489, Train acc: 86.2434%, Val loss: 0.5463, Val acc: 71.6049%, Best Val loss: 0.5397 Best Val acc: 75.31%\n",
      "Epoch 81/100, Train loss: 0.3477, Train acc: 86.2434%, Val loss: 0.5424, Val acc: 74.0741%, Best Val loss: 0.5397 Best Val acc: 75.31%\n"
     ]
    },
    {
     "name": "stderr",
     "output_type": "stream",
     "text": [
      " 85%|████████▌ | 85/100 [00:01<00:00, 52.19it/s]"
     ]
    },
    {
     "name": "stdout",
     "output_type": "stream",
     "text": [
      "Epoch 82/100, Train loss: 0.3449, Train acc: 86.7725%, Val loss: 0.5562, Val acc: 71.6049%, Best Val loss: 0.5397 Best Val acc: 75.31%\n",
      "Epoch 83/100, Train loss: 0.3503, Train acc: 86.2434%, Val loss: 0.5441, Val acc: 71.6049%, Best Val loss: 0.5397 Best Val acc: 75.31%\n",
      "Epoch 84/100, Train loss: 0.3497, Train acc: 85.7143%, Val loss: 0.5386, Val acc: 76.5432%, Best Val loss: 0.5386 Best Val acc: 76.54%\n",
      "Epoch 85/100, Train loss: 0.3522, Train acc: 86.2434%, Val loss: 0.5578, Val acc: 74.0741%, Best Val loss: 0.5386 Best Val acc: 76.54%\n",
      "Epoch 86/100, Train loss: 0.3464, Train acc: 86.7725%, Val loss: 0.5379, Val acc: 74.0741%, Best Val loss: 0.5379 Best Val acc: 76.54%\n",
      "Epoch 87/100, Train loss: 0.3382, Train acc: 86.2434%, Val loss: 0.5356, Val acc: 76.5432%, Best Val loss: 0.5356 Best Val acc: 76.54%\n",
      "Epoch 88/100, Train loss: 0.3424, Train acc: 85.7143%, Val loss: 0.5374, Val acc: 72.8395%, Best Val loss: 0.5356 Best Val acc: 76.54%\n"
     ]
    },
    {
     "name": "stderr",
     "output_type": "stream",
     "text": [
      " 91%|█████████ | 91/100 [00:01<00:00, 52.85it/s]"
     ]
    },
    {
     "name": "stdout",
     "output_type": "stream",
     "text": [
      "Epoch 89/100, Train loss: 0.3478, Train acc: 86.7725%, Val loss: 0.5501, Val acc: 71.6049%, Best Val loss: 0.5356 Best Val acc: 76.54%\n",
      "Epoch 90/100, Train loss: 0.3404, Train acc: 87.3016%, Val loss: 0.5363, Val acc: 74.0741%, Best Val loss: 0.5356 Best Val acc: 76.54%\n",
      "Epoch 91/100, Train loss: 0.3393, Train acc: 86.2434%, Val loss: 0.5352, Val acc: 75.3086%, Best Val loss: 0.5352 Best Val acc: 76.54%\n",
      "Epoch 92/100, Train loss: 0.3392, Train acc: 86.2434%, Val loss: 0.5356, Val acc: 74.0741%, Best Val loss: 0.5352 Best Val acc: 76.54%\n",
      "Epoch 93/100, Train loss: 0.3409, Train acc: 87.3016%, Val loss: 0.5386, Val acc: 71.6049%, Best Val loss: 0.5352 Best Val acc: 76.54%\n"
     ]
    },
    {
     "name": "stderr",
     "output_type": "stream",
     "text": [
      "100%|██████████| 100/100 [00:01<00:00, 51.30it/s]"
     ]
    },
    {
     "name": "stdout",
     "output_type": "stream",
     "text": [
      "Epoch 94/100, Train loss: 0.3430, Train acc: 87.3016%, Val loss: 0.5420, Val acc: 70.3704%, Best Val loss: 0.5352 Best Val acc: 76.54%\n",
      "Epoch 95/100, Train loss: 0.3380, Train acc: 87.3016%, Val loss: 0.5395, Val acc: 71.6049%, Best Val loss: 0.5352 Best Val acc: 76.54%\n",
      "Epoch 96/100, Train loss: 0.3381, Train acc: 87.3016%, Val loss: 0.5372, Val acc: 71.6049%, Best Val loss: 0.5352 Best Val acc: 76.54%\n",
      "Epoch 97/100, Train loss: 0.3391, Train acc: 87.3016%, Val loss: 0.5366, Val acc: 71.6049%, Best Val loss: 0.5352 Best Val acc: 76.54%\n",
      "Epoch 98/100, Train loss: 0.3373, Train acc: 87.8307%, Val loss: 0.5366, Val acc: 71.6049%, Best Val loss: 0.5352 Best Val acc: 76.54%\n",
      "Epoch 99/100, Train loss: 0.3405, Train acc: 87.8307%, Val loss: 0.5367, Val acc: 71.6049%, Best Val loss: 0.5352 Best Val acc: 76.54%\n",
      "Epoch 100/100, Train loss: 0.3384, Train acc: 87.8307%, Val loss: 0.5367, Val acc: 71.6049%, Best Val loss: 0.5352 Best Val acc: 76.54%\n"
     ]
    },
    {
     "name": "stderr",
     "output_type": "stream",
     "text": [
      "\n"
     ]
    }
   ],
   "source": [
    "import torch.optim as optim\n",
    "from torch.optim.lr_scheduler import CosineAnnealingLR, StepLR\n",
    "from tqdm.auto import tqdm\n",
    "\n",
    "train_losses = []\n",
    "val_losses = []\n",
    "train_accuracies = []\n",
    "val_accuracies = []\n",
    "\n",
    "epochs = 100\n",
    "\n",
    "model = Model()\n",
    "# print(model)\n",
    "\n",
    "best_val_loss = float('inf')\n",
    "best_val_acc = -1\n",
    "\n",
    "criterion = nn.CrossEntropyLoss()\n",
    "optimizer = optim.Adam(model.parameters(), lr=1e-3)\n",
    "lr_scheduler = CosineAnnealingLR(optimizer, T_max=epochs, eta_min=0)\n",
    "\n",
    "for epoch in tqdm(range(epochs)):\n",
    "    # Training\n",
    "    model.train()\n",
    "    total_loss = 0.0\n",
    "    train_correct = 0\n",
    "    total_train_samples = 0\n",
    "\n",
    "    for features, labels in train_loader:\n",
    "        features = features.cuda()\n",
    "        labels = labels.cuda()\n",
    "\n",
    "        outputs = model(features)\n",
    "\n",
    "        loss = criterion(outputs, labels)\n",
    "        total_loss += loss.item()\n",
    "\n",
    "        optimizer.zero_grad()\n",
    "        loss.backward()\n",
    "        optimizer.step()\n",
    "\n",
    "        train_predicted = outputs.argmax(-1)\n",
    "        train_correct += (train_predicted == labels).sum().item()\n",
    "        total_train_samples += labels.size(0)\n",
    "\n",
    "    # Learning rate update\n",
    "    lr_scheduler.step()\n",
    "\n",
    "    avg_train_loss = total_loss / len(train_loader)\n",
    "    train_accuracy = 100. * train_correct / total_train_samples\n",
    "\n",
    "    # Validation\n",
    "    model.eval()\n",
    "    total_val_loss = 0.0\n",
    "    correct = 0\n",
    "    total = 0\n",
    "    with torch.no_grad():\n",
    "        for features, labels in val_loader:\n",
    "            features = features.cuda()\n",
    "            labels = labels.cuda()\n",
    "\n",
    "            outputs = model(features)\n",
    "\n",
    "            loss = criterion(outputs, labels)\n",
    "            total_val_loss += loss.item()\n",
    "\n",
    "            predicted = outputs.argmax(-1)\n",
    "            correct += (predicted == labels).sum().item()\n",
    "            total += labels.size(0)\n",
    "\n",
    "    avg_val_loss = total_val_loss / len(val_loader)\n",
    "    val_accuracy = 100. * correct / total\n",
    "\n",
    "    # Checkpoint\n",
    "    if avg_val_loss < best_val_loss:\n",
    "        best_val_loss = avg_val_loss\n",
    "\n",
    "    if val_accuracy > best_val_acc:\n",
    "        best_val_acc = val_accuracy\n",
    "        torch.save(model.state_dict(), 'model_classification.pth')\n",
    "\n",
    "    print(f'Epoch {epoch+1}/{epochs}, Train loss: {avg_train_loss:.4f}, Train acc: {train_accuracy:.4f}%, Val loss: {avg_val_loss:.4f}, Val acc: {val_accuracy:.4f}%, Best Val loss: {best_val_loss:.4f} Best Val acc: {best_val_acc:.2f}%')\n",
    "\n",
    "    # Store performance\n",
    "    train_losses.append(avg_train_loss)\n",
    "    train_accuracies.append(train_accuracy)\n",
    "    val_losses.append(avg_val_loss)\n",
    "    val_accuracies.append(val_accuracy)"
   ]
  },
  {
   "cell_type": "markdown",
   "id": "a7984c6e-6652-4160-b572-07d48bc93a3f",
   "metadata": {
    "id": "a7984c6e-6652-4160-b572-07d48bc93a3f"
   },
   "source": [
    "#### Visualizing the model performance"
   ]
  },
  {
   "cell_type": "code",
   "execution_count": 70,
   "id": "5559d850-1fb5-4b04-b6ca-60c5b309f34e",
   "metadata": {
    "colab": {
     "base_uri": "https://localhost:8080/",
     "height": 417
    },
    "executionInfo": {
     "elapsed": 491,
     "status": "ok",
     "timestamp": 1742460406150,
     "user": {
      "displayName": "林明聰",
      "userId": "10350944269371174646"
     },
     "user_tz": -480
    },
    "id": "5559d850-1fb5-4b04-b6ca-60c5b309f34e",
    "outputId": "148f2fc0-462b-464a-d933-6c8aa8b1864b"
   },
   "outputs": [
    {
     "data": {
      "image/png": "[encoded data removed]",
      "text/plain": [
       "<Figure size 1500x500 with 2 Axes>"
      ]
     },
     "metadata": {},
     "output_type": "display_data"
    }
   ],
   "source": [
    "import matplotlib.pyplot as plt\n",
    "\n",
    "fig, ax = plt.subplots(1, 2, figsize=(15, 5))\n",
    "\n",
    "# Plotting training and validation accuracy\n",
    "ax[0].plot(train_accuracies)\n",
    "ax[0].plot(val_accuracies)\n",
    "ax[0].set_title('Model Accuracy')\n",
    "ax[0].set_xlabel('Epochs')\n",
    "ax[0].set_ylabel('Accuracy')\n",
    "ax[0].legend(['Train', 'Val'])\n",
    "\n",
    "# Plotting training and validation loss\n",
    "ax[1].plot(train_losses)\n",
    "ax[1].plot(val_losses)\n",
    "ax[1].set_title('Model Loss')\n",
    "ax[1].set_xlabel('Epochs')\n",
    "ax[1].set_ylabel('Loss')\n",
    "ax[1].legend(['Train', 'Val'])\n",
    "\n",
    "plt.show()"
   ]
  },
  {
   "cell_type": "markdown",
   "id": "89c7e51b-8ab6-4aa2-877d-39b6daf55c20",
   "metadata": {
    "id": "89c7e51b-8ab6-4aa2-877d-39b6daf55c20"
   },
   "source": [
    "## D. Evaluating Your Trained Model"
   ]
  },
  {
   "cell_type": "code",
   "execution_count": 16,
   "id": "f49735d7-466f-4037-8078-172f03dffd8d",
   "metadata": {
    "colab": {
     "base_uri": "https://localhost:8080/",
     "height": 206
    },
    "id": "f49735d7-466f-4037-8078-172f03dffd8d",
    "outputId": "e815ef48-71b9-4f9d-98d8-61e3ca1ac734"
   },
   "outputs": [
    {
     "data": {
      "text/html": [
       "<div>\n",
       "<style scoped>\n",
       "    .dataframe tbody tr th:only-of-type {\n",
       "        vertical-align: middle;\n",
       "    }\n",
       "\n",
       "    .dataframe tbody tr th {\n",
       "        vertical-align: top;\n",
       "    }\n",
       "\n",
       "    .dataframe thead th {\n",
       "        text-align: right;\n",
       "    }\n",
       "</style>\n",
       "<table border=\"1\" class=\"dataframe\">\n",
       "  <thead>\n",
       "    <tr style=\"text-align: right;\">\n",
       "      <th></th>\n",
       "      <th>age</th>\n",
       "      <th>sex</th>\n",
       "      <th>cp</th>\n",
       "      <th>trestbps</th>\n",
       "      <th>chol</th>\n",
       "      <th>fbs</th>\n",
       "      <th>restecg</th>\n",
       "      <th>thalach</th>\n",
       "      <th>exang</th>\n",
       "      <th>oldpeak</th>\n",
       "      <th>slope</th>\n",
       "      <th>ca</th>\n",
       "      <th>thal</th>\n",
       "      <th>target</th>\n",
       "    </tr>\n",
       "  </thead>\n",
       "  <tbody>\n",
       "    <tr>\n",
       "      <th>0</th>\n",
       "      <td>50</td>\n",
       "      <td>0</td>\n",
       "      <td>2</td>\n",
       "      <td>120</td>\n",
       "      <td>219</td>\n",
       "      <td>0</td>\n",
       "      <td>1</td>\n",
       "      <td>158</td>\n",
       "      <td>0</td>\n",
       "      <td>1.6</td>\n",
       "      <td>1</td>\n",
       "      <td>0</td>\n",
       "      <td>2</td>\n",
       "      <td>1</td>\n",
       "    </tr>\n",
       "    <tr>\n",
       "      <th>1</th>\n",
       "      <td>58</td>\n",
       "      <td>0</td>\n",
       "      <td>2</td>\n",
       "      <td>120</td>\n",
       "      <td>340</td>\n",
       "      <td>0</td>\n",
       "      <td>1</td>\n",
       "      <td>172</td>\n",
       "      <td>0</td>\n",
       "      <td>0.0</td>\n",
       "      <td>2</td>\n",
       "      <td>0</td>\n",
       "      <td>2</td>\n",
       "      <td>1</td>\n",
       "    </tr>\n",
       "    <tr>\n",
       "      <th>2</th>\n",
       "      <td>66</td>\n",
       "      <td>0</td>\n",
       "      <td>3</td>\n",
       "      <td>150</td>\n",
       "      <td>226</td>\n",
       "      <td>0</td>\n",
       "      <td>1</td>\n",
       "      <td>114</td>\n",
       "      <td>0</td>\n",
       "      <td>2.6</td>\n",
       "      <td>0</td>\n",
       "      <td>0</td>\n",
       "      <td>2</td>\n",
       "      <td>1</td>\n",
       "    </tr>\n",
       "    <tr>\n",
       "      <th>3</th>\n",
       "      <td>43</td>\n",
       "      <td>1</td>\n",
       "      <td>0</td>\n",
       "      <td>150</td>\n",
       "      <td>247</td>\n",
       "      <td>0</td>\n",
       "      <td>1</td>\n",
       "      <td>171</td>\n",
       "      <td>0</td>\n",
       "      <td>1.5</td>\n",
       "      <td>2</td>\n",
       "      <td>0</td>\n",
       "      <td>2</td>\n",
       "      <td>1</td>\n",
       "    </tr>\n",
       "    <tr>\n",
       "      <th>4</th>\n",
       "      <td>69</td>\n",
       "      <td>0</td>\n",
       "      <td>3</td>\n",
       "      <td>140</td>\n",
       "      <td>239</td>\n",
       "      <td>0</td>\n",
       "      <td>1</td>\n",
       "      <td>151</td>\n",
       "      <td>0</td>\n",
       "      <td>1.8</td>\n",
       "      <td>2</td>\n",
       "      <td>2</td>\n",
       "      <td>2</td>\n",
       "      <td>1</td>\n",
       "    </tr>\n",
       "  </tbody>\n",
       "</table>\n",
       "</div>"
      ],
      "text/plain": [
       "   age  sex  cp  trestbps  chol  fbs  restecg  thalach  exang  oldpeak  slope  \\\n",
       "0   50    0   2       120   219    0        1      158      0      1.6      1   \n",
       "1   58    0   2       120   340    0        1      172      0      0.0      2   \n",
       "2   66    0   3       150   226    0        1      114      0      2.6      0   \n",
       "3   43    1   0       150   247    0        1      171      0      1.5      2   \n",
       "4   69    0   3       140   239    0        1      151      0      1.8      2   \n",
       "\n",
       "   ca  thal  target  \n",
       "0   0     2       1  \n",
       "1   0     2       1  \n",
       "2   0     2       1  \n",
       "3   0     2       1  \n",
       "4   2     2       1  "
      ]
     },
     "execution_count": 16,
     "metadata": {},
     "output_type": "execute_result"
    }
   ],
   "source": [
    "# read test file\n",
    "test_data = pd.read_csv('heart_dataset_test.csv')\n",
    "test_data.head()"
   ]
  },
  {
   "cell_type": "code",
   "execution_count": 17,
   "id": "21ae9d85-0dc2-4db0-a7c7-807c6b6c514f",
   "metadata": {
    "colab": {
     "base_uri": "https://localhost:8080/"
    },
    "id": "21ae9d85-0dc2-4db0-a7c7-807c6b6c514f",
    "outputId": "d43458a1-1a66-47f6-fcdb-6111da6be2d9"
   },
   "outputs": [
    {
     "data": {
      "text/plain": [
       "age         0\n",
       "sex         0\n",
       "cp          0\n",
       "trestbps    0\n",
       "chol        0\n",
       "fbs         0\n",
       "restecg     0\n",
       "thalach     0\n",
       "exang       0\n",
       "oldpeak     0\n",
       "slope       0\n",
       "ca          0\n",
       "thal        0\n",
       "target      0\n",
       "dtype: int64"
      ]
     },
     "execution_count": 17,
     "metadata": {},
     "output_type": "execute_result"
    }
   ],
   "source": [
    "test_data.isnull().sum()"
   ]
  },
  {
   "cell_type": "code",
   "execution_count": 18,
   "id": "5ff2812b-a5a5-4ea9-86be-ae2143cb2ba7",
   "metadata": {
    "colab": {
     "base_uri": "https://localhost:8080/"
    },
    "id": "5ff2812b-a5a5-4ea9-86be-ae2143cb2ba7",
    "outputId": "d143e201-d151-4d90-cabc-9719fb87b48f"
   },
   "outputs": [
    {
     "data": {
      "text/plain": [
       "(31, 14)"
      ]
     },
     "execution_count": 18,
     "metadata": {},
     "output_type": "execute_result"
    }
   ],
   "source": [
    "test_data = test_data.values\n",
    "test_data.shape"
   ]
  },
  {
   "cell_type": "code",
   "execution_count": 19,
   "id": "14d4be20-f64f-421d-8971-e1e47873aef8",
   "metadata": {
    "id": "14d4be20-f64f-421d-8971-e1e47873aef8"
   },
   "outputs": [],
   "source": [
    "# Convert to PyTorch tensors\n",
    "x_test = torch.from_numpy(test_data[:, :13]).float()\n",
    "y_test = torch.from_numpy(test_data[:, 13]).long()\n",
    "\n",
    "# Create datasets\n",
    "test_dataset = TensorDataset(x_test, y_test)\n",
    "\n",
    "# Create dataloaders\n",
    "test_loader = DataLoader(test_dataset, batch_size=1, shuffle=False)"
   ]
  },
  {
   "cell_type": "code",
   "execution_count": 75,
   "id": "4bcf8580-42ee-4ee7-ad15-9f080cc57a33",
   "metadata": {
    "colab": {
     "base_uri": "https://localhost:8080/"
    },
    "id": "4bcf8580-42ee-4ee7-ad15-9f080cc57a33",
    "outputId": "8b2ea734-c445-46e2-b24b-c911b86e1ba0"
   },
   "outputs": [
    {
     "name": "stdout",
     "output_type": "stream",
     "text": [
      "Test accuracy is 64.51612903225806%\n"
     ]
    }
   ],
   "source": [
    "# Load the trained weights\n",
    "model.load_state_dict(torch.load('model_classification.pth'))\n",
    "\n",
    "# Set the model to evaluation mode\n",
    "model.eval()\n",
    "\n",
    "test_correct = 0\n",
    "test_total = 0\n",
    "\n",
    "with torch.no_grad():\n",
    "    for features, labels in test_loader:\n",
    "\n",
    "        features = features.cuda()\n",
    "        labels = labels.cuda()\n",
    "\n",
    "        outputs = model(features)\n",
    "\n",
    "        predicted = outputs.argmax(-1)\n",
    "        test_correct += (predicted == labels).sum().item()\n",
    "        test_total += labels.size(0)\n",
    "\n",
    "print(f'Test accuracy is {100. * test_correct / test_total}%')"
   ]
  },
  {
   "cell_type": "markdown",
   "id": "11410ee8",
   "metadata": {},
   "source": [
    "## E. Hyperparameter Select and Experiments\n",
    "\n",
    "Select 2 hyper-parameters of the artificial neural network used in Lab 2 and set 3 different values for each. Perform experiments to compare the effects of varying these hyper-parameters on the loss and accuracy metrics across the training, validation, and test datasets. Present your findings with appropriate tables.\n",
    "\n",
    "**Hyperparameter**\n",
    "- `hidden_units` = { 256, 512, 1024 }\n",
    "- `hidden_layers` = { 5, 10, 50 }"
   ]
  },
  {
   "cell_type": "code",
   "execution_count": 21,
   "id": "4b5d9c21",
   "metadata": {},
   "outputs": [],
   "source": [
    "import torch.nn as nn\n",
    "\n",
    "class Model(nn.Module):\n",
    "    def __init__(self, input_size=13, hidden_units=256, hidden_layers=2, num_classes=2):\n",
    "        super().__init__()\n",
    "        layers = []\n",
    "        # First hidden layer\n",
    "        layers.append(nn.Linear(input_size, hidden_units))\n",
    "        layers.append(nn.ReLU())\n",
    "        # Additional hidden layers if any\n",
    "        for _ in range(hidden_layers - 1):\n",
    "            layers.append(nn.Linear(hidden_units, hidden_units))\n",
    "            layers.append(nn.ReLU())\n",
    "        # Output layer\n",
    "        layers.append(nn.Linear(hidden_units, num_classes))\n",
    "        self.model = nn.Sequential(*layers).cuda()\n",
    "    \n",
    "    def forward(self, x):\n",
    "        return self.model(x)"
   ]
  },
  {
   "cell_type": "code",
   "execution_count": 23,
   "id": "d9cd4b49",
   "metadata": {},
   "outputs": [
    {
     "name": "stdout",
     "output_type": "stream",
     "text": [
      "\n",
      "==================\n",
      "Starting training: hidden_units=256, hidden_layers=5\n"
     ]
    },
    {
     "name": "stderr",
     "output_type": "stream",
     "text": [
      "(units=256, layers=5): 100%|██████████| 100/100 [00:02<00:00, 41.10it/s]\n"
     ]
    },
    {
     "name": "stdout",
     "output_type": "stream",
     "text": [
      "\n",
      "==================\n",
      "Starting training: hidden_units=256, hidden_layers=10\n"
     ]
    },
    {
     "name": "stderr",
     "output_type": "stream",
     "text": [
      "(units=256, layers=10): 100%|██████████| 100/100 [00:03<00:00, 27.39it/s]\n"
     ]
    },
    {
     "name": "stdout",
     "output_type": "stream",
     "text": [
      "\n",
      "==================\n",
      "Starting training: hidden_units=256, hidden_layers=50\n"
     ]
    },
    {
     "name": "stderr",
     "output_type": "stream",
     "text": [
      "(units=256, layers=50): 100%|██████████| 100/100 [00:12<00:00,  7.96it/s]\n"
     ]
    },
    {
     "name": "stdout",
     "output_type": "stream",
     "text": [
      "\n",
      "==================\n",
      "Starting training: hidden_units=512, hidden_layers=5\n"
     ]
    },
    {
     "name": "stderr",
     "output_type": "stream",
     "text": [
      "(units=512, layers=5): 100%|██████████| 100/100 [00:02<00:00, 39.64it/s]\n"
     ]
    },
    {
     "name": "stdout",
     "output_type": "stream",
     "text": [
      "\n",
      "==================\n",
      "Starting training: hidden_units=512, hidden_layers=10\n"
     ]
    },
    {
     "name": "stderr",
     "output_type": "stream",
     "text": [
      "(units=512, layers=10): 100%|██████████| 100/100 [00:03<00:00, 27.02it/s]\n"
     ]
    },
    {
     "name": "stdout",
     "output_type": "stream",
     "text": [
      "\n",
      "==================\n",
      "Starting training: hidden_units=512, hidden_layers=50\n"
     ]
    },
    {
     "name": "stderr",
     "output_type": "stream",
     "text": [
      "(units=512, layers=50): 100%|██████████| 100/100 [00:14<00:00,  7.12it/s]\n"
     ]
    },
    {
     "name": "stdout",
     "output_type": "stream",
     "text": [
      "\n",
      "==================\n",
      "Starting training: hidden_units=1024, hidden_layers=5\n"
     ]
    },
    {
     "name": "stderr",
     "output_type": "stream",
     "text": [
      "(units=1024, layers=5): 100%|██████████| 100/100 [00:02<00:00, 34.61it/s]\n"
     ]
    },
    {
     "name": "stdout",
     "output_type": "stream",
     "text": [
      "\n",
      "==================\n",
      "Starting training: hidden_units=1024, hidden_layers=10\n"
     ]
    },
    {
     "name": "stderr",
     "output_type": "stream",
     "text": [
      "(units=1024, layers=10): 100%|██████████| 100/100 [00:05<00:00, 19.57it/s]\n"
     ]
    },
    {
     "name": "stdout",
     "output_type": "stream",
     "text": [
      "\n",
      "==================\n",
      "Starting training: hidden_units=1024, hidden_layers=50\n"
     ]
    },
    {
     "name": "stderr",
     "output_type": "stream",
     "text": [
      "(units=1024, layers=50): 100%|██████████| 100/100 [00:19<00:00,  5.21it/s]\n"
     ]
    },
    {
     "name": "stdout",
     "output_type": "stream",
     "text": [
      "\n",
      "===== Experiment Results =====\n",
      "   hidden_units  hidden_layers  Train Loss  Train Accuracy (%)  Val Loss  \\\n",
      "0           256              5    0.295435           88.359788  0.606111   \n",
      "1           256             10    0.389270           81.481481  0.642875   \n",
      "2           256             50    0.687095           55.555556  0.692756   \n",
      "3           512              5    0.366607           81.481481  0.670063   \n",
      "4           512             10    0.408209           80.423280  0.654072   \n",
      "5           512             50    0.687215           55.555556  0.692780   \n",
      "6          1024              5    0.412891           78.835979  0.771486   \n",
      "7          1024             10    0.456427           78.835979  0.619544   \n",
      "8          1024             50    0.686733           55.555556  0.692835   \n",
      "\n",
      "   Val Accuracy (%)  Test Loss  Test Accuracy (%)  \n",
      "0         76.543210   0.704958          70.967742  \n",
      "1         67.901235   0.674297          70.967742  \n",
      "2         51.851852   0.702848          48.387097  \n",
      "3         67.901235   0.775512          70.967742  \n",
      "4         69.135802   0.765399          70.967742  \n",
      "5         51.851852   0.702916          48.387097  \n",
      "6         67.901235   0.708708          67.741935  \n",
      "7         69.135802   0.790687          64.516129  \n",
      "8         51.851852   0.703066          48.387097  \n"
     ]
    },
    {
     "data": {
      "image/png": "[encoded data removed]",
      "text/plain": [
       "<Figure size 1800x1000 with 6 Axes>"
      ]
     },
     "metadata": {},
     "output_type": "display_data"
    }
   ],
   "source": [
    "import torch\n",
    "import torch.nn as nn\n",
    "import torch.optim as optim\n",
    "from torch.optim.lr_scheduler import CosineAnnealingLR\n",
    "from tqdm.auto import tqdm\n",
    "import pandas as pd\n",
    "import matplotlib.pyplot as plt\n",
    "\n",
    "epochs = 100  # training epochs configuration\n",
    "\n",
    "# Store experiment results\n",
    "results = []\n",
    "\n",
    "# Enumerate the nine combinations\n",
    "hidden_units_options = [256, 512, 1024]\n",
    "hidden_layers_options = [5, 10, 50]\n",
    "\n",
    "for hidden_units in hidden_units_options:\n",
    "    for hidden_layers in hidden_layers_options:\n",
    "        print(f'\\n==================\\nStarting training: hidden_units={hidden_units}, hidden_layers={hidden_layers}')\n",
    "        # Initialize model (ensure Model supports parameters hidden_units and hidden_layers)\n",
    "        model = Model(hidden_units=hidden_units, hidden_layers=hidden_layers).cuda()\n",
    "        criterion = nn.CrossEntropyLoss()\n",
    "        optimizer = optim.Adam(model.parameters(), lr=1e-3)\n",
    "        lr_scheduler = CosineAnnealingLR(optimizer, T_max=epochs, eta_min=0)\n",
    "        \n",
    "        best_val_loss = float('inf')\n",
    "        best_val_acc = -1\n",
    "        \n",
    "        # Record metrics from the last epoch (optionally record every epoch)\n",
    "        for epoch in tqdm(range(epochs), desc=f'(units={hidden_units}, layers={hidden_layers})'):\n",
    "            # Training phase\n",
    "            model.train()\n",
    "            total_loss = 0.0\n",
    "            train_correct = 0\n",
    "            total_train_samples = 0\n",
    "\n",
    "            for features, labels in train_loader:\n",
    "                features = features.cuda()\n",
    "                labels = labels.cuda()\n",
    "\n",
    "                outputs = model(features)\n",
    "                loss = criterion(outputs, labels)\n",
    "                total_loss += loss.item()\n",
    "                optimizer.zero_grad()\n",
    "                loss.backward()\n",
    "                optimizer.step()\n",
    "\n",
    "                train_pred = outputs.argmax(dim=-1)\n",
    "                train_correct += (train_pred == labels).sum().item()\n",
    "                total_train_samples += labels.size(0)\n",
    "            \n",
    "            lr_scheduler.step()\n",
    "            avg_train_loss = total_loss / len(train_loader)\n",
    "            train_accuracy = 100. * train_correct / total_train_samples\n",
    "\n",
    "            # Validation phase\n",
    "            model.eval()\n",
    "            total_val_loss = 0.0\n",
    "            correct_val = 0\n",
    "            total_val_samples = 0\n",
    "            with torch.no_grad():\n",
    "                for features, labels in val_loader:\n",
    "                    features = features.cuda()\n",
    "                    labels = labels.cuda()\n",
    "                    outputs = model(features)\n",
    "                    loss = criterion(outputs, labels)\n",
    "                    total_val_loss += loss.item()\n",
    "                    pred_val = outputs.argmax(dim=-1)\n",
    "                    correct_val += (pred_val == labels).sum().item()\n",
    "                    total_val_samples += labels.size(0)\n",
    "            avg_val_loss = total_val_loss / len(val_loader)\n",
    "            val_accuracy = 100. * correct_val / total_val_samples\n",
    "            \n",
    "            # Save best validation performance (adjust checkpoint saving condition as necessary)\n",
    "            if avg_val_loss < best_val_loss:\n",
    "                best_val_loss = avg_val_loss\n",
    "            if val_accuracy > best_val_acc:\n",
    "                best_val_acc = val_accuracy\n",
    "                torch.save(model.state_dict(), 'model_classification.pth')\n",
    "            \n",
    "            # print(f'Epoch {epoch+1}/{epochs}, Train loss: {avg_train_loss:.4f}, Train acc: {train_accuracy:.2f}%, '\n",
    "            #       f'Val loss: {avg_val_loss:.4f}, Val acc: {val_accuracy:.2f}%')\n",
    "        \n",
    "        # Testing phase\n",
    "        model.eval()\n",
    "        total_test_loss = 0.0\n",
    "        test_correct = 0\n",
    "        total_test_samples = 0\n",
    "        with torch.no_grad():\n",
    "            for features, labels in test_loader:\n",
    "                features = features.cuda()\n",
    "                labels = labels.cuda()\n",
    "                outputs = model(features)\n",
    "                loss = criterion(outputs, labels)\n",
    "                total_test_loss += loss.item()\n",
    "                pred_test = outputs.argmax(dim=-1)\n",
    "                test_correct += (pred_test == labels).sum().item()\n",
    "                total_test_samples += labels.size(0)\n",
    "        avg_test_loss = total_test_loss / len(test_loader)\n",
    "        test_accuracy = 100. * test_correct / total_test_samples\n",
    "\n",
    "        # Save the final performance for this hyperparameter configuration (using last epoch metrics)\n",
    "        results.append({\n",
    "           'hidden_units': hidden_units,\n",
    "           'hidden_layers': hidden_layers,\n",
    "           'Train Loss': avg_train_loss,\n",
    "           'Train Accuracy (%)': train_accuracy,\n",
    "           'Val Loss': avg_val_loss,\n",
    "           'Val Accuracy (%)': val_accuracy,\n",
    "           'Test Loss': avg_test_loss,\n",
    "           'Test Accuracy (%)': test_accuracy\n",
    "        })\n",
    "        \n",
    "# Create a result table\n",
    "df_results = pd.DataFrame(results)\n",
    "print(\"\\n===== Experiment Results =====\")\n",
    "print(df_results)\n",
    "df_results.to_csv(\"experiment_results.csv\", index=False)\n",
    "\n",
    "# Plot charts for each metric as a function of hidden_layers, with different lines for each hidden_units\n",
    "metrics = [\"Train Loss\", \"Train Accuracy (%)\", \"Val Loss\", \"Val Accuracy (%)\", \"Test Loss\", \"Test Accuracy (%)\"]\n",
    "fig, axs = plt.subplots(2, 3, figsize=(18, 10))\n",
    "axs = axs.ravel()\n",
    "\n",
    "for ax, metric in zip(axs, metrics):\n",
    "    for hidden_units in hidden_units_options:\n",
    "        subset = df_results[df_results[\"hidden_units\"] == hidden_units]\n",
    "        ax.plot(subset[\"hidden_layers\"], subset[metric], marker='o', label=f\"units={hidden_units}\")\n",
    "    ax.set_title(metric)\n",
    "    ax.set_xlabel(\"hidden_layers\")\n",
    "    ax.set_ylabel(metric)\n",
    "    ax.legend()\n",
    "    \n",
    "plt.tight_layout()\n",
    "plt.show()"
   ]
  }
 ],
 "metadata": {
  "accelerator": "GPU",
  "colab": {
   "gpuType": "T4",
   "provenance": []
  },
  "kernelspec": {
   "display_name": "DL_py3.12",
   "language": "python",
   "name": "python3"
  },
  "language_info": {
   "codemirror_mode": {
    "name": "ipython",
    "version": 3
   },
   "file_extension": ".py",
   "mimetype": "text/x-python",
   "name": "python",
   "nbconvert_exporter": "python",
   "pygments_lexer": "ipython3",
   "version": "3.12.9"
  },
  "widgets": {
   "application/vnd.jupyter.widget-state+json": {
    "0b32611e586442e091574299abf92844": {
     "model_module": "@jupyter-widgets/base",
     "model_module_version": "1.2.0",
     "model_name": "LayoutModel",
     "state": {
      "_model_module": "@jupyter-widgets/base",
      "_model_module_version": "1.2.0",
      "_model_name": "LayoutModel",
      "_view_count": null,
      "_view_module": "@jupyter-widgets/base",
      "_view_module_version": "1.2.0",
      "_view_name": "LayoutView",
      "align_content": null,
      "align_items": null,
      "align_self": null,
      "border": null,
      "bottom": null,
      "display": null,
      "flex": null,
      "flex_flow": null,
      "grid_area": null,
      "grid_auto_columns": null,
      "grid_auto_flow": null,
      "grid_auto_rows": null,
      "grid_column": null,
      "grid_gap": null,
      "grid_row": null,
      "grid_template_areas": null,
      "grid_template_columns": null,
      "grid_template_rows": null,
      "height": null,
      "justify_content": null,
      "justify_items": null,
      "left": null,
      "margin": null,
      "max_height": null,
      "max_width": null,
      "min_height": null,
      "min_width": null,
      "object_fit": null,
      "object_position": null,
      "order": null,
      "overflow": null,
      "overflow_x": null,
      "overflow_y": null,
      "padding": null,
      "right": null,
      "top": null,
      "visibility": null,
      "width": null
     }
    },
    "0b3b617d2f774d0d98d945aadf21a10b": {
     "model_module": "@jupyter-widgets/base",
     "model_module_version": "1.2.0",
     "model_name": "LayoutModel",
     "state": {
      "_model_module": "@jupyter-widgets/base",
      "_model_module_version": "1.2.0",
      "_model_name": "LayoutModel",
      "_view_count": null,
      "_view_module": "@jupyter-widgets/base",
      "_view_module_version": "1.2.0",
      "_view_name": "LayoutView",
      "align_content": null,
      "align_items": null,
      "align_self": null,
      "border": null,
      "bottom": null,
      "display": null,
      "flex": null,
      "flex_flow": null,
      "grid_area": null,
      "grid_auto_columns": null,
      "grid_auto_flow": null,
      "grid_auto_rows": null,
      "grid_column": null,
      "grid_gap": null,
      "grid_row": null,
      "grid_template_areas": null,
      "grid_template_columns": null,
      "grid_template_rows": null,
      "height": null,
      "justify_content": null,
      "justify_items": null,
      "left": null,
      "margin": null,
      "max_height": null,
      "max_width": null,
      "min_height": null,
      "min_width": null,
      "object_fit": null,
      "object_position": null,
      "order": null,
      "overflow": null,
      "overflow_x": null,
      "overflow_y": null,
      "padding": null,
      "right": null,
      "top": null,
      "visibility": null,
      "width": null
     }
    },
    "167886efe3934f939f2667e85c708f25": {
     "model_module": "@jupyter-widgets/controls",
     "model_module_version": "1.5.0",
     "model_name": "HTMLModel",
     "state": {
      "_dom_classes": [],
      "_model_module": "@jupyter-widgets/controls",
      "_model_module_version": "1.5.0",
      "_model_name": "HTMLModel",
      "_view_count": null,
      "_view_module": "@jupyter-widgets/controls",
      "_view_module_version": "1.5.0",
      "_view_name": "HTMLView",
      "description": "",
      "description_tooltip": null,
      "layout": "IPY_MODEL_0b32611e586442e091574299abf92844",
      "placeholder": "​",
      "style": "IPY_MODEL_96017968444e4e1caaeec5c3fc0f5c9e",
      "value": " 100/100 [00:02&lt;00:00, 66.42it/s]"
     }
    },
    "1b8fa50895034830b53497c4bbec0880": {
     "model_module": "@jupyter-widgets/controls",
     "model_module_version": "1.5.0",
     "model_name": "DescriptionStyleModel",
     "state": {
      "_model_module": "@jupyter-widgets/controls",
      "_model_module_version": "1.5.0",
      "_model_name": "DescriptionStyleModel",
      "_view_count": null,
      "_view_module": "@jupyter-widgets/base",
      "_view_module_version": "1.2.0",
      "_view_name": "StyleView",
      "description_width": ""
     }
    },
    "46ed422cdd4f43f7b46f0f05902cf772": {
     "model_module": "@jupyter-widgets/base",
     "model_module_version": "1.2.0",
     "model_name": "LayoutModel",
     "state": {
      "_model_module": "@jupyter-widgets/base",
      "_model_module_version": "1.2.0",
      "_model_name": "LayoutModel",
      "_view_count": null,
      "_view_module": "@jupyter-widgets/base",
      "_view_module_version": "1.2.0",
      "_view_name": "LayoutView",
      "align_content": null,
      "align_items": null,
      "align_self": null,
      "border": null,
      "bottom": null,
      "display": null,
      "flex": null,
      "flex_flow": null,
      "grid_area": null,
      "grid_auto_columns": null,
      "grid_auto_flow": null,
      "grid_auto_rows": null,
      "grid_column": null,
      "grid_gap": null,
      "grid_row": null,
      "grid_template_areas": null,
      "grid_template_columns": null,
      "grid_template_rows": null,
      "height": null,
      "justify_content": null,
      "justify_items": null,
      "left": null,
      "margin": null,
      "max_height": null,
      "max_width": null,
      "min_height": null,
      "min_width": null,
      "object_fit": null,
      "object_position": null,
      "order": null,
      "overflow": null,
      "overflow_x": null,
      "overflow_y": null,
      "padding": null,
      "right": null,
      "top": null,
      "visibility": null,
      "width": null
     }
    },
    "757a0fae785f4c3aa9f4dd2af6a1d24e": {
     "model_module": "@jupyter-widgets/base",
     "model_module_version": "1.2.0",
     "model_name": "LayoutModel",
     "state": {
      "_model_module": "@jupyter-widgets/base",
      "_model_module_version": "1.2.0",
      "_model_name": "LayoutModel",
      "_view_count": null,
      "_view_module": "@jupyter-widgets/base",
      "_view_module_version": "1.2.0",
      "_view_name": "LayoutView",
      "align_content": null,
      "align_items": null,
      "align_self": null,
      "border": null,
      "bottom": null,
      "display": null,
      "flex": null,
      "flex_flow": null,
      "grid_area": null,
      "grid_auto_columns": null,
      "grid_auto_flow": null,
      "grid_auto_rows": null,
      "grid_column": null,
      "grid_gap": null,
      "grid_row": null,
      "grid_template_areas": null,
      "grid_template_columns": null,
      "grid_template_rows": null,
      "height": null,
      "justify_content": null,
      "justify_items": null,
      "left": null,
      "margin": null,
      "max_height": null,
      "max_width": null,
      "min_height": null,
      "min_width": null,
      "object_fit": null,
      "object_position": null,
      "order": null,
      "overflow": null,
      "overflow_x": null,
      "overflow_y": null,
      "padding": null,
      "right": null,
      "top": null,
      "visibility": null,
      "width": null
     }
    },
    "8f765c76896a4008a03945b2c8d63078": {
     "model_module": "@jupyter-widgets/controls",
     "model_module_version": "1.5.0",
     "model_name": "ProgressStyleModel",
     "state": {
      "_model_module": "@jupyter-widgets/controls",
      "_model_module_version": "1.5.0",
      "_model_name": "ProgressStyleModel",
      "_view_count": null,
      "_view_module": "@jupyter-widgets/base",
      "_view_module_version": "1.2.0",
      "_view_name": "StyleView",
      "bar_color": null,
      "description_width": ""
     }
    },
    "96017968444e4e1caaeec5c3fc0f5c9e": {
     "model_module": "@jupyter-widgets/controls",
     "model_module_version": "1.5.0",
     "model_name": "DescriptionStyleModel",
     "state": {
      "_model_module": "@jupyter-widgets/controls",
      "_model_module_version": "1.5.0",
      "_model_name": "DescriptionStyleModel",
      "_view_count": null,
      "_view_module": "@jupyter-widgets/base",
      "_view_module_version": "1.2.0",
      "_view_name": "StyleView",
      "description_width": ""
     }
    },
    "b3afc8c576604557b0ed34eccd7fcb01": {
     "model_module": "@jupyter-widgets/controls",
     "model_module_version": "1.5.0",
     "model_name": "HBoxModel",
     "state": {
      "_dom_classes": [],
      "_model_module": "@jupyter-widgets/controls",
      "_model_module_version": "1.5.0",
      "_model_name": "HBoxModel",
      "_view_count": null,
      "_view_module": "@jupyter-widgets/controls",
      "_view_module_version": "1.5.0",
      "_view_name": "HBoxView",
      "box_style": "",
      "children": [
       "IPY_MODEL_be82a0b273b148e188655d84d479b5c6",
       "IPY_MODEL_d9fac97e7da246f1b2c514d4dbaaab69",
       "IPY_MODEL_167886efe3934f939f2667e85c708f25"
      ],
      "layout": "IPY_MODEL_0b3b617d2f774d0d98d945aadf21a10b"
     }
    },
    "be82a0b273b148e188655d84d479b5c6": {
     "model_module": "@jupyter-widgets/controls",
     "model_module_version": "1.5.0",
     "model_name": "HTMLModel",
     "state": {
      "_dom_classes": [],
      "_model_module": "@jupyter-widgets/controls",
      "_model_module_version": "1.5.0",
      "_model_name": "HTMLModel",
      "_view_count": null,
      "_view_module": "@jupyter-widgets/controls",
      "_view_module_version": "1.5.0",
      "_view_name": "HTMLView",
      "description": "",
      "description_tooltip": null,
      "layout": "IPY_MODEL_46ed422cdd4f43f7b46f0f05902cf772",
      "placeholder": "​",
      "style": "IPY_MODEL_1b8fa50895034830b53497c4bbec0880",
      "value": "100%"
     }
    },
    "d9fac97e7da246f1b2c514d4dbaaab69": {
     "model_module": "@jupyter-widgets/controls",
     "model_module_version": "1.5.0",
     "model_name": "FloatProgressModel",
     "state": {
      "_dom_classes": [],
      "_model_module": "@jupyter-widgets/controls",
      "_model_module_version": "1.5.0",
      "_model_name": "FloatProgressModel",
      "_view_count": null,
      "_view_module": "@jupyter-widgets/controls",
      "_view_module_version": "1.5.0",
      "_view_name": "ProgressView",
      "bar_style": "success",
      "description": "",
      "description_tooltip": null,
      "layout": "IPY_MODEL_757a0fae785f4c3aa9f4dd2af6a1d24e",
      "max": 100,
      "min": 0,
      "orientation": "horizontal",
      "style": "IPY_MODEL_8f765c76896a4008a03945b2c8d63078",
      "value": 100
     }
    }
   }
  }
 },
 "nbformat": 4,
 "nbformat_minor": 5
}
