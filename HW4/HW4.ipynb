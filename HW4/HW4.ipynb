{
 "cells": [
  {
   "cell_type": "markdown",
   "id": "609dcb62-c2f8-4c6d-9c89-63dc0148a87c",
   "metadata": {
    "id": "609dcb62-c2f8-4c6d-9c89-63dc0148a87c"
   },
   "source": [
    "<div align=\"center\">\n",
    "\n",
    "### Lab 4\n",
    "\n",
    "# National Tsing Hua University\n",
    "\n",
    "#### Spring 2025\n",
    "\n",
    "#### 11320IEEM 513600\n",
    "\n",
    "#### Deep Learning and Industrial Applications\n",
    "    \n",
    "## Lab 4: Predicting Stock Price with Deep Learning\n",
    "\n",
    "</div>"
   ]
  },
  {
   "cell_type": "markdown",
   "id": "061c22d2-eec4-40f4-866b-ccaa2d9a2963",
   "metadata": {
    "id": "061c22d2-eec4-40f4-866b-ccaa2d9a2963",
    "jp-MarkdownHeadingCollapsed": true,
    "tags": []
   },
   "source": [
    "### Introduction\n",
    "\n",
    "In this lab, we explore the application of time-series datasets using Long Short-Term Memory (LSTM) networks, a type of recurrent neural network, to predict stock prices. Specifically, we will use historical price data from Nvidia to forecast the stock's price for the next day based on the prices of the previous N days. This approach is particularly relevant given the volatile nature of stock markets and the increasing reliance on automated trading systems.\n",
    "\n",
    "### Objectives\n",
    "\n",
    "- To understand the fundamentals of LSTM networks and their application in time-series forecasting.\n",
    "- To develop a predictive model that can accurately forecast Nvidia's stock price for the next day using historical data.\n",
    "\n",
    "### Dataset\n",
    "\n",
    "The dataset for this lab is from the \"Huge Stock Market Dataset\" available on Kaggle. This dataset includes daily prices and volumes for all US stocks and ETFs, with a specific focus on Nvidia (NVDA). The dataset features include:\n",
    "\n",
    "- **Date**: The recorded data points.\n",
    "- **Open**: The price at which the stock first traded upon the opening of an exchange on a given trading day.\n",
    "- **High**: The highest price at which the stock traded during the trading day.\n",
    "- **Low**: The lowest price at which the stock traded during the trading day.\n",
    "- **Close**: The price of the stock at closing time.\n",
    "- **Volume**: The number of shares or contracts traded in a security or an entire market during a given period.\n",
    "- **OpenInt**: The total number of outstanding derivative contracts, like options or futures. [More details here](https://www.kaggle.com/datasets/borismarjanovic/price-volume-data-for-all-us-stocks-etfs/discussion/121096)\n",
    "\n",
    "### References\n",
    "\n",
    "- [Huge Stock Market Dataset](https://www.kaggle.com/datasets/borismarjanovic/price-volume-data-for-all-us-stocks-etfs) for the dataset used in this lab.\n"
   ]
  },
  {
   "cell_type": "markdown",
   "id": "ad594fc8-4989-40f3-b124-4550fe7df386",
   "metadata": {
    "id": "ad594fc8-4989-40f3-b124-4550fe7df386"
   },
   "source": [
    "## A. Checking and Preprocessing"
   ]
  },
  {
   "cell_type": "code",
   "execution_count": 26,
   "id": "42a3eafd-cbcd-4c56-82cb-83a0bfa2399e",
   "metadata": {
    "colab": {
     "base_uri": "https://localhost:8080/",
     "height": 424
    },
    "executionInfo": {
     "elapsed": 2113,
     "status": "ok",
     "timestamp": 1744823379713,
     "user": {
      "displayName": "林明聰",
      "userId": "10350944269371174646"
     },
     "user_tz": -480
    },
    "id": "42a3eafd-cbcd-4c56-82cb-83a0bfa2399e",
    "outputId": "04904277-f9b5-45ab-9daa-9d0fade46bce"
   },
   "outputs": [
    {
     "data": {
      "text/html": [
       "<div>\n",
       "<style scoped>\n",
       "    .dataframe tbody tr th:only-of-type {\n",
       "        vertical-align: middle;\n",
       "    }\n",
       "\n",
       "    .dataframe tbody tr th {\n",
       "        vertical-align: top;\n",
       "    }\n",
       "\n",
       "    .dataframe thead th {\n",
       "        text-align: right;\n",
       "    }\n",
       "</style>\n",
       "<table border=\"1\" class=\"dataframe\">\n",
       "  <thead>\n",
       "    <tr style=\"text-align: right;\">\n",
       "      <th></th>\n",
       "      <th>Date</th>\n",
       "      <th>Open</th>\n",
       "      <th>High</th>\n",
       "      <th>Low</th>\n",
       "      <th>Close</th>\n",
       "      <th>Volume</th>\n",
       "      <th>OpenInt</th>\n",
       "    </tr>\n",
       "  </thead>\n",
       "  <tbody>\n",
       "    <tr>\n",
       "      <th>0</th>\n",
       "      <td>1999-01-22</td>\n",
       "      <td>1.6238</td>\n",
       "      <td>1.8092</td>\n",
       "      <td>1.4379</td>\n",
       "      <td>1.5215</td>\n",
       "      <td>18297633</td>\n",
       "      <td>0</td>\n",
       "    </tr>\n",
       "    <tr>\n",
       "      <th>1</th>\n",
       "      <td>1999-01-25</td>\n",
       "      <td>1.6423</td>\n",
       "      <td>1.6980</td>\n",
       "      <td>1.5215</td>\n",
       "      <td>1.6793</td>\n",
       "      <td>3445279</td>\n",
       "      <td>0</td>\n",
       "    </tr>\n",
       "    <tr>\n",
       "      <th>2</th>\n",
       "      <td>1999-01-26</td>\n",
       "      <td>1.6980</td>\n",
       "      <td>1.7350</td>\n",
       "      <td>1.5311</td>\n",
       "      <td>1.5494</td>\n",
       "      <td>2320993</td>\n",
       "      <td>0</td>\n",
       "    </tr>\n",
       "    <tr>\n",
       "      <th>3</th>\n",
       "      <td>1999-01-27</td>\n",
       "      <td>1.5586</td>\n",
       "      <td>1.5957</td>\n",
       "      <td>1.4660</td>\n",
       "      <td>1.5494</td>\n",
       "      <td>1662658</td>\n",
       "      <td>0</td>\n",
       "    </tr>\n",
       "    <tr>\n",
       "      <th>4</th>\n",
       "      <td>1999-01-28</td>\n",
       "      <td>1.5494</td>\n",
       "      <td>1.5586</td>\n",
       "      <td>1.5311</td>\n",
       "      <td>1.5401</td>\n",
       "      <td>1540110</td>\n",
       "      <td>0</td>\n",
       "    </tr>\n",
       "    <tr>\n",
       "      <th>...</th>\n",
       "      <td>...</td>\n",
       "      <td>...</td>\n",
       "      <td>...</td>\n",
       "      <td>...</td>\n",
       "      <td>...</td>\n",
       "      <td>...</td>\n",
       "      <td>...</td>\n",
       "    </tr>\n",
       "    <tr>\n",
       "      <th>4728</th>\n",
       "      <td>2017-11-06</td>\n",
       "      <td>207.2000</td>\n",
       "      <td>209.9800</td>\n",
       "      <td>206.7000</td>\n",
       "      <td>209.6300</td>\n",
       "      <td>9731783</td>\n",
       "      <td>0</td>\n",
       "    </tr>\n",
       "    <tr>\n",
       "      <th>4729</th>\n",
       "      <td>2017-11-07</td>\n",
       "      <td>210.5500</td>\n",
       "      <td>212.9000</td>\n",
       "      <td>210.0560</td>\n",
       "      <td>212.0000</td>\n",
       "      <td>10671815</td>\n",
       "      <td>0</td>\n",
       "    </tr>\n",
       "    <tr>\n",
       "      <th>4730</th>\n",
       "      <td>2017-11-08</td>\n",
       "      <td>211.8500</td>\n",
       "      <td>212.0000</td>\n",
       "      <td>207.2400</td>\n",
       "      <td>209.1600</td>\n",
       "      <td>13033902</td>\n",
       "      <td>0</td>\n",
       "    </tr>\n",
       "    <tr>\n",
       "      <th>4731</th>\n",
       "      <td>2017-11-09</td>\n",
       "      <td>205.2700</td>\n",
       "      <td>206.3300</td>\n",
       "      <td>200.3700</td>\n",
       "      <td>205.3200</td>\n",
       "      <td>23895006</td>\n",
       "      <td>0</td>\n",
       "    </tr>\n",
       "    <tr>\n",
       "      <th>4732</th>\n",
       "      <td>2017-11-10</td>\n",
       "      <td>213.0800</td>\n",
       "      <td>218.6700</td>\n",
       "      <td>211.6300</td>\n",
       "      <td>216.1400</td>\n",
       "      <td>31300857</td>\n",
       "      <td>0</td>\n",
       "    </tr>\n",
       "  </tbody>\n",
       "</table>\n",
       "<p>4733 rows × 7 columns</p>\n",
       "</div>"
      ],
      "text/plain": [
       "            Date      Open      High       Low     Close    Volume  OpenInt\n",
       "0     1999-01-22    1.6238    1.8092    1.4379    1.5215  18297633        0\n",
       "1     1999-01-25    1.6423    1.6980    1.5215    1.6793   3445279        0\n",
       "2     1999-01-26    1.6980    1.7350    1.5311    1.5494   2320993        0\n",
       "3     1999-01-27    1.5586    1.5957    1.4660    1.5494   1662658        0\n",
       "4     1999-01-28    1.5494    1.5586    1.5311    1.5401   1540110        0\n",
       "...          ...       ...       ...       ...       ...       ...      ...\n",
       "4728  2017-11-06  207.2000  209.9800  206.7000  209.6300   9731783        0\n",
       "4729  2017-11-07  210.5500  212.9000  210.0560  212.0000  10671815        0\n",
       "4730  2017-11-08  211.8500  212.0000  207.2400  209.1600  13033902        0\n",
       "4731  2017-11-09  205.2700  206.3300  200.3700  205.3200  23895006        0\n",
       "4732  2017-11-10  213.0800  218.6700  211.6300  216.1400  31300857        0\n",
       "\n",
       "[4733 rows x 7 columns]"
      ]
     },
     "execution_count": 26,
     "metadata": {},
     "output_type": "execute_result"
    }
   ],
   "source": [
    "import pandas as pd\n",
    "\n",
    "df = pd.read_csv('nvda.us.txt')\n",
    "df"
   ]
  },
  {
   "cell_type": "code",
   "execution_count": 27,
   "id": "97f3e5ca-600c-42f6-88d2-8e057ca2c612",
   "metadata": {
    "id": "97f3e5ca-600c-42f6-88d2-8e057ca2c612"
   },
   "outputs": [
    {
     "data": {
      "image/png": "[encoded data removed]",
      "text/plain": [
       "<Figure size 1500x500 with 1 Axes>"
      ]
     },
     "metadata": {},
     "output_type": "display_data"
    }
   ],
   "source": [
    "plot = df.plot('Date', 'High', figsize=(15, 5))"
   ]
  },
  {
   "cell_type": "code",
   "execution_count": 28,
   "id": "34241797-60f0-4818-a44b-f5379948d621",
   "metadata": {
    "id": "34241797-60f0-4818-a44b-f5379948d621"
   },
   "outputs": [
    {
     "data": {
      "text/plain": [
       "Index(['Date', 'Open', 'High', 'Low', 'Close', 'Volume', 'OpenInt'], dtype='object')"
      ]
     },
     "execution_count": 28,
     "metadata": {},
     "output_type": "execute_result"
    }
   ],
   "source": [
    "df.columns"
   ]
  },
  {
   "cell_type": "code",
   "execution_count": 29,
   "id": "026585db-a6d8-4062-85de-e3a7eaebed72",
   "metadata": {
    "id": "026585db-a6d8-4062-85de-e3a7eaebed72"
   },
   "outputs": [
    {
     "name": "stdout",
     "output_type": "stream",
     "text": [
      "<class 'pandas.core.frame.DataFrame'>\n",
      "RangeIndex: 4733 entries, 0 to 4732\n",
      "Data columns (total 7 columns):\n",
      " #   Column   Non-Null Count  Dtype  \n",
      "---  ------   --------------  -----  \n",
      " 0   Date     4733 non-null   object \n",
      " 1   Open     4733 non-null   float64\n",
      " 2   High     4733 non-null   float64\n",
      " 3   Low      4733 non-null   float64\n",
      " 4   Close    4733 non-null   float64\n",
      " 5   Volume   4733 non-null   int64  \n",
      " 6   OpenInt  4733 non-null   int64  \n",
      "dtypes: float64(4), int64(2), object(1)\n",
      "memory usage: 259.0+ KB\n"
     ]
    }
   ],
   "source": [
    "df.info()"
   ]
  },
  {
   "cell_type": "code",
   "execution_count": 30,
   "id": "69031e6d-0fb5-49d9-b723-a0d1fee08c3c",
   "metadata": {
    "id": "69031e6d-0fb5-49d9-b723-a0d1fee08c3c"
   },
   "outputs": [
    {
     "data": {
      "text/plain": [
       "Date       0\n",
       "Open       0\n",
       "High       0\n",
       "Low        0\n",
       "Close      0\n",
       "Volume     0\n",
       "OpenInt    0\n",
       "dtype: int64"
      ]
     },
     "execution_count": 30,
     "metadata": {},
     "output_type": "execute_result"
    }
   ],
   "source": [
    "# checking for null values\n",
    "df.isnull().sum()"
   ]
  },
  {
   "cell_type": "code",
   "execution_count": 31,
   "id": "cb3090f8-2cfa-4f56-8aa5-cf954bb19932",
   "metadata": {
    "id": "cb3090f8-2cfa-4f56-8aa5-cf954bb19932"
   },
   "outputs": [],
   "source": [
    "df = df.dropna()"
   ]
  },
  {
   "cell_type": "code",
   "execution_count": 32,
   "id": "38aadbee-d68f-4ae0-b842-b40800b0cac9",
   "metadata": {
    "id": "38aadbee-d68f-4ae0-b842-b40800b0cac9"
   },
   "outputs": [
    {
     "data": {
      "text/plain": [
       "(4733, 7)"
      ]
     },
     "execution_count": 32,
     "metadata": {},
     "output_type": "execute_result"
    }
   ],
   "source": [
    "df.shape"
   ]
  },
  {
   "cell_type": "code",
   "execution_count": 33,
   "id": "051108c6-7011-4187-9e36-bd2944a019ca",
   "metadata": {
    "id": "051108c6-7011-4187-9e36-bd2944a019ca"
   },
   "outputs": [
    {
     "data": {
      "text/html": [
       "<div>\n",
       "<style scoped>\n",
       "    .dataframe tbody tr th:only-of-type {\n",
       "        vertical-align: middle;\n",
       "    }\n",
       "\n",
       "    .dataframe tbody tr th {\n",
       "        vertical-align: top;\n",
       "    }\n",
       "\n",
       "    .dataframe thead th {\n",
       "        text-align: right;\n",
       "    }\n",
       "</style>\n",
       "<table border=\"1\" class=\"dataframe\">\n",
       "  <thead>\n",
       "    <tr style=\"text-align: right;\">\n",
       "      <th></th>\n",
       "      <th>Open</th>\n",
       "      <th>High</th>\n",
       "      <th>Low</th>\n",
       "      <th>Close</th>\n",
       "      <th>Volume</th>\n",
       "      <th>OpenInt</th>\n",
       "    </tr>\n",
       "  </thead>\n",
       "  <tbody>\n",
       "    <tr>\n",
       "      <th>count</th>\n",
       "      <td>4733.000000</td>\n",
       "      <td>4733.000000</td>\n",
       "      <td>4733.000000</td>\n",
       "      <td>4733.000000</td>\n",
       "      <td>4.733000e+03</td>\n",
       "      <td>4733.0</td>\n",
       "    </tr>\n",
       "    <tr>\n",
       "      <th>mean</th>\n",
       "      <td>20.796242</td>\n",
       "      <td>21.157332</td>\n",
       "      <td>20.420417</td>\n",
       "      <td>20.805404</td>\n",
       "      <td>1.615287e+07</td>\n",
       "      <td>0.0</td>\n",
       "    </tr>\n",
       "    <tr>\n",
       "      <th>std</th>\n",
       "      <td>30.236284</td>\n",
       "      <td>30.615622</td>\n",
       "      <td>29.792958</td>\n",
       "      <td>30.263705</td>\n",
       "      <td>1.272446e+07</td>\n",
       "      <td>0.0</td>\n",
       "    </tr>\n",
       "    <tr>\n",
       "      <th>min</th>\n",
       "      <td>1.298900</td>\n",
       "      <td>1.317500</td>\n",
       "      <td>1.233900</td>\n",
       "      <td>1.261900</td>\n",
       "      <td>0.000000e+00</td>\n",
       "      <td>0.0</td>\n",
       "    </tr>\n",
       "    <tr>\n",
       "      <th>25%</th>\n",
       "      <td>7.988300</td>\n",
       "      <td>8.247900</td>\n",
       "      <td>7.756400</td>\n",
       "      <td>7.978900</td>\n",
       "      <td>8.181100e+06</td>\n",
       "      <td>0.0</td>\n",
       "    </tr>\n",
       "    <tr>\n",
       "      <th>50%</th>\n",
       "      <td>12.963000</td>\n",
       "      <td>13.238000</td>\n",
       "      <td>12.721000</td>\n",
       "      <td>12.990000</td>\n",
       "      <td>1.390271e+07</td>\n",
       "      <td>0.0</td>\n",
       "    </tr>\n",
       "    <tr>\n",
       "      <th>75%</th>\n",
       "      <td>19.141000</td>\n",
       "      <td>19.418000</td>\n",
       "      <td>18.778000</td>\n",
       "      <td>19.106000</td>\n",
       "      <td>2.051602e+07</td>\n",
       "      <td>0.0</td>\n",
       "    </tr>\n",
       "    <tr>\n",
       "      <th>max</th>\n",
       "      <td>213.080000</td>\n",
       "      <td>218.670000</td>\n",
       "      <td>211.630000</td>\n",
       "      <td>216.140000</td>\n",
       "      <td>2.496659e+08</td>\n",
       "      <td>0.0</td>\n",
       "    </tr>\n",
       "  </tbody>\n",
       "</table>\n",
       "</div>"
      ],
      "text/plain": [
       "              Open         High          Low        Close        Volume  \\\n",
       "count  4733.000000  4733.000000  4733.000000  4733.000000  4.733000e+03   \n",
       "mean     20.796242    21.157332    20.420417    20.805404  1.615287e+07   \n",
       "std      30.236284    30.615622    29.792958    30.263705  1.272446e+07   \n",
       "min       1.298900     1.317500     1.233900     1.261900  0.000000e+00   \n",
       "25%       7.988300     8.247900     7.756400     7.978900  8.181100e+06   \n",
       "50%      12.963000    13.238000    12.721000    12.990000  1.390271e+07   \n",
       "75%      19.141000    19.418000    18.778000    19.106000  2.051602e+07   \n",
       "max     213.080000   218.670000   211.630000   216.140000  2.496659e+08   \n",
       "\n",
       "       OpenInt  \n",
       "count   4733.0  \n",
       "mean       0.0  \n",
       "std        0.0  \n",
       "min        0.0  \n",
       "25%        0.0  \n",
       "50%        0.0  \n",
       "75%        0.0  \n",
       "max        0.0  "
      ]
     },
     "execution_count": 33,
     "metadata": {},
     "output_type": "execute_result"
    }
   ],
   "source": [
    "df.describe()"
   ]
  },
  {
   "cell_type": "markdown",
   "id": "8ce7a0c5-76d6-4863-ba61-0544a220962a",
   "metadata": {
    "id": "8ce7a0c5-76d6-4863-ba61-0544a220962a"
   },
   "source": [
    "#### Converting the DataFrame to a NumPy Array"
   ]
  },
  {
   "cell_type": "code",
   "execution_count": 34,
   "id": "5735baad-2db8-4306-aa4c-7788d2b49621",
   "metadata": {
    "id": "5735baad-2db8-4306-aa4c-7788d2b49621"
   },
   "outputs": [],
   "source": [
    "import numpy as np \n",
    "\n",
    "def create_sequences(input_data, output_data, window_size, step):\n",
    "    sequences = []\n",
    "    labels = []\n",
    "    for i in range(0, len(input_data) - window_size, step):\n",
    "        sequences.append(input_data[i:(i + window_size)])\n",
    "        labels.append(output_data[i + window_size])\n",
    "    return np.array(sequences), np.array(labels)"
   ]
  },
  {
   "cell_type": "code",
   "execution_count": 35,
   "id": "29b8e189-7f39-435a-8038-39098b147325",
   "metadata": {
    "id": "29b8e189-7f39-435a-8038-39098b147325"
   },
   "outputs": [
    {
     "name": "stdout",
     "output_type": "stream",
     "text": [
      "Shape of data X: (315, 10, 4)\n",
      "Shape of data y: (315,)\n",
      "Shape of data x_train: (227, 10, 4)\n",
      "Shape of data y_train: (227,)\n",
      "Shape of data x_val: (57, 10, 4)\n",
      "Shape of data y_val: (57,)\n",
      "Shape of data x_test: (31, 10, 4)\n",
      "Shape of data y_test: (31,)\n",
      "Number of samples in training and validation are 227 and 57.\n"
     ]
    }
   ],
   "source": [
    "import numpy as np\n",
    "import torch\n",
    "from torch.utils.data import DataLoader, TensorDataset\n",
    "import matplotlib.pyplot as plt\n",
    "\n",
    "# Select features\n",
    "features = df[['Open', 'High', 'Low', 'Close']]\n",
    "labels = df['High'].shift(-1)  # Next day's high price as label\n",
    "\n",
    "X, y = create_sequences(features, labels, window_size=10, step=15)\n",
    "\n",
    "print(f'Shape of data X: {X.shape}')\n",
    "print(f'Shape of data y: {y.shape}')\n",
    "\n",
    "# split the hold-out tests\n",
    "ind = np.linspace(0, len(X)-1, num=int(len(X)*0.1), dtype=int) # 10% hold-out\n",
    "x_test = X[ind]\n",
    "y_test = y[ind]\n",
    "all_ind = np.arange(len(X))\n",
    "remains_ind = np.delete(all_ind, ind)\n",
    "\n",
    "X = X[remains_ind]\n",
    "y = y[remains_ind]\n",
    "\n",
    "# shuffle dataset\n",
    "ind = np.random.permutation(len(X))\n",
    "X = X[ind]\n",
    "y = y[ind]\n",
    "split_point = int(X.shape[0]*0.8)\n",
    "\n",
    "x_train = X[:split_point]\n",
    "y_train = y[:split_point]\n",
    "x_val = X[split_point:]\n",
    "y_val = y[split_point:]\n",
    "\n",
    "print(f'Shape of data x_train: {x_train.shape}')\n",
    "print(f'Shape of data y_train: {y_train.shape}')\n",
    "print(f'Shape of data x_val: {x_val.shape}')\n",
    "print(f'Shape of data y_val: {y_val.shape}')\n",
    "print(f'Shape of data x_test: {x_test.shape}')\n",
    "print(f'Shape of data y_test: {y_test.shape}')\n",
    "\n",
    "# Convert to PyTorch tensors\n",
    "x_train = torch.from_numpy(x_train).float()\n",
    "y_train = torch.from_numpy(y_train).float()\n",
    "\n",
    "x_val = torch.from_numpy(x_val).float()\n",
    "y_val = torch.from_numpy(y_val).float()\n",
    "\n",
    "x_test = torch.from_numpy(x_test).float()\n",
    "y_test = torch.from_numpy(y_test).float()\n",
    "\n",
    "batch_size = 32\n",
    "\n",
    "# Create datasets\n",
    "train_dataset = TensorDataset(x_train, y_train)\n",
    "val_dataset = TensorDataset(x_val, y_val)\n",
    "test_dataset = TensorDataset(x_test, y_test)\n",
    "\n",
    "# Create dataloaders\n",
    "train_loader = DataLoader(train_dataset, batch_size=batch_size, shuffle=True)\n",
    "val_loader = DataLoader(val_dataset, batch_size=batch_size, shuffle=False)\n",
    "test_loader = DataLoader(test_dataset, batch_size=batch_size, shuffle=False)\n",
    "\n",
    "print(f'Number of samples in training and validation are {len(train_loader.dataset)} and {len(val_loader.dataset)}.')"
   ]
  },
  {
   "cell_type": "markdown",
   "id": "8ffc26b9-6044-41e9-93e2-7dc6250dbd27",
   "metadata": {
    "id": "8ffc26b9-6044-41e9-93e2-7dc6250dbd27"
   },
   "source": [
    "## B. Defining Neural Networks"
   ]
  },
  {
   "cell_type": "code",
   "execution_count": 36,
   "id": "77975746-a7a7-4676-9527-57674cd98c0f",
   "metadata": {
    "id": "77975746-a7a7-4676-9527-57674cd98c0f"
   },
   "outputs": [],
   "source": [
    "import torch.nn as nn\n",
    "\n",
    "class LSTMModel(nn.Module):\n",
    "    def __init__(self, input_dim, hidden_dim, num_layers, output_dim):\n",
    "        super().__init__()\n",
    "        self.hidden_dim = hidden_dim\n",
    "        self.num_layers = num_layers\n",
    "        self.lstm = nn.LSTM(input_dim, hidden_dim, num_layers, batch_first=True)\n",
    "        self.fc = nn.Linear(hidden_dim, output_dim)\n",
    "\n",
    "    def forward(self, x):\n",
    "        out, _ = self.lstm(x)\n",
    "        out = self.fc(out[:, -1, :])\n",
    "        return out"
   ]
  },
  {
   "cell_type": "markdown",
   "id": "cbb8b5b0-0ec0-406c-a42e-048aa00e05aa",
   "metadata": {
    "id": "cbb8b5b0-0ec0-406c-a42e-048aa00e05aa"
   },
   "source": [
    "## C. Training the Neural Network"
   ]
  },
  {
   "cell_type": "code",
   "execution_count": 37,
   "id": "f73a5c35-c15d-49bb-8a33-a7f017159499",
   "metadata": {
    "id": "f73a5c35-c15d-49bb-8a33-a7f017159499"
   },
   "outputs": [
    {
     "name": "stdout",
     "output_type": "stream",
     "text": [
      "LSTMModel(\n",
      "  (lstm): LSTM(4, 500, num_layers=2, batch_first=True)\n",
      "  (fc): Linear(in_features=500, out_features=1, bias=True)\n",
      ")\n"
     ]
    },
    {
     "data": {
      "application/vnd.jupyter.widget-view+json": {
       "model_id": "8101ac3838a34c5b939ca0e404367992",
       "version_major": 2,
       "version_minor": 0
      },
      "text/plain": [
       "  0%|          | 0/100 [00:00<?, ?it/s]"
      ]
     },
     "metadata": {},
     "output_type": "display_data"
    },
    {
     "name": "stdout",
     "output_type": "stream",
     "text": [
      "Epoch 1/100, Train loss: 935.5425, Val loss: 1320.6642, Best Val loss: 1320.6642\n",
      "Epoch 2/100, Train loss: 1745.7535, Val loss: 1241.4469, Best Val loss: 1241.4469\n",
      "Epoch 3/100, Train loss: 674.4765, Val loss: 1212.6870, Best Val loss: 1212.6870\n",
      "Epoch 4/100, Train loss: 962.5457, Val loss: 1200.6567, Best Val loss: 1200.6567\n",
      "Epoch 5/100, Train loss: 751.3422, Val loss: 1192.6577, Best Val loss: 1192.6577\n",
      "Epoch 6/100, Train loss: 685.1017, Val loss: 1189.5709, Best Val loss: 1189.5709\n",
      "Epoch 7/100, Train loss: 668.0050, Val loss: 1188.8086, Best Val loss: 1188.8086\n",
      "Epoch 8/100, Train loss: 681.7660, Val loss: 1190.2205, Best Val loss: 1188.8086\n",
      "Epoch 9/100, Train loss: 667.6975, Val loss: 1192.2318, Best Val loss: 1188.8086\n",
      "Epoch 10/100, Train loss: 671.0690, Val loss: 1195.8881, Best Val loss: 1188.8086\n",
      "Epoch 11/100, Train loss: 1264.0212, Val loss: 1195.8010, Best Val loss: 1188.8086\n",
      "Epoch 12/100, Train loss: 665.1893, Val loss: 1186.3091, Best Val loss: 1186.3091\n",
      "Epoch 13/100, Train loss: 671.6188, Val loss: 1183.1406, Best Val loss: 1183.1406\n",
      "Epoch 14/100, Train loss: 673.0193, Val loss: 1183.1953, Best Val loss: 1183.1406\n",
      "Epoch 15/100, Train loss: 669.8667, Val loss: 1184.1359, Best Val loss: 1183.1406\n",
      "Epoch 16/100, Train loss: 666.4076, Val loss: 1185.6600, Best Val loss: 1183.1406\n",
      "Epoch 17/100, Train loss: 833.3710, Val loss: 1185.3568, Best Val loss: 1183.1406\n",
      "Epoch 18/100, Train loss: 674.7228, Val loss: 1176.7265, Best Val loss: 1176.7265\n",
      "Epoch 19/100, Train loss: 718.7824, Val loss: 1174.2983, Best Val loss: 1174.2983\n",
      "Epoch 20/100, Train loss: 661.8101, Val loss: 1171.0521, Best Val loss: 1171.0521\n",
      "Epoch 21/100, Train loss: 658.8860, Val loss: 1173.2146, Best Val loss: 1171.0521\n",
      "Epoch 22/100, Train loss: 1762.0250, Val loss: 1171.8710, Best Val loss: 1171.0521\n",
      "Epoch 23/100, Train loss: 647.8929, Val loss: 1159.5418, Best Val loss: 1159.5418\n",
      "Epoch 24/100, Train loss: 650.6093, Val loss: 1153.9807, Best Val loss: 1153.9807\n",
      "Epoch 25/100, Train loss: 650.9364, Val loss: 1152.7043, Best Val loss: 1152.7043\n",
      "Epoch 26/100, Train loss: 645.5118, Val loss: 1152.0390, Best Val loss: 1152.0390\n",
      "Epoch 27/100, Train loss: 652.5290, Val loss: 1152.7114, Best Val loss: 1152.0390\n",
      "Epoch 28/100, Train loss: 639.7241, Val loss: 1154.9697, Best Val loss: 1152.0390\n",
      "Epoch 29/100, Train loss: 639.8968, Val loss: 1153.8674, Best Val loss: 1152.0390\n",
      "Epoch 30/100, Train loss: 638.8978, Val loss: 1153.8108, Best Val loss: 1152.0390\n",
      "Epoch 31/100, Train loss: 648.2396, Val loss: 1150.0225, Best Val loss: 1150.0225\n",
      "Epoch 32/100, Train loss: 636.9771, Val loss: 1148.4340, Best Val loss: 1148.4340\n",
      "Epoch 33/100, Train loss: 626.7392, Val loss: 1147.7864, Best Val loss: 1147.7864\n",
      "Epoch 34/100, Train loss: 623.7272, Val loss: 1143.3628, Best Val loss: 1143.3628\n",
      "Epoch 35/100, Train loss: 653.9415, Val loss: 1138.1892, Best Val loss: 1138.1892\n",
      "Epoch 36/100, Train loss: 2329.7725, Val loss: 1129.5457, Best Val loss: 1129.5457\n",
      "Epoch 37/100, Train loss: 613.7464, Val loss: 1112.7761, Best Val loss: 1112.7761\n",
      "Epoch 38/100, Train loss: 616.9436, Val loss: 1104.7885, Best Val loss: 1104.7885\n",
      "Epoch 39/100, Train loss: 626.4273, Val loss: 1101.0168, Best Val loss: 1101.0168\n",
      "Epoch 40/100, Train loss: 611.9750, Val loss: 1098.4767, Best Val loss: 1098.4767\n",
      "Epoch 41/100, Train loss: 616.4065, Val loss: 1094.3591, Best Val loss: 1094.3591\n",
      "Epoch 42/100, Train loss: 616.4489, Val loss: 1092.0864, Best Val loss: 1092.0864\n",
      "Epoch 43/100, Train loss: 600.9371, Val loss: 1089.5865, Best Val loss: 1089.5865\n",
      "Epoch 44/100, Train loss: 663.6620, Val loss: 1083.3234, Best Val loss: 1083.3234\n",
      "Epoch 45/100, Train loss: 592.7711, Val loss: 1077.4127, Best Val loss: 1077.4127\n",
      "Epoch 46/100, Train loss: 590.2123, Val loss: 1072.4469, Best Val loss: 1072.4469\n",
      "Epoch 47/100, Train loss: 903.3514, Val loss: 1065.6367, Best Val loss: 1065.6367\n",
      "Epoch 48/100, Train loss: 576.1159, Val loss: 1055.6711, Best Val loss: 1055.6711\n",
      "Epoch 49/100, Train loss: 571.6139, Val loss: 1047.3239, Best Val loss: 1047.3239\n",
      "Epoch 50/100, Train loss: 566.5327, Val loss: 1035.7268, Best Val loss: 1035.7268\n",
      "Epoch 51/100, Train loss: 559.6472, Val loss: 1023.5179, Best Val loss: 1023.5179\n",
      "Epoch 52/100, Train loss: 543.7824, Val loss: 1004.7959, Best Val loss: 1004.7959\n",
      "Epoch 53/100, Train loss: 519.7477, Val loss: 969.5216, Best Val loss: 969.5216\n",
      "Epoch 54/100, Train loss: 497.6999, Val loss: 952.0165, Best Val loss: 952.0165\n",
      "Epoch 55/100, Train loss: 488.8168, Val loss: 936.9616, Best Val loss: 936.9616\n",
      "Epoch 56/100, Train loss: 480.8531, Val loss: 920.1820, Best Val loss: 920.1820\n",
      "Epoch 57/100, Train loss: 471.2941, Val loss: 905.7501, Best Val loss: 905.7501\n",
      "Epoch 58/100, Train loss: 1312.1964, Val loss: 891.7144, Best Val loss: 891.7144\n",
      "Epoch 59/100, Train loss: 453.5687, Val loss: 870.0739, Best Val loss: 870.0739\n",
      "Epoch 60/100, Train loss: 443.1731, Val loss: 854.6812, Best Val loss: 854.6812\n",
      "Epoch 61/100, Train loss: 436.2113, Val loss: 841.3592, Best Val loss: 841.3592\n",
      "Epoch 62/100, Train loss: 430.3007, Val loss: 829.4026, Best Val loss: 829.4026\n",
      "Epoch 63/100, Train loss: 423.9008, Val loss: 819.4385, Best Val loss: 819.4385\n",
      "Epoch 64/100, Train loss: 418.4743, Val loss: 810.0302, Best Val loss: 810.0302\n",
      "Epoch 65/100, Train loss: 413.8936, Val loss: 801.0850, Best Val loss: 801.0850\n",
      "Epoch 66/100, Train loss: 412.7596, Val loss: 792.0552, Best Val loss: 792.0552\n",
      "Epoch 67/100, Train loss: 404.1819, Val loss: 784.4972, Best Val loss: 784.4972\n",
      "Epoch 68/100, Train loss: 400.7138, Val loss: 776.7909, Best Val loss: 776.7909\n",
      "Epoch 69/100, Train loss: 396.5255, Val loss: 770.0049, Best Val loss: 770.0049\n",
      "Epoch 70/100, Train loss: 393.1498, Val loss: 763.4581, Best Val loss: 763.4581\n",
      "Epoch 71/100, Train loss: 390.2003, Val loss: 756.8725, Best Val loss: 756.8725\n",
      "Epoch 72/100, Train loss: 386.5386, Val loss: 751.5473, Best Val loss: 751.5473\n",
      "Epoch 73/100, Train loss: 384.4126, Val loss: 746.1183, Best Val loss: 746.1183\n",
      "Epoch 74/100, Train loss: 381.2908, Val loss: 741.0933, Best Val loss: 741.0933\n",
      "Epoch 75/100, Train loss: 378.6745, Val loss: 736.3587, Best Val loss: 736.3587\n",
      "Epoch 76/100, Train loss: 376.0816, Val loss: 732.4080, Best Val loss: 732.4080\n",
      "Epoch 77/100, Train loss: 518.5739, Val loss: 728.1599, Best Val loss: 728.1599\n",
      "Epoch 78/100, Train loss: 371.8269, Val loss: 723.3990, Best Val loss: 723.3990\n",
      "Epoch 79/100, Train loss: 369.5504, Val loss: 719.7040, Best Val loss: 719.7040\n",
      "Epoch 80/100, Train loss: 367.6163, Val loss: 716.6884, Best Val loss: 716.6884\n",
      "Epoch 81/100, Train loss: 366.1040, Val loss: 713.9544, Best Val loss: 713.9544\n",
      "Epoch 82/100, Train loss: 568.9276, Val loss: 711.1163, Best Val loss: 711.1163\n",
      "Epoch 83/100, Train loss: 363.2611, Val loss: 708.0680, Best Val loss: 708.0680\n",
      "Epoch 84/100, Train loss: 361.7207, Val loss: 705.9112, Best Val loss: 705.9112\n",
      "Epoch 85/100, Train loss: 360.6810, Val loss: 704.1411, Best Val loss: 704.1411\n",
      "Epoch 86/100, Train loss: 359.9113, Val loss: 702.4364, Best Val loss: 702.4364\n",
      "Epoch 87/100, Train loss: 359.2131, Val loss: 701.0980, Best Val loss: 701.0980\n",
      "Epoch 88/100, Train loss: 358.4416, Val loss: 699.8976, Best Val loss: 699.8976\n",
      "Epoch 89/100, Train loss: 357.7396, Val loss: 699.0110, Best Val loss: 699.0110\n",
      "Epoch 90/100, Train loss: 357.2972, Val loss: 698.1991, Best Val loss: 698.1991\n",
      "Epoch 91/100, Train loss: 356.9263, Val loss: 697.4836, Best Val loss: 697.4836\n",
      "Epoch 92/100, Train loss: 356.7324, Val loss: 696.8661, Best Val loss: 696.8661\n",
      "Epoch 93/100, Train loss: 442.6475, Val loss: 696.3890, Best Val loss: 696.3890\n",
      "Epoch 94/100, Train loss: 356.0823, Val loss: 695.9688, Best Val loss: 695.9688\n",
      "Epoch 95/100, Train loss: 355.8788, Val loss: 695.6953, Best Val loss: 695.6953\n",
      "Epoch 96/100, Train loss: 355.8786, Val loss: 695.5230, Best Val loss: 695.5230\n",
      "Epoch 97/100, Train loss: 355.6873, Val loss: 695.3988, Best Val loss: 695.3988\n",
      "Epoch 98/100, Train loss: 355.6850, Val loss: 695.3346, Best Val loss: 695.3346\n",
      "Epoch 99/100, Train loss: 355.5873, Val loss: 695.3086, Best Val loss: 695.3086\n",
      "Epoch 100/100, Train loss: 355.6159, Val loss: 695.3016, Best Val loss: 695.3016\n"
     ]
    }
   ],
   "source": [
    "import torch.optim as optim\n",
    "from torch.optim.lr_scheduler import CosineAnnealingLR\n",
    "from tqdm.auto import tqdm\n",
    "\n",
    "train_losses = []\n",
    "val_losses = []\n",
    "\n",
    "epochs = 100\n",
    "\n",
    "model = LSTMModel(input_dim=4, hidden_dim=500, num_layers=2, output_dim=1).cuda()\n",
    "print(model)\n",
    "\n",
    "best_val_loss = float('inf')\n",
    "\n",
    "criterion = nn.MSELoss()\n",
    "optimizer = optim.Adam(model.parameters(), lr=1e-3)\n",
    "lr_scheduler = CosineAnnealingLR(optimizer, T_max=epochs, eta_min=0)\n",
    "\n",
    "for epoch in tqdm(range(epochs)):\n",
    "    # Training\n",
    "    model.train()\n",
    "    total_loss = 0.0\n",
    "\n",
    "    for features, labels in train_loader:\n",
    "        features = features.cuda()\n",
    "        labels = labels.cuda()\n",
    "        outputs = model(features).squeeze(-1)\n",
    "        loss = criterion(outputs, labels)\n",
    "        total_loss += loss.item()\n",
    "\n",
    "        optimizer.zero_grad()\n",
    "        loss.backward()\n",
    "        optimizer.step()\n",
    "\n",
    "    # Learning rate update\n",
    "    lr_scheduler.step()\n",
    "\n",
    "    avg_train_loss = total_loss / len(train_loader)\n",
    "\n",
    "    # Validation\n",
    "    model.eval()\n",
    "    total_val_loss = 0.0\n",
    "\n",
    "    with torch.no_grad():\n",
    "        for features, labels in val_loader:\n",
    "            features = features.cuda()\n",
    "            labels = labels.cuda()\n",
    "            outputs = model(features).squeeze(-1)\n",
    "            loss = criterion(outputs, labels)\n",
    "            total_val_loss += loss.item()\n",
    "\n",
    "    avg_val_loss = total_val_loss / len(val_loader)\n",
    "\n",
    "    # Checkpoint\n",
    "    if avg_val_loss < best_val_loss:\n",
    "        best_val_loss = avg_val_loss\n",
    "        torch.save(model.state_dict(), 'best_model.pth')\n",
    "\n",
    "    print(f'Epoch {epoch+1}/{epochs}, Train loss: {avg_train_loss:.4f}, Val loss: {avg_val_loss:.4f}, Best Val loss: {best_val_loss:.4f}')\n",
    "\n",
    "    # Store performance\n",
    "    train_losses.append(avg_train_loss)\n",
    "    val_losses.append(avg_val_loss)"
   ]
  },
  {
   "cell_type": "markdown",
   "id": "a7984c6e-6652-4160-b572-07d48bc93a3f",
   "metadata": {
    "id": "a7984c6e-6652-4160-b572-07d48bc93a3f"
   },
   "source": [
    "#### Visualizing the model performance"
   ]
  },
  {
   "cell_type": "code",
   "execution_count": 38,
   "id": "5559d850-1fb5-4b04-b6ca-60c5b309f34e",
   "metadata": {
    "id": "5559d850-1fb5-4b04-b6ca-60c5b309f34e"
   },
   "outputs": [
    {
     "data": {
      "image/png": "[encoded data removed]",
      "text/plain": [
       "<Figure size 1000x500 with 1 Axes>"
      ]
     },
     "metadata": {},
     "output_type": "display_data"
    }
   ],
   "source": [
    "import matplotlib.pyplot as plt\n",
    "\n",
    "plt.figure(figsize=(10, 5))\n",
    "plt.plot(train_losses)\n",
    "plt.plot(val_losses)\n",
    "plt.xlabel('Epochs')\n",
    "plt.ylabel('Loss')\n",
    "plt.legend(['Train', 'Val'])\n",
    "\n",
    "plt.show()"
   ]
  },
  {
   "cell_type": "markdown",
   "id": "89c7e51b-8ab6-4aa2-877d-39b6daf55c20",
   "metadata": {
    "id": "89c7e51b-8ab6-4aa2-877d-39b6daf55c20"
   },
   "source": [
    "## D. Evaluating Your Trained Model"
   ]
  },
  {
   "cell_type": "code",
   "execution_count": 39,
   "id": "4bcf8580-42ee-4ee7-ad15-9f080cc57a33",
   "metadata": {
    "id": "4bcf8580-42ee-4ee7-ad15-9f080cc57a33"
   },
   "outputs": [],
   "source": [
    "# Load the trained weights\n",
    "model.load_state_dict(torch.load('best_model.pth'))\n",
    "\n",
    "# Set the model to evaluation mode\n",
    "model.eval()\n",
    "\n",
    "test_correct = 0\n",
    "test_total = 0\n",
    "\n",
    "pred_value = []\n",
    "actual_value = []\n",
    "\n",
    "with torch.no_grad():\n",
    "    for features, labels in test_loader:\n",
    "        features = features.cuda()\n",
    "        outputs = model(features).squeeze(-1)\n",
    "        pred_value.append(outputs.cpu())\n",
    "        actual_value.append(labels)\n",
    "\n",
    "pred_value = torch.cat(pred_value)\n",
    "actual_value = torch.cat(actual_value)"
   ]
  },
  {
   "cell_type": "code",
   "execution_count": 40,
   "id": "dde4e0a5-32be-4db3-95fb-4fad8926ce9b",
   "metadata": {
    "id": "dde4e0a5-32be-4db3-95fb-4fad8926ce9b"
   },
   "outputs": [
    {
     "data": {
      "image/png": "[encoded data removed]",
      "text/plain": [
       "<Figure size 1000x500 with 1 Axes>"
      ]
     },
     "metadata": {},
     "output_type": "display_data"
    }
   ],
   "source": [
    "plt.figure(figsize=(10, 5))\n",
    "plt.plot(pred_value[:])\n",
    "plt.plot(actual_value[:])\n",
    "plt.xlabel('Day')\n",
    "plt.ylabel('Price')\n",
    "plt.legend(['Pred', 'Actual'])\n",
    "\n",
    "plt.show()"
   ]
  },
  {
   "cell_type": "markdown",
   "id": "27106d92",
   "metadata": {},
   "source": [
    "## E. Experiments for Window_size and Step."
   ]
  },
  {
   "cell_type": "code",
   "execution_count": 41,
   "id": "2b86985a",
   "metadata": {},
   "outputs": [],
   "source": [
    "import numpy as np\n",
    "import torch\n",
    "from torch.utils.data import DataLoader, TensorDataset\n",
    "import matplotlib.pyplot as plt\n",
    "\n",
    "def data_processing_with_parameter(window_size=10, step=15, batch_size=32, features=df[['Open', 'High', 'Low', 'Close']]):\n",
    "    # Select features\n",
    "    # features = df[['Open', 'High', 'Low', 'Close']]\n",
    "    labels = df['High'].shift(-1)  # Next day's high price as label\n",
    "\n",
    "    X, y = create_sequences(features, labels, window_size=window_size, step=step)\n",
    "\n",
    "    print(f'Shape of data X: {X.shape}')\n",
    "    print(f'Shape of data y: {y.shape}')\n",
    "\n",
    "    # split the hold-out tests\n",
    "    ind = np.linspace(0, len(X)-1, num=int(len(X)*0.1), dtype=int) # 10% hold-out\n",
    "    x_test = X[ind]\n",
    "    y_test = y[ind]\n",
    "    all_ind = np.arange(len(X))\n",
    "    remains_ind = np.delete(all_ind, ind)\n",
    "\n",
    "    X = X[remains_ind]\n",
    "    y = y[remains_ind]\n",
    "\n",
    "    # shuffle dataset\n",
    "    ind = np.random.permutation(len(X))\n",
    "    X = X[ind]\n",
    "    y = y[ind]\n",
    "    split_point = int(X.shape[0]*0.8)\n",
    "\n",
    "    x_train = X[:split_point]\n",
    "    y_train = y[:split_point]\n",
    "    x_val = X[split_point:]\n",
    "    y_val = y[split_point:]\n",
    "\n",
    "    # Convert to PyTorch tensors\n",
    "    x_train = torch.from_numpy(x_train).float()\n",
    "    y_train = torch.from_numpy(y_train).float()\n",
    "\n",
    "    x_val = torch.from_numpy(x_val).float()\n",
    "    y_val = torch.from_numpy(y_val).float()\n",
    "\n",
    "    x_test = torch.from_numpy(x_test).float()\n",
    "    y_test = torch.from_numpy(y_test).float()\n",
    "\n",
    "    batch_size = batch_size\n",
    "\n",
    "    # Create datasets\n",
    "    train_dataset = TensorDataset(x_train, y_train)\n",
    "    val_dataset = TensorDataset(x_val, y_val)\n",
    "    test_dataset = TensorDataset(x_test, y_test)\n",
    "\n",
    "    # Create dataloaders\n",
    "    train_loader = DataLoader(train_dataset, batch_size=batch_size, shuffle=True)\n",
    "    val_loader = DataLoader(val_dataset, batch_size=batch_size, shuffle=False)\n",
    "    test_loader = DataLoader(test_dataset, batch_size=batch_size, shuffle=False)\n",
    "\n",
    "    print(f'Number of samples in training and validation are {len(train_loader.dataset)} and {len(val_loader.dataset)}.')\n",
    "\n",
    "    return train_loader, val_loader, test_loader"
   ]
  },
  {
   "cell_type": "code",
   "execution_count": 42,
   "id": "fe7df243",
   "metadata": {},
   "outputs": [],
   "source": [
    "import torch.optim as optim\n",
    "from torch.optim.lr_scheduler import CosineAnnealingLR\n",
    "from tqdm.auto import tqdm\n",
    "import matplotlib.pyplot as plt\n",
    "\n",
    "def run(train_loader, val_loader, epochs=100, input_dim=4):\n",
    "    train_losses = []\n",
    "    val_losses = []\n",
    "\n",
    "    epochs = 100\n",
    "    model = LSTMModel(input_dim=input_dim, hidden_dim=500, num_layers=2, output_dim=1).cuda()\n",
    "\n",
    "    best_val_loss = float('inf')\n",
    "\n",
    "    criterion = nn.MSELoss()\n",
    "    optimizer = optim.Adam(model.parameters(), lr=1e-3)\n",
    "    lr_scheduler = CosineAnnealingLR(optimizer, T_max=epochs, eta_min=0)\n",
    "\n",
    "    for epoch in tqdm(range(epochs)):\n",
    "        # Training\n",
    "        model.train()\n",
    "        total_loss = 0.0\n",
    "\n",
    "        for features, labels in train_loader:\n",
    "            features = features.cuda()\n",
    "            labels = labels.cuda()\n",
    "            outputs = model(features).squeeze(-1)\n",
    "            loss = criterion(outputs, labels)\n",
    "            total_loss += loss.item()\n",
    "\n",
    "            optimizer.zero_grad()\n",
    "            loss.backward()\n",
    "            optimizer.step()\n",
    "\n",
    "        # Learning rate update\n",
    "        lr_scheduler.step()\n",
    "\n",
    "        avg_train_loss = total_loss / len(train_loader)\n",
    "\n",
    "        # Validation\n",
    "        model.eval()\n",
    "        total_val_loss = 0.0\n",
    "\n",
    "        with torch.no_grad():\n",
    "            for features, labels in val_loader:\n",
    "                features = features.cuda()\n",
    "                labels = labels.cuda()\n",
    "                outputs = model(features).squeeze(-1)\n",
    "                loss = criterion(outputs, labels)\n",
    "                total_val_loss += loss.item()\n",
    "\n",
    "        avg_val_loss = total_val_loss / len(val_loader)\n",
    "\n",
    "        # Checkpoint\n",
    "        if avg_val_loss < best_val_loss:\n",
    "            best_val_loss = avg_val_loss\n",
    "            torch.save(model.state_dict(), 'best_model.pth')\n",
    "            if epoch > 94:\n",
    "                print(f'Epoch {epoch+1}/{epochs}, Train loss: {avg_train_loss:.4f}, Val loss: {avg_val_loss:.4f}, Best Val loss: {best_val_loss:.4f}')\n",
    "\n",
    "        # Store performance\n",
    "        train_losses.append(avg_train_loss)\n",
    "        val_losses.append(avg_val_loss)\n",
    "\n",
    "    return train_losses, val_losses, best_val_loss, model\n",
    "\n",
    "def predict(test_loader, model):\n",
    "    # Load the trained weights\n",
    "    model.load_state_dict(torch.load('best_model.pth'))\n",
    "\n",
    "    # Set the model to evaluation mode\n",
    "    model.eval()\n",
    "\n",
    "    pred_value = []\n",
    "    actual_value = []\n",
    "\n",
    "    with torch.no_grad():\n",
    "        for features, labels in test_loader:\n",
    "            features = features.cuda()\n",
    "            outputs = model(features).squeeze(-1)\n",
    "            pred_value.append(outputs.cpu())\n",
    "            actual_value.append(labels)\n",
    "\n",
    "    pred_value = torch.cat(pred_value)\n",
    "    actual_value = torch.cat(actual_value)\n",
    "\n",
    "    return pred_value, actual_value"
   ]
  },
  {
   "cell_type": "code",
   "execution_count": 43,
   "id": "85eba4f3",
   "metadata": {},
   "outputs": [
    {
     "name": "stdout",
     "output_type": "stream",
     "text": [
      "< Window size: 5, Step: 5 >\n",
      "Shape of data X: (946, 5, 4)\n",
      "Shape of data y: (946,)\n",
      "Number of samples in training and validation are 681 and 171.\n"
     ]
    },
    {
     "data": {
      "application/vnd.jupyter.widget-view+json": {
       "model_id": "ec1ca94b9ce74867955eabe6f215a27f",
       "version_major": 2,
       "version_minor": 0
      },
      "text/plain": [
       "  0%|          | 0/100 [00:00<?, ?it/s]"
      ]
     },
     "metadata": {},
     "output_type": "display_data"
    },
    {
     "name": "stdout",
     "output_type": "stream",
     "text": [
      "\n",
      "\n",
      "< Window size: 5, Step: 10 >\n",
      "Shape of data X: (473, 5, 4)\n",
      "Shape of data y: (473,)\n",
      "Number of samples in training and validation are 340 and 86.\n"
     ]
    },
    {
     "data": {
      "application/vnd.jupyter.widget-view+json": {
       "model_id": "855ea80e4fc548c7987ede244a9c83e6",
       "version_major": 2,
       "version_minor": 0
      },
      "text/plain": [
       "  0%|          | 0/100 [00:00<?, ?it/s]"
      ]
     },
     "metadata": {},
     "output_type": "display_data"
    },
    {
     "name": "stdout",
     "output_type": "stream",
     "text": [
      "Epoch 96/100, Train loss: 25.7596, Val loss: 124.4855, Best Val loss: 124.4855\n",
      "Epoch 97/100, Train loss: 25.7500, Val loss: 124.4494, Best Val loss: 124.4494\n",
      "Epoch 98/100, Train loss: 25.7848, Val loss: 124.4382, Best Val loss: 124.4382\n",
      "Epoch 99/100, Train loss: 25.7359, Val loss: 124.4331, Best Val loss: 124.4331\n",
      "Epoch 100/100, Train loss: 25.7401, Val loss: 124.4316, Best Val loss: 124.4316\n",
      "\n",
      "\n",
      "< Window size: 5, Step: 15 >\n",
      "Shape of data X: (316, 5, 4)\n",
      "Shape of data y: (316,)\n",
      "Number of samples in training and validation are 228 and 57.\n"
     ]
    },
    {
     "data": {
      "application/vnd.jupyter.widget-view+json": {
       "model_id": "059117a0968445c9a281f3f8b8cd59d1",
       "version_major": 2,
       "version_minor": 0
      },
      "text/plain": [
       "  0%|          | 0/100 [00:00<?, ?it/s]"
      ]
     },
     "metadata": {},
     "output_type": "display_data"
    },
    {
     "name": "stdout",
     "output_type": "stream",
     "text": [
      "Epoch 96/100, Train loss: 76.9153, Val loss: 188.0221, Best Val loss: 188.0221\n",
      "Epoch 97/100, Train loss: 138.5267, Val loss: 187.9918, Best Val loss: 187.9918\n",
      "Epoch 98/100, Train loss: 77.7900, Val loss: 187.9661, Best Val loss: 187.9661\n",
      "Epoch 99/100, Train loss: 76.8940, Val loss: 187.9548, Best Val loss: 187.9548\n",
      "Epoch 100/100, Train loss: 76.8690, Val loss: 187.9526, Best Val loss: 187.9526\n",
      "\n",
      "\n",
      "< Window size: 5, Step: 20 >\n",
      "Shape of data X: (237, 5, 4)\n",
      "Shape of data y: (237,)\n",
      "Number of samples in training and validation are 171 and 43.\n"
     ]
    },
    {
     "data": {
      "application/vnd.jupyter.widget-view+json": {
       "model_id": "a0b4f9dc7a7244f0b5342073d63227d5",
       "version_major": 2,
       "version_minor": 0
      },
      "text/plain": [
       "  0%|          | 0/100 [00:00<?, ?it/s]"
      ]
     },
     "metadata": {},
     "output_type": "display_data"
    },
    {
     "name": "stdout",
     "output_type": "stream",
     "text": [
      "Epoch 96/100, Train loss: 134.1736, Val loss: 403.6479, Best Val loss: 403.6479\n",
      "Epoch 97/100, Train loss: 83.3928, Val loss: 403.5879, Best Val loss: 403.5879\n",
      "Epoch 98/100, Train loss: 83.3416, Val loss: 403.5572, Best Val loss: 403.5572\n",
      "Epoch 99/100, Train loss: 83.5828, Val loss: 403.5439, Best Val loss: 403.5439\n",
      "Epoch 100/100, Train loss: 134.1445, Val loss: 403.5409, Best Val loss: 403.5409\n",
      "\n",
      "\n",
      "< Window size: 5, Step: 30 >\n",
      "Shape of data X: (158, 5, 4)\n",
      "Shape of data y: (158,)\n",
      "Number of samples in training and validation are 114 and 29.\n"
     ]
    },
    {
     "data": {
      "application/vnd.jupyter.widget-view+json": {
       "model_id": "272a8af95c634fab8af0352f9905eb6a",
       "version_major": 2,
       "version_minor": 0
      },
      "text/plain": [
       "  0%|          | 0/100 [00:00<?, ?it/s]"
      ]
     },
     "metadata": {},
     "output_type": "display_data"
    },
    {
     "name": "stdout",
     "output_type": "stream",
     "text": [
      "Epoch 96/100, Train loss: 191.7126, Val loss: 376.4047, Best Val loss: 376.4047\n",
      "Epoch 97/100, Train loss: 208.1674, Val loss: 376.3608, Best Val loss: 376.3608\n",
      "Epoch 98/100, Train loss: 150.9357, Val loss: 376.3326, Best Val loss: 376.3326\n",
      "Epoch 99/100, Train loss: 150.9137, Val loss: 376.3204, Best Val loss: 376.3204\n",
      "Epoch 100/100, Train loss: 150.9401, Val loss: 376.3175, Best Val loss: 376.3175\n",
      "\n",
      "\n",
      "< Window size: 10, Step: 5 >\n",
      "Shape of data X: (945, 10, 4)\n",
      "Shape of data y: (945,)\n",
      "Number of samples in training and validation are 680 and 171.\n"
     ]
    },
    {
     "data": {
      "application/vnd.jupyter.widget-view+json": {
       "model_id": "5500698ccb7e488f807c37aca8e739c2",
       "version_major": 2,
       "version_minor": 0
      },
      "text/plain": [
       "  0%|          | 0/100 [00:00<?, ?it/s]"
      ]
     },
     "metadata": {},
     "output_type": "display_data"
    },
    {
     "name": "stdout",
     "output_type": "stream",
     "text": [
      "\n",
      "\n",
      "< Window size: 15, Step: 5 >\n",
      "Shape of data X: (944, 15, 4)\n",
      "Shape of data y: (944,)\n",
      "Number of samples in training and validation are 680 and 170.\n"
     ]
    },
    {
     "data": {
      "application/vnd.jupyter.widget-view+json": {
       "model_id": "3861f7b0807446e1b69b9498411662c7",
       "version_major": 2,
       "version_minor": 0
      },
      "text/plain": [
       "  0%|          | 0/100 [00:00<?, ?it/s]"
      ]
     },
     "metadata": {},
     "output_type": "display_data"
    },
    {
     "name": "stdout",
     "output_type": "stream",
     "text": [
      "\n",
      "\n",
      "< Window size: 20, Step: 5 >\n",
      "Shape of data X: (943, 20, 4)\n",
      "Shape of data y: (943,)\n",
      "Number of samples in training and validation are 679 and 170.\n"
     ]
    },
    {
     "data": {
      "application/vnd.jupyter.widget-view+json": {
       "model_id": "7d590072a76e4002a774fc7cb0290b64",
       "version_major": 2,
       "version_minor": 0
      },
      "text/plain": [
       "  0%|          | 0/100 [00:00<?, ?it/s]"
      ]
     },
     "metadata": {},
     "output_type": "display_data"
    },
    {
     "name": "stdout",
     "output_type": "stream",
     "text": [
      "Epoch 96/100, Train loss: 6.9127, Val loss: 8.4800, Best Val loss: 8.4800\n",
      "Epoch 97/100, Train loss: 6.9058, Val loss: 8.4769, Best Val loss: 8.4769\n",
      "Epoch 99/100, Train loss: 6.9079, Val loss: 8.4768, Best Val loss: 8.4768\n",
      "Epoch 100/100, Train loss: 6.9059, Val loss: 8.4767, Best Val loss: 8.4767\n",
      "\n",
      "\n",
      "< Window size: 30, Step: 5 >\n",
      "Shape of data X: (941, 30, 4)\n",
      "Shape of data y: (941,)\n",
      "Number of samples in training and validation are 677 and 170.\n"
     ]
    },
    {
     "data": {
      "application/vnd.jupyter.widget-view+json": {
       "model_id": "a9ef9fd3d474492a9c5a7bfde62e259e",
       "version_major": 2,
       "version_minor": 0
      },
      "text/plain": [
       "  0%|          | 0/100 [00:00<?, ?it/s]"
      ]
     },
     "metadata": {},
     "output_type": "display_data"
    },
    {
     "name": "stdout",
     "output_type": "stream",
     "text": [
      "Epoch 96/100, Train loss: 7.3601, Val loss: 8.9181, Best Val loss: 8.9181\n",
      "Epoch 97/100, Train loss: 7.3642, Val loss: 8.9041, Best Val loss: 8.9041\n",
      "\n",
      "\n",
      "\n",
      "===== Experiment Results =====\n",
      "   window_size  step  Train Loss    Val Loss  Best Val Loss\n",
      "0            5     5    5.234203    7.690431       7.412310\n",
      "1            5    10   25.740125  124.431597     124.431597\n",
      "2            5    15   76.869007  187.952644     187.952644\n",
      "3            5    20  134.144480  403.540855     403.540855\n",
      "4            5    30  150.940112  376.317535     376.317535\n",
      "5           10     5    5.232036    8.394690       8.278263\n",
      "6           15     5    6.081079    7.308459       7.186388\n",
      "7           20     5    6.905857    8.476655       8.476655\n",
      "8           30     5    7.352250    8.907722       8.904067\n"
     ]
    }
   ],
   "source": [
    "import torch.optim as optim\n",
    "from torch.optim.lr_scheduler import CosineAnnealingLR\n",
    "from tqdm.auto import tqdm\n",
    "import random\n",
    "import matplotlib.pyplot as plt\n",
    "\n",
    "parameter_list = [\n",
    "    {'window_size': 5, 'step': 5},\n",
    "    {'window_size': 5, 'step': 10},\n",
    "    {'window_size': 5, 'step': 15},\n",
    "    {'window_size': 5, 'step': 20},\n",
    "    {'window_size': 5, 'step': 30},\n",
    "    {'window_size': 10, 'step': 5},\n",
    "    {'window_size': 15, 'step': 5},\n",
    "    {'window_size': 20, 'step': 5},\n",
    "    {'window_size': 30, 'step': 5},\n",
    "]\n",
    "\n",
    "the_best_val_loss = float('inf')\n",
    "best_window_size = None\n",
    "best_step = None\n",
    "best_pred_value = None\n",
    "best_actual_value = None\n",
    "best_train_losses = None\n",
    "best_val_losses = None\n",
    "\n",
    "results = []\n",
    "\n",
    "for parameter in parameter_list:\n",
    "    np.random.seed(42)\n",
    "    torch.manual_seed(42)\n",
    "    torch.cuda.manual_seed_all(42)\n",
    "    random.seed(42)\n",
    "    window_size = parameter['window_size']\n",
    "    step = parameter['step']\n",
    "    print(f'< Window size: {window_size}, Step: {step} >')\n",
    "    train_loader, val_loader, test_loader = data_processing_with_parameter(window_size=window_size, step=step)\n",
    "    train_losses, val_losses, best_val_loss, model = run(train_loader, val_loader, epochs=100)\n",
    "    pred_value, actual_value = predict(test_loader=test_loader, model=model)\n",
    "    \n",
    "    print('\\n')\n",
    "\n",
    "    if best_val_loss < the_best_val_loss:\n",
    "        the_best_val_loss = best_val_loss\n",
    "        best_window_size = window_size\n",
    "        best_step = step\n",
    "        best_pred_value = pred_value\n",
    "        best_actual_value = actual_value\n",
    "        best_train_losses = train_losses\n",
    "        best_val_losses = val_losses\n",
    "        \n",
    "    results.append({\n",
    "        'window_size': window_size,\n",
    "        'step': step,\n",
    "        'Train Loss': train_losses[-1],\n",
    "        'Val Loss': val_losses[-1],\n",
    "        'Best Val Loss': best_val_loss\n",
    "    })\n",
    "\n",
    "# Create a result table\n",
    "df_results = pd.DataFrame(results)\n",
    "print(\"\\n===== Experiment Results =====\")\n",
    "print(df_results)\n",
    "df_results.to_csv(\"experiment_results1.csv\", index=False)"
   ]
  },
  {
   "cell_type": "code",
   "execution_count": 44,
   "id": "f83ecaac",
   "metadata": {},
   "outputs": [
    {
     "data": {
      "image/png": "[encoded data removed]",
      "text/plain": [
       "<Figure size 1000x500 with 1 Axes>"
      ]
     },
     "metadata": {},
     "output_type": "display_data"
    }
   ],
   "source": [
    "import matplotlib.pyplot as plt\n",
    "\n",
    "plt.figure(figsize=(10, 5))\n",
    "plt.plot(best_train_losses)\n",
    "plt.plot(best_val_losses)\n",
    "plt.xlabel('Epochs')\n",
    "plt.ylabel('Loss')\n",
    "plt.legend(['Train', 'Val'])\n",
    "\n",
    "plt.show()"
   ]
  },
  {
   "cell_type": "code",
   "execution_count": 45,
   "id": "04551dfe",
   "metadata": {},
   "outputs": [
    {
     "data": {
      "image/png": "[encoded data removed]",
      "text/plain": [
       "<Figure size 1000x500 with 1 Axes>"
      ]
     },
     "metadata": {},
     "output_type": "display_data"
    }
   ],
   "source": [
    "import matplotlib.pyplot as plt\n",
    "\n",
    "plt.figure(figsize=(10, 5))\n",
    "plt.plot(best_pred_value[:])\n",
    "plt.plot(best_actual_value[:])\n",
    "plt.xlabel('Day')\n",
    "plt.ylabel('Price')\n",
    "plt.legend(['Pred', 'Actual'])\n",
    "plt.title(f'Window size: {best_window_size}, Step: {best_step}')\n",
    "plt.show()"
   ]
  },
  {
   "cell_type": "markdown",
   "id": "a93e1bf6",
   "metadata": {},
   "source": [
    "## F. Experiments for different features."
   ]
  },
  {
   "cell_type": "code",
   "execution_count": 46,
   "id": "8e1445d7",
   "metadata": {},
   "outputs": [
    {
     "name": "stdout",
     "output_type": "stream",
     "text": [
      "< features: ['Open', 'High', 'Low', 'Close'] >\n",
      "Shape of data X: (944, 15, 4)\n",
      "Shape of data y: (944,)\n",
      "Number of samples in training and validation are 680 and 170.\n"
     ]
    },
    {
     "data": {
      "application/vnd.jupyter.widget-view+json": {
       "model_id": "42e5615bc5e74e928c096c716a066e85",
       "version_major": 2,
       "version_minor": 0
      },
      "text/plain": [
       "  0%|          | 0/100 [00:00<?, ?it/s]"
      ]
     },
     "metadata": {},
     "output_type": "display_data"
    },
    {
     "name": "stdout",
     "output_type": "stream",
     "text": [
      "\n",
      "\n",
      "< features: ['Open', 'High', 'Low', 'Close', 'Volume'] >\n",
      "Shape of data X: (944, 15, 5)\n",
      "Shape of data y: (944,)\n",
      "Number of samples in training and validation are 680 and 170.\n"
     ]
    },
    {
     "data": {
      "application/vnd.jupyter.widget-view+json": {
       "model_id": "30b96bb2b3a54ac2ab19223713c4bb9a",
       "version_major": 2,
       "version_minor": 0
      },
      "text/plain": [
       "  0%|          | 0/100 [00:00<?, ?it/s]"
      ]
     },
     "metadata": {},
     "output_type": "display_data"
    },
    {
     "name": "stdout",
     "output_type": "stream",
     "text": [
      "\n",
      "\n",
      "< features: ['Open'] >\n",
      "Shape of data X: (944, 15, 1)\n",
      "Shape of data y: (944,)\n",
      "Number of samples in training and validation are 680 and 170.\n"
     ]
    },
    {
     "data": {
      "application/vnd.jupyter.widget-view+json": {
       "model_id": "daba3be283ca4127861f0090f6d8637c",
       "version_major": 2,
       "version_minor": 0
      },
      "text/plain": [
       "  0%|          | 0/100 [00:00<?, ?it/s]"
      ]
     },
     "metadata": {},
     "output_type": "display_data"
    },
    {
     "name": "stdout",
     "output_type": "stream",
     "text": [
      "Epoch 96/100, Train loss: 11.0211, Val loss: 12.3205, Best Val loss: 12.3205\n",
      "Epoch 97/100, Train loss: 11.0116, Val loss: 12.3156, Best Val loss: 12.3156\n",
      "Epoch 98/100, Train loss: 11.0149, Val loss: 12.3148, Best Val loss: 12.3148\n",
      "Epoch 99/100, Train loss: 11.0065, Val loss: 12.3136, Best Val loss: 12.3136\n",
      "Epoch 100/100, Train loss: 11.0234, Val loss: 12.3134, Best Val loss: 12.3134\n",
      "\n",
      "\n",
      "< features: ['High'] >\n",
      "Shape of data X: (944, 15, 1)\n",
      "Shape of data y: (944,)\n",
      "Number of samples in training and validation are 680 and 170.\n"
     ]
    },
    {
     "data": {
      "application/vnd.jupyter.widget-view+json": {
       "model_id": "91f4fa085edd4210b491561c7961f4de",
       "version_major": 2,
       "version_minor": 0
      },
      "text/plain": [
       "  0%|          | 0/100 [00:00<?, ?it/s]"
      ]
     },
     "metadata": {},
     "output_type": "display_data"
    },
    {
     "name": "stdout",
     "output_type": "stream",
     "text": [
      "Epoch 96/100, Train loss: 11.0658, Val loss: 12.6630, Best Val loss: 12.6630\n",
      "Epoch 99/100, Train loss: 11.0406, Val loss: 12.6627, Best Val loss: 12.6627\n",
      "Epoch 100/100, Train loss: 11.0581, Val loss: 12.6624, Best Val loss: 12.6624\n",
      "\n",
      "\n",
      "< features: ['Low'] >\n",
      "Shape of data X: (944, 15, 1)\n",
      "Shape of data y: (944,)\n",
      "Number of samples in training and validation are 680 and 170.\n"
     ]
    },
    {
     "data": {
      "application/vnd.jupyter.widget-view+json": {
       "model_id": "ff4fb154a33e425ca827a4d8802d261a",
       "version_major": 2,
       "version_minor": 0
      },
      "text/plain": [
       "  0%|          | 0/100 [00:00<?, ?it/s]"
      ]
     },
     "metadata": {},
     "output_type": "display_data"
    },
    {
     "name": "stdout",
     "output_type": "stream",
     "text": [
      "Epoch 96/100, Train loss: 11.3806, Val loss: 13.3229, Best Val loss: 13.3229\n",
      "Epoch 97/100, Train loss: 11.3796, Val loss: 13.3100, Best Val loss: 13.3100\n",
      "Epoch 98/100, Train loss: 11.3760, Val loss: 13.3042, Best Val loss: 13.3042\n",
      "Epoch 99/100, Train loss: 11.3635, Val loss: 13.3042, Best Val loss: 13.3042\n",
      "\n",
      "\n",
      "< features: ['Close'] >\n",
      "Shape of data X: (944, 15, 1)\n",
      "Shape of data y: (944,)\n",
      "Number of samples in training and validation are 680 and 170.\n"
     ]
    },
    {
     "data": {
      "application/vnd.jupyter.widget-view+json": {
       "model_id": "9843d385714e488eb225ff23bd15e1a8",
       "version_major": 2,
       "version_minor": 0
      },
      "text/plain": [
       "  0%|          | 0/100 [00:00<?, ?it/s]"
      ]
     },
     "metadata": {},
     "output_type": "display_data"
    },
    {
     "name": "stdout",
     "output_type": "stream",
     "text": [
      "Epoch 96/100, Train loss: 11.2408, Val loss: 12.3980, Best Val loss: 12.3980\n",
      "Epoch 97/100, Train loss: 11.2436, Val loss: 12.3910, Best Val loss: 12.3910\n",
      "Epoch 98/100, Train loss: 11.2380, Val loss: 12.3883, Best Val loss: 12.3883\n",
      "Epoch 99/100, Train loss: 11.2233, Val loss: 12.3879, Best Val loss: 12.3879\n",
      "Epoch 100/100, Train loss: 11.2486, Val loss: 12.3876, Best Val loss: 12.3876\n",
      "\n",
      "\n",
      "< features: ['Open', 'Close'] >\n",
      "Shape of data X: (944, 15, 2)\n",
      "Shape of data y: (944,)\n",
      "Number of samples in training and validation are 680 and 170.\n"
     ]
    },
    {
     "data": {
      "application/vnd.jupyter.widget-view+json": {
       "model_id": "70e0d2d54f6944168b0f900d5483305e",
       "version_major": 2,
       "version_minor": 0
      },
      "text/plain": [
       "  0%|          | 0/100 [00:00<?, ?it/s]"
      ]
     },
     "metadata": {},
     "output_type": "display_data"
    },
    {
     "name": "stdout",
     "output_type": "stream",
     "text": [
      "Epoch 96/100, Train loss: 6.9007, Val loss: 8.1271, Best Val loss: 8.1271\n",
      "Epoch 97/100, Train loss: 6.8522, Val loss: 8.1259, Best Val loss: 8.1259\n",
      "Epoch 98/100, Train loss: 6.8772, Val loss: 8.1255, Best Val loss: 8.1255\n",
      "Epoch 99/100, Train loss: 6.9858, Val loss: 8.1254, Best Val loss: 8.1254\n",
      "Epoch 100/100, Train loss: 6.8556, Val loss: 8.1254, Best Val loss: 8.1254\n",
      "\n",
      "\n",
      "< features: ['Open', 'High', 'Close'] >\n",
      "Shape of data X: (944, 15, 3)\n",
      "Shape of data y: (944,)\n",
      "Number of samples in training and validation are 680 and 170.\n"
     ]
    },
    {
     "data": {
      "application/vnd.jupyter.widget-view+json": {
       "model_id": "7343784254b24cf0b971ac1dfc6bc840",
       "version_major": 2,
       "version_minor": 0
      },
      "text/plain": [
       "  0%|          | 0/100 [00:00<?, ?it/s]"
      ]
     },
     "metadata": {},
     "output_type": "display_data"
    },
    {
     "name": "stdout",
     "output_type": "stream",
     "text": [
      "Epoch 96/100, Train loss: 8.9206, Val loss: 10.2641, Best Val loss: 10.2641\n",
      "Epoch 97/100, Train loss: 9.0443, Val loss: 10.2603, Best Val loss: 10.2603\n",
      "Epoch 98/100, Train loss: 8.8021, Val loss: 10.2575, Best Val loss: 10.2575\n",
      "Epoch 99/100, Train loss: 8.9821, Val loss: 10.2562, Best Val loss: 10.2562\n",
      "Epoch 100/100, Train loss: 8.8128, Val loss: 10.2559, Best Val loss: 10.2559\n",
      "\n",
      "\n",
      "\n",
      "===== Experiment Results =====\n",
      "   window_size  step                          features   Train Loss  \\\n",
      "0           15     5          [Open, High, Low, Close]     6.081079   \n",
      "1           15     5  [Open, High, Low, Close, Volume]  1062.354582   \n",
      "2           15     5                            [Open]    11.023355   \n",
      "3           15     5                            [High]    11.058113   \n",
      "4           15     5                             [Low]    11.386346   \n",
      "5           15     5                           [Close]    11.248555   \n",
      "6           15     5                     [Open, Close]     6.855598   \n",
      "7           15     5               [Open, High, Close]     8.812822   \n",
      "\n",
      "     Val Loss  Best Val Loss  \n",
      "0    7.308459       7.186388  \n",
      "1  658.360841     649.325462  \n",
      "2   12.313432      12.313432  \n",
      "3   12.662424      12.662424  \n",
      "4   13.304366      13.304173  \n",
      "5   12.387646      12.387646  \n",
      "6    8.125357       8.125357  \n",
      "7   10.255887      10.255887  \n"
     ]
    }
   ],
   "source": [
    "import torch.optim as optim\n",
    "from torch.optim.lr_scheduler import CosineAnnealingLR\n",
    "from tqdm.auto import tqdm\n",
    "import matplotlib.pyplot as plt\n",
    "import random\n",
    "\n",
    "parameter_list = [\n",
    "    {'features': df[['Open', 'High', 'Low', 'Close']]},\n",
    "    {'features': df[['Open', 'High', 'Low', 'Close', 'Volume']]},\n",
    "    {'features': df[['Open']]},\n",
    "    {'features': df[['High']]},\n",
    "    {'features': df[['Low']]},\n",
    "    {'features': df[['Close']]},\n",
    "    {'features': df[['Open', 'Close']]},\n",
    "    {'features': df[['Open', 'High', 'Close']]},\n",
    "]\n",
    "\n",
    "the_best_val_loss = float('inf')\n",
    "best_window_size = None\n",
    "best_step = None\n",
    "best_pred_value = None\n",
    "best_actual_value = None\n",
    "best_train_losses = None\n",
    "best_val_losses = None\n",
    "\n",
    "results = []\n",
    "\n",
    "for parameter in parameter_list:\n",
    "    np.random.seed(42)\n",
    "    torch.manual_seed(42)\n",
    "    torch.cuda.manual_seed_all(42)\n",
    "    random.seed(42)\n",
    "    print(f'< features: {parameter['features'].columns.tolist()} >')\n",
    "    train_loader, val_loader, test_loader = data_processing_with_parameter(window_size=15,step=5,features=parameter['features'])\n",
    "    train_losses, val_losses, best_val_loss, model = run(train_loader, val_loader, epochs=100, input_dim=len(parameter['features'].columns.tolist()))\n",
    "    pred_value, actual_value = predict(test_loader=test_loader, model=model)\n",
    "    \n",
    "    print('\\n')\n",
    "\n",
    "    if best_val_loss < the_best_val_loss:\n",
    "        the_best_val_loss = best_val_loss\n",
    "        best_pred_value = pred_value\n",
    "        best_actual_value = actual_value\n",
    "        best_train_losses = train_losses\n",
    "        best_val_losses = val_losses\n",
    "        \n",
    "    results.append({\n",
    "        'window_size':15,\n",
    "        'step': 5,\n",
    "        'features': parameter['features'].columns.tolist(),\n",
    "        'Train Loss': train_losses[-1],\n",
    "        'Val Loss': val_losses[-1],\n",
    "        'Best Val Loss': best_val_loss\n",
    "    })\n",
    "\n",
    "# Create a result table\n",
    "df_results = pd.DataFrame(results)\n",
    "print(\"\\n===== Experiment Results =====\")\n",
    "print(df_results)\n",
    "df_results.to_csv(\"experiment_results2.csv\", index=False)"
   ]
  },
  {
   "cell_type": "markdown",
   "id": "3fd5c7b5",
   "metadata": {},
   "source": [
    "## F. Experiments for Nomalized Inputs"
   ]
  },
  {
   "cell_type": "code",
   "execution_count": 47,
   "id": "f25f8ddc",
   "metadata": {},
   "outputs": [
    {
     "name": "stdout",
     "output_type": "stream",
     "text": [
      "< features: ['Open', 'High', 'Low', 'Close'] >\n",
      "Shape of data X: (944, 15, 4)\n",
      "Shape of data y: (944,)\n",
      "Number of samples in training and validation are 680 and 170.\n"
     ]
    },
    {
     "data": {
      "application/vnd.jupyter.widget-view+json": {
       "model_id": "8468c1fd98b84ca7b0e49e3823e8a7b7",
       "version_major": 2,
       "version_minor": 0
      },
      "text/plain": [
       "  0%|          | 0/100 [00:00<?, ?it/s]"
      ]
     },
     "metadata": {},
     "output_type": "display_data"
    },
    {
     "name": "stdout",
     "output_type": "stream",
     "text": [
      "\n",
      "\n",
      "< features: ['Open', 'High', 'Low', 'Close', 'Volume'] >\n",
      "Shape of data X: (944, 15, 5)\n",
      "Shape of data y: (944,)\n",
      "Number of samples in training and validation are 680 and 170.\n"
     ]
    },
    {
     "data": {
      "application/vnd.jupyter.widget-view+json": {
       "model_id": "caa421f282b040ec88dcaba54431132d",
       "version_major": 2,
       "version_minor": 0
      },
      "text/plain": [
       "  0%|          | 0/100 [00:00<?, ?it/s]"
      ]
     },
     "metadata": {},
     "output_type": "display_data"
    },
    {
     "name": "stdout",
     "output_type": "stream",
     "text": [
      "\n",
      "\n",
      "\n",
      "===== Experiment Results =====\n",
      "   window_size  step  Normalize                          features  Train Loss  \\\n",
      "0           15     5       True          [Open, High, Low, Close]    0.001636   \n",
      "1           15     5       True  [Open, High, Low, Close, Volume]    0.001535   \n",
      "\n",
      "   Val Loss  Best Val Loss  \n",
      "0  0.001472       0.001304  \n",
      "1  0.001610       0.001398  \n"
     ]
    }
   ],
   "source": [
    "import torch.optim as optim\n",
    "from torch.optim.lr_scheduler import CosineAnnealingLR\n",
    "from tqdm.auto import tqdm\n",
    "import matplotlib.pyplot as plt\n",
    "import random\n",
    "from sklearn.preprocessing import StandardScaler\n",
    "\n",
    "Normalize = StandardScaler()\n",
    "df = pd.read_csv('nvda.us.txt')\n",
    "# Normalize the features\n",
    "df[['Open', 'High', 'Low', 'Close', 'Volume']] = Normalize.fit_transform(df[['Open', 'High', 'Low', 'Close', 'Volume']])\n",
    "\n",
    "parameter_list = [\n",
    "    {'features': df[['Open', 'High', 'Low', 'Close']], 'Normalize': True},\n",
    "    {'features': df[['Open', 'High', 'Low', 'Close', 'Volume']], 'Normalize': True}\n",
    "]\n",
    "\n",
    "the_best_val_loss = float('inf')\n",
    "best_window_size = None\n",
    "best_step = None\n",
    "best_pred_value = None\n",
    "best_actual_value = None\n",
    "best_train_losses = None\n",
    "best_val_losses = None\n",
    "\n",
    "results = []\n",
    "\n",
    "for parameter in parameter_list:\n",
    "    np.random.seed(42)\n",
    "    torch.manual_seed(42)\n",
    "    torch.cuda.manual_seed_all(42)\n",
    "    random.seed(42)\n",
    "    print(f'< features: {parameter['features'].columns.tolist()} >')\n",
    "    train_loader, val_loader, test_loader = data_processing_with_parameter(window_size=15,step=5,features=parameter['features'])\n",
    "    train_losses, val_losses, best_val_loss, model = run(train_loader, val_loader, epochs=100, input_dim=len(parameter['features'].columns.tolist()))\n",
    "    pred_value, actual_value = predict(test_loader=test_loader, model=model)\n",
    "    \n",
    "    print('\\n')\n",
    "\n",
    "    if best_val_loss < the_best_val_loss:\n",
    "        the_best_val_loss = best_val_loss\n",
    "        best_pred_value = pred_value\n",
    "        best_actual_value = actual_value\n",
    "        best_train_losses = train_losses\n",
    "        best_val_losses = val_losses\n",
    "        \n",
    "    results.append({\n",
    "        'window_size':15,\n",
    "        'step': 5,\n",
    "        'Normalize': parameter['Normalize'],\n",
    "        'features': parameter['features'].columns.tolist(),\n",
    "        'Train Loss': train_losses[-1],\n",
    "        'Val Loss': val_losses[-1],\n",
    "        'Best Val Loss': best_val_loss\n",
    "    })\n",
    "\n",
    "# Create a result table\n",
    "df_results = pd.DataFrame(results)\n",
    "print(\"\\n===== Experiment Results =====\")\n",
    "print(df_results)\n",
    "df_results.to_csv(\"experiment_results3.csv\", index=False)"
   ]
  }
 ],
 "metadata": {
  "accelerator": "GPU",
  "colab": {
   "gpuType": "T4",
   "provenance": [],
   "toc_visible": true
  },
  "kernelspec": {
   "display_name": "DL_py3.12",
   "language": "python",
   "name": "python3"
  },
  "language_info": {
   "codemirror_mode": {
    "name": "ipython",
    "version": 3
   },
   "file_extension": ".py",
   "mimetype": "text/x-python",
   "name": "python",
   "nbconvert_exporter": "python",
   "pygments_lexer": "ipython3",
   "version": "3.12.9"
  }
 },
 "nbformat": 4,
 "nbformat_minor": 5
}
